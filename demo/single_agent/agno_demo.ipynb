{
 "cells": [
  {
   "cell_type": "code",
   "execution_count": 1,
   "id": "33bee7d5",
   "metadata": {},
   "outputs": [],
   "source": [
    "import dotenv\n",
    "dotenv.load_dotenv(override=True)\n",
    "\n",
    "import os\n",
    "from typing import List\n",
    "from agno.agent import Agent\n",
    "from agno.tools.mcp import MCPTools\n",
    "from agno.storage.json import JsonStorage\n",
    "from agno.models.litellm import LiteLLM\n",
    "from agno.models.openai.like import OpenAILike\n",
    "\n",
    "import asyncio\n",
    "import nest_asyncio\n",
    "nest_asyncio.apply()"
   ]
  },
  {
   "cell_type": "code",
   "execution_count": null,
   "id": "5eb0d8f3",
   "metadata": {},
   "outputs": [],
   "source": [
    "# Initialize LiteLLM/ OpenAI-like model\n",
    "\n",
    "# model = LiteLLM(\n",
    "#     id = \"openai/gemma3:27b-it-qat\", # provider need to be added before model name\n",
    "#     api_base=\"https://ml.gss.com.tw/gemma3\",\n",
    "#     api_key=\"sk-test-key\",\n",
    "# )\n",
    "\n",
    "model = OpenAILike(\n",
    "    id = \"openai/gemma3:27b-it-qat\", # provider need to be added before model name\n",
    "    base_url=os.getenv(\"AGENT_BASE_URL\"),\n",
    "    api_key=os.getenv(\"AGENT_API_KEY\")\n",
    ")"
   ]
  },
  {
   "cell_type": "code",
   "execution_count": null,
   "id": "8f87b104",
   "metadata": {},
   "outputs": [],
   "source": [
    "# MCP server\n",
    "rag_mcp_command = f\"python3 /Agent_Framework_Demo/demo/1_rag_server.py stdio\"\n",
    "rag_mcp_server = MCPTools(\n",
    "    command=rag_mcp_command,\n",
    "    env={\n",
    "        \"OPENAI_BASE_URL\": os.getenv(\"OPENAI_BASE_URL\"),\n",
    "        \"OPENAI_API_KEY\": os.getenv(\"OPENAI_API_KEY\"),\n",
    "    },\n",
    "    timeout_seconds=60,\n",
    ")"
   ]
  },
  {
   "cell_type": "code",
   "execution_count": 9,
   "id": "44ca2afa",
   "metadata": {},
   "outputs": [],
   "source": [
    "# structured output\n",
    "from pydantic import BaseModel\n",
    "\n",
    "class Reference(BaseModel):\n",
    "    #relevant: bool\n",
    "    score: float\n",
    "    text: str\n",
    "\n",
    "class RAGFormat(BaseModel):\n",
    "    reference: List[Reference]\n",
    "    final_answer: str"
   ]
  },
  {
   "cell_type": "code",
   "execution_count": 10,
   "id": "badbb216",
   "metadata": {},
   "outputs": [],
   "source": [
    "# multi-turn conversation\n",
    "async def multi_turn_conversation(start_agent, user_id, session_id):\n",
    "    while True:\n",
    "        user_input = input(\"You: \")\n",
    "        print(f\"You: {user_input}\")\n",
    "\n",
    "        if user_input == \"exit\":\n",
    "            print(\"Agent: Goodbye!\")\n",
    "            return result\n",
    "\n",
    "        result = await start_agent.arun(\n",
    "            message = user_input,\n",
    "            user_id = user_id,\n",
    "            session_id = session_id,\n",
    "        )\n",
    "        print(f\"Agent: {result.content}\")\n",
    "    "
   ]
  },
  {
   "cell_type": "code",
   "execution_count": 11,
   "id": "aac27483",
   "metadata": {},
   "outputs": [],
   "source": [
    "# Agent\n",
    "async def main(mcp_server, user_id, session_id):\n",
    "    async with mcp_server as mcp_tools:\n",
    "        seeker_agent = Agent(\n",
    "            model = model,\n",
    "            instructions = (\n",
    "                \"You are a helpful and intelligent assistant. The user you are helping speaks Traditional Chinese and comes from Taiwan, so in most cases, you should respond in Traditional Chinese. \\n\"\n",
    "                \"Behavior Rules: \\n\"\n",
    "                \"1. Direct Answering: If the question is clear and within your knowledge, answer directly.\\n\"\n",
    "                \"2. Retrieval-Based Answering: If the question requires specialized or external knowledge, retrieve relevant documents from the specific vector database. When retrieving from the database, the user's original intent should be preserved as much as possible, and the clarity of the question's meaning should be maintained.\\n\"\n",
    "                \"3. Clarification: If the question is vague or unclear, ask clarifying questions to understand the user’s intent before responding.\\n\"\n",
    "            ),\n",
    "\n",
    "            # tool-use settings\n",
    "            tools = [mcp_tools],\n",
    "            show_tool_calls=True,\n",
    "\n",
    "            # history messages settings\n",
    "            storage=JsonStorage(dir_path=\"agno_storage\"),\n",
    "            add_history_to_messages=True,\n",
    "            num_history_runs=3,\n",
    "            \n",
    "            # structured output settings\n",
    "            response_model=RAGFormat,\n",
    "            parse_response=False, # if True, return Pydantic model\n",
    "        )\n",
    "        result = await multi_turn_conversation(seeker_agent, user_id, session_id)\n",
    "        return result"
   ]
  },
  {
   "cell_type": "code",
   "execution_count": 12,
   "id": "ae728c69",
   "metadata": {},
   "outputs": [
    {
     "name": "stdout",
     "output_type": "stream",
     "text": [
      "You: 今天天氣真好～臺北現在33度\n",
      "Agent: reference=[] final_answer='是啊，今天臺北天氣確實很好！33度是個熱情的好天氣呢。請問您有什麼需要我幫忙的嗎？'\n",
      "You: 我想要請假出去玩，有沒有什麼限制？\n",
      "Agent: reference=[Reference(score=0.7, text='此為依據勞動基準法所訂定的最基準工作時間。\\n一、每週工作時數不得超過四十小時。\\n二、每日工作時數為八小時。\\n三、每日工作時間為\\n08:30 開始上班\\n12:00 午休及午餐時間\\n13:00 下午工作時間開始\\n15:00 下午休息時間\\n15:15 繼續工作\\n17:30 下班\\n子女未滿一歲須員工親自哺乳者，除規定之休息時間外，本公司將每日另給哺乳時間二次，每次以三十分鐘為度，哺乳時間，視為工作時間。\\n員工為撫育未滿三歲子女，得請求下列所定事項之一：\\n1.\\t每天減少工作時間一小時；減少之工作時間，不得請求報酬。\\n2.\\t調整工作時間。\\n員工為前二項哺乳時間、減少或調整工時之請求時，本公司不得拒絕或視為缺勤而影響其全勤獎金、考績或為其他不利之處分。'), Reference(score=0.2645357, text='一、休假種類包含：特休假、生日假、普通傷病假、事假、家庭照顧假、婚假、喪假、產假、陪產假、產檢假、安胎假、公傷假、生理假、公假共十四種。\\n二、請假方法：員工因故必須請假者，應事先填寫請假單或口頭敘明理由經核定後方可離開工作崗位或不出勤。\\n \\n請假天數，核准主管權限及事前天數辦法如下：\\n請假天數\\t事前天數\\t核准主管權限\\n0<天數≦5\\t三天前\\t部門主管\\n5<天數≦10\\t一週前\\t處級主管\\n天數>10\\t兩週前\\t業務/事業群總經理\\n三、臨時狀況：同仁因突發事件或生病必須於當日請假者，得於當日10:00前以電話向主管報備，並於事後補辦請假手續。\\n四、同仁未依規定辦理請假手續者，事後又不補辦請假手續並說明原因者，視同曠職。')] final_answer='您好，公司請假規定如下：\\n\\n*   **休假種類：** 公司有特休假、事假、婚假等等共十四種休假種類。\\n*   **請假流程：** 需要事先填寫請假單或口頭敘明理由，經主管核定。\\n*   **事前申請天數：**\\n    *   5天以內：提前三天向部門主管申請\\n    *   5-10天：提前一週向處級主管申請\\n    *   10天以上：提前兩週向業務/事業群總經理申請\\n*   **臨時狀況：** 若是臨時狀況，當天早上10點前電話向主管報備，事後再補辦手續。\\n\\n請問您想請哪一種假呢？'\n",
      "You: 我想要請特休假三天\n",
      "Agent: reference=[Reference(score=0.7, text='此為依據勞動基準法所訂定的最基準工作時間。\\n一、每週工作時數不得超過四十小時。\\n二、每日工作時數為八小時。\\n三、每日工作時間為\\n08:30 開始上班\\n12:00 午休及午餐時間\\n13:00 下午工作時間開始\\n15:00 下午休息時間\\n15:15 繼續工作\\n17:30 下班\\n子女未滿一歲須員工親自哺乳者，除規定之休息時間外，本公司將每日另給哺乳時間二次，每次以三十分鐘為度，哺乳時間，視為工作時間。\\n員工為撫育未滿三歲子女，得請求下列所定事項之一：\\n1.\\t每天減少工作時間一小時；減少之工作時間，不得請求報酬。\\n2.\\t調整工作時間。\\n員工為前二項哺乳時間、減少或調整工時之請求時，本公司不得拒絕或視為缺勤而影響其全勤獎金、考績或為其他不利之處分。'), Reference(score=0.30635563, text='一、同仁於本公司繼續工作滿一定期間者，每年依下列規定給與特別休假:\\n年資\\t特休假日數\\n滿6個月~未滿1年\\t3天\\n滿1年~未滿2年\\t7天\\n滿2年~未滿3年\\t10天\\n滿3年~未滿5年\\t14天\\n滿5年~未滿10年\\t15天\\n滿10年以上\\t每年加一天至30天止\\n二、因年度終結而應休未休之日數，經勞資雙方協商，同仁可選擇全數遞延一年或結算薪資；遞延者，至多以遞延一年為限；若員工未於期限內回覆者，將一律結算薪資予同仁。\\n三、如特休年度屆滿或終止契約而應休未休之日數，將依原始年度之薪資結算給同仁。\\n四、同仁於年度開始時應做休假規劃，以期達到身心舒展的目的。休假之規劃應與主管取得溝通，以免造成工作安排之困擾。\\n五、特休假期間薪資照給。')] final_answer='好的，您想請特休假三天。公司規定，特休假天數依照年資有所不同，請您確認一下您的年資：\\n\\n*   滿6個月~未滿1年：3天\\n*   滿1年~未滿2年：7天\\n*   滿2年~未滿3年：10天\\n*   滿3年~未滿5年：14天\\n*   滿5年~未滿10年：15天\\n*   滿10年以上：每年加一天至30天止\\n\\n請您確認您的年資，並事先與主管溝通休假規劃喔！'\n",
      "You: exit\n",
      "Agent: Goodbye!\n"
     ]
    }
   ],
   "source": [
    "result = asyncio.run(main(rag_mcp_server, user_id=\"user_1\", session_id=\"session_1\"))"
   ]
  }
 ],
 "metadata": {
  "kernelspec": {
   "display_name": "Python(AgentFramework)",
   "language": "python",
   "name": "agent_framework"
  },
  "language_info": {
   "codemirror_mode": {
    "name": "ipython",
    "version": 3
   },
   "file_extension": ".py",
   "mimetype": "text/x-python",
   "name": "python",
   "nbconvert_exporter": "python",
   "pygments_lexer": "ipython3",
   "version": "3.12.10"
  }
 },
 "nbformat": 4,
 "nbformat_minor": 5
}
