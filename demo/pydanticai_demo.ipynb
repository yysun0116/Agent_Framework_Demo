{
 "cells": [
  {
   "cell_type": "code",
   "execution_count": 1,
   "id": "181b97c0",
   "metadata": {},
   "outputs": [],
   "source": [
    "import dotenv\n",
    "dotenv.load_dotenv(override=True)\n",
    "\n",
    "import os\n",
    "import uuid\n",
    "from typing import List, Union\n",
    "from pydantic_ai import Agent\n",
    "from pydantic_ai.models.openai import OpenAIModel\n",
    "from pydantic_ai.providers.openai import OpenAIProvider\n",
    "from pydantic_ai.messages import ToolReturnPart, TextPart, ModelResponse\n",
    "from pydantic_ai.mcp import MCPServerStdio\n",
    "import asyncio\n",
    "import nest_asyncio\n",
    "nest_asyncio.apply()"
   ]
  },
  {
   "cell_type": "markdown",
   "id": "22c5ecf6",
   "metadata": {},
   "source": [
    "# Agent Settings"
   ]
  },
  {
   "cell_type": "code",
   "execution_count": null,
   "id": "671d156b",
   "metadata": {},
   "outputs": [],
   "source": [
    "# Initialize Openai-like model\n",
    "model = OpenAIModel(\n",
    "    'gemma3:27b-it-qat',\n",
    "    provider=OpenAIProvider(\n",
    "        base_url=os.getenv(\"AGENT_BASE_URL\"), \n",
    "        api_key=os.getenv(\"AGENT_API_KEY\")\n",
    "    ),\n",
    ")\n",
    "# model = OpenAIModel(\n",
    "#     'mistral-small3.1-24b-instruct-2503',\n",
    "#     provider=OpenAIProvider(\n",
    "#         base_url=os.getenv(\"AGENT_BASE_URL\"), \n",
    "#         api_key=os.getenv(\"AGENT_API_KEY\")\n",
    "#     ),\n",
    "# )"
   ]
  },
  {
   "cell_type": "code",
   "execution_count": 3,
   "id": "dc32cd6d",
   "metadata": {},
   "outputs": [],
   "source": [
    "# structured output\n",
    "from pydantic import BaseModel\n",
    "\n",
    "class Reference(BaseModel):\n",
    "    relevant: bool\n",
    "    text: str\n",
    "\n",
    "class RAGFormat(BaseModel):\n",
    "    reference: List[Reference] # some model cannot use nested structure like this\n",
    "    final_answer: str"
   ]
  },
  {
   "cell_type": "code",
   "execution_count": 4,
   "id": "acf422f1",
   "metadata": {},
   "outputs": [],
   "source": [
    "# MCP server\n",
    "rag_mcp_command = f\"python3 {os.getcwd()}/1_rag_server.py stdio\"\n",
    "rag_mcp_server = MCPServerStdio(\n",
    "    command=rag_mcp_command.split(\" \")[0],\n",
    "    args=rag_mcp_command.split(\" \")[1:],\n",
    "    env={\n",
    "        \"OPENAI_BASE_URL\": os.getenv(\"OPENAI_BASE_URL\"),\n",
    "        \"OPENAI_API_KEY\": os.getenv(\"OPENAI_API_KEY\"),\n",
    "        },\n",
    ")\n",
    "\n",
    "# Agent initialization\n",
    "seeker_agent = Agent(\n",
    "    model=model,\n",
    "    instructions=(\n",
    "        \"You are a helpful and intelligent assistant. The user you are helping speaks Traditional Chinese and comes from Taiwan, so in most cases, you should respond in Traditional Chinese. \\n\"\n",
    "        \"Behavior Rules: \\n\"\n",
    "        \"1. Direct Answering: If the question is clear and within your knowledge, answer directly.\\n\"\n",
    "        \"2. Retrieval-Based Answering: If the question requires specialized or external knowledge, retrieve relevant documents from the specific vector database. When retrieving from the database, the user's original intent should be preserved as much as possible, and the clarity of the question's meaning should be maintained.\\n\"\n",
    "        \"3. Clarification: If the question is vague or unclear, ask clarifying questions to understand the user’s intent before responding.\\n\"\n",
    "        \"4. If the response doesn't fit the RAGFormat, just reply in plain text.\"\n",
    "    ),\n",
    "    mcp_servers=[rag_mcp_server],\n",
    "    output_type=Union[RAGFormat, str]\n",
    ")"
   ]
  },
  {
   "cell_type": "code",
   "execution_count": 5,
   "id": "067ab7a8",
   "metadata": {},
   "outputs": [],
   "source": [
    "# Multi-turn conversation\n",
    "def convert_tool_role_into_assistant(message_history):\n",
    "    # check if the last message is ToolReturnPart\n",
    "    if isinstance(message_history[-1].parts[0], ToolReturnPart):\n",
    "        raw_assistant_message = message_history[-2]\n",
    "        assistant_message = ModelResponse(\n",
    "            parts=[\n",
    "                TextPart(\n",
    "                    content = raw_assistant_message.parts[0].args,\n",
    "                    part_kind = \"text\",\n",
    "                ),\n",
    "            ],\n",
    "            usage = raw_assistant_message.usage,\n",
    "            model_name = raw_assistant_message.model_name,\n",
    "            timestamp = raw_assistant_message.timestamp,\n",
    "            kind = raw_assistant_message.kind,\n",
    "            vendor_id = raw_assistant_message.vendor_id\n",
    "            )\n",
    "        return message_history + [assistant_message]\n",
    "    else:\n",
    "        return message_history\n",
    "\n",
    "async def multi_turn_conversation(start_agent, full_history):\n",
    "    conversation_id = uuid.uuid4().hex[:16]\n",
    "    full_history[conversation_id] = []\n",
    "\n",
    "    message_history = []\n",
    "    while True:\n",
    "        user_input = input(\"You: \")\n",
    "        print(f\"You: {user_input}\")\n",
    "\n",
    "        if user_input == \"exit\":\n",
    "            print(\"Agent: Goodbye!\")\n",
    "            return result\n",
    "\n",
    "        if message_history != []:\n",
    "            result = await start_agent.run(user_prompt=user_input, message_history = message_history)\n",
    "        else:\n",
    "            result = await start_agent.run(user_prompt=user_input)\n",
    "        \n",
    "        print(f\"Agent: {result.output}\")\n",
    "\n",
    "        message_history = convert_tool_role_into_assistant(result.all_messages())\n",
    "        full_history[conversation_id] = message_history\n",
    "    "
   ]
  },
  {
   "cell_type": "code",
   "execution_count": 6,
   "id": "0f310a74",
   "metadata": {},
   "outputs": [],
   "source": [
    "full_history = {}\n",
    "async def main(full_history):\n",
    "    async with seeker_agent.run_mcp_servers():\n",
    "        result = await multi_turn_conversation(seeker_agent, full_history)\n",
    "    return result"
   ]
  },
  {
   "cell_type": "code",
   "execution_count": 36,
   "id": "a51303ba",
   "metadata": {},
   "outputs": [
    {
     "name": "stdout",
     "output_type": "stream",
     "text": [
      "You: 今天天氣真好～臺北現在33度\n",
      "Agent: 是啊，今天臺北天氣確實不錯！33度是很舒服的溫度。請問有什麼我可以幫您的嗎？\n",
      "You: 我想要請假出去玩，有沒有什麼限制？\n",
      "Agent: reference=[Reference(relevant=True, text='此為依據勞動基準法所訂定的最基準工作時間。\\n一、每週工作時數不得超過四十小時。\\n二、每日工作時數為八小時。\\n三、每日工作時間為\\n08:30 開始上班\\n12:00 午休及午餐時間\\n13:00 下午工作時間開始\\n15:00 下午休息時間\\n15:15 繼續工作\\n17:30 下班\\n子女未滿一歲須員工親自哺乳者，除規定之休息時間外，本公司將每日另給哺乳時間二次，每次以三十分鐘為度，哺乳時間，視為工作時間。\\n員工為撫育未滿三歲子女，得請求下列所定事項之一：\\n1.\\t每天減少工作時間一小時；減少之工作時間，不得請求報酬。\\n2.\\t調整工作時間。\\n員工為前二項哺乳時間、減少或調整工時之請求時，本公司不得拒絕或視為缺勤而影響其全勤獎金、考績或為其他不利之處分。'), Reference(relevant=True, text='一、休假種類包含：特休假、生日假、普通傷病假、事假、家庭照顧假、婚假、喪假、產假、陪產假、產檢假、安胎假、公傷假、生理假、公假共十四種。\\n二、請假方法：員工因故必須請假者，應事先填寫請假單或口頭敘明理由經核定後方可離開工作崗位或不出勤。\\n \\n請假天數，核准主管權限及事前天數辦法如下：\\n請假天數\\t事前天數\\t核准主管權限\\n0<天數≦5\\t三天前\\t部門主管\\n5<天數≦10\\t一週前\\t處級主管\\n天數>10\\t兩週前\\t業務/事業群總經理\\n三、臨時狀況：同仁因突發事件或生病必須於當日請假者，得於當日10:00前以電話向主管報備，並於事後補辦請假手續。\\n四、同仁未依規定辦理請假手續者，事後又不補辦請假手續並說明原因者，視同曠職。')] final_answer='請假規定依照勞動基準法，以及公司內部規定辦理。休假種類包含特休假、事假、婚假等等。請假天數不同，需要提前請假的時數也不同，通常部門主管可以核准5天以內的請假，超過5天需要處級主管核准，超過10天則需要總經理核准。 如果是臨時狀況，當天10點前向主管報備即可。請記得事先填寫請假單喔！'\n",
      "You: 我想要請特休假三天\n",
      "Agent: reference=[Reference(relevant=True, text='一、休假種類包含：特休假、生日假、普通傷病假、事假、家庭照顧假、婚假、喪假、產假、陪產假、產檢假、安胎假、公傷假、生理假、公假共十四種。\\n二、請假方法：員工因故必須請假者，應事先填寫請假單或口頭敘明理由經核定後方可離開工作崗位或不出勤。\\n \\n請假天數，核准主管權限及事前天數辦法如下：\\n請假天數\\t事前天數\\t核准主管權限\\n0<天數≦5\\t三天前\\t部門主管\\n5<天數≦10\\t一週前\\t處級主管\\n天數>10\\t兩週前\\t業務/事業群總經理\\n三、臨時狀況：同仁因突發事件或生病必須於當日10:00前以電話向主管報備，並於事後補辦請假手續。\\n四、同仁未依規定辦理請假手續者，事後又不補辦請假手續並說明原因者，視同曠職。')] final_answer='好的，您想要請特休假三天。依照公司規定，特休假需要提前三天向部門主管提出申請。請您記得填寫請假單並在三天前送出喔！'\n",
      "You: exit\n",
      "Agent: Goodbye!\n"
     ]
    }
   ],
   "source": [
    "result = asyncio.run(main(full_history))"
   ]
  },
  {
   "cell_type": "code",
   "execution_count": 37,
   "id": "c5983790",
   "metadata": {},
   "outputs": [
    {
     "data": {
      "text/plain": [
       "[ModelRequest(parts=[UserPromptPart(content='今天天氣真好～臺北現在33度', timestamp=datetime.datetime(2025, 6, 18, 9, 17, 55, 946168, tzinfo=datetime.timezone.utc), part_kind='user-prompt')], instructions=\"You are a helpful and intelligent assistant. The user you are helping speaks Traditional Chinese and comes from Taiwan, so in most cases, you should respond in Traditional Chinese. \\nBehavior Rules: \\n1. Direct Answering: If the question is clear and within your knowledge, answer directly.\\n2. Retrieval-Based Answering: If the question requires specialized or external knowledge, retrieve relevant documents from the specific vector database. When retrieving from the database, the user's original intent should be preserved as much as possible, and the clarity of the question's meaning should be maintained.\\n3. Clarification: If the question is vague or unclear, ask clarifying questions to understand the user’s intent before responding.\", kind='request'),\n",
       " ModelResponse(parts=[TextPart(content='是啊，今天臺北天氣確實不錯！33度是很舒服的溫度。請問有什麼我可以幫您的嗎？', part_kind='text')], usage=Usage(requests=1, request_tokens=1058, response_tokens=37, total_tokens=1095, details={}), model_name='gemma3:27b-it-qat', timestamp=datetime.datetime(2025, 6, 18, 9, 17, 58, tzinfo=datetime.timezone.utc), kind='response', vendor_id='chatcmpl-W84YKCsy7kPB6BsngomhT97SNHxht3vb'),\n",
       " ModelRequest(parts=[UserPromptPart(content='我想要請假出去玩，有沒有什麼限制？', timestamp=datetime.datetime(2025, 6, 18, 9, 18, 2, 262794, tzinfo=datetime.timezone.utc), part_kind='user-prompt')], instructions=\"You are a helpful and intelligent assistant. The user you are helping speaks Traditional Chinese and comes from Taiwan, so in most cases, you should respond in Traditional Chinese. \\nBehavior Rules: \\n1. Direct Answering: If the question is clear and within your knowledge, answer directly.\\n2. Retrieval-Based Answering: If the question requires specialized or external knowledge, retrieve relevant documents from the specific vector database. When retrieving from the database, the user's original intent should be preserved as much as possible, and the clarity of the question's meaning should be maintained.\\n3. Clarification: If the question is vague or unclear, ask clarifying questions to understand the user’s intent before responding.\", kind='request'),\n",
       " ModelResponse(parts=[ToolCallPart(tool_name='retrieve_fps_rules_db', args='{\"query\":\"請假規定\"}', tool_call_id='hp7Z5YeBxunw2KYUQPSgF4zTkyt3k0dm', part_kind='tool-call')], usage=Usage(requests=1, request_tokens=1105, response_tokens=48, total_tokens=1153, details={}), model_name='gemma3:27b-it-qat', timestamp=datetime.datetime(2025, 6, 18, 9, 18, 3, tzinfo=datetime.timezone.utc), kind='response', vendor_id='chatcmpl-pP4e1AdQWJ0k8tZpTTs7y7KfIyUtOaBc'),\n",
       " ModelRequest(parts=[ToolReturnPart(tool_name='retrieve_fps_rules_db', content=[{'score': 0.7, 'text': '此為依據勞動基準法所訂定的最基準工作時間。\\n一、每週工作時數不得超過四十小時。\\n二、每日工作時數為八小時。\\n三、每日工作時間為\\n08:30 開始上班\\n12:00 午休及午餐時間\\n13:00 下午工作時間開始\\n15:00 下午休息時間\\n15:15 繼續工作\\n17:30 下班\\n子女未滿一歲須員工親自哺乳者，除規定之休息時間外，本公司將每日另給哺乳時間二次，每次以三十分鐘為度，哺乳時間，視為工作時間。\\n員工為撫育未滿三歲子女，得請求下列所定事項之一：\\n1.\\t每天減少工作時間一小時；減少之工作時間，不得請求報酬。\\n2.\\t調整工作時間。\\n員工為前二項哺乳時間、減少或調整工時之請求時，本公司不得拒絕或視為缺勤而影響其全勤獎金、考績或為其他不利之處分。'}, {'score': 0.42953295, 'text': '一、薪資採月薪制，破月者薪資以月薪除以30算出日薪資再乘實際工作天數(含工作期間的例假日)。時薪則以日薪除以8計算得之。\\n二、薪資項目主要區分為二類\\n基本薪資：依同仁所任職務之不同所給予之工作報酬稱之。\\n主管加給：付與任管理職的同仁的薪資加給稱之。\\n薪資與職務對照表另行訂定，並依當時之物價指數不同而調整。'}, {'score': 0.3, 'text': '一、同仁因執行公務中受傷之病假，稱為公傷假。\\n二、公傷假之醫療費用，以勞工保險及公司加保之團保負擔之，其餘相關規定及補償辦法比照第八章災害傷病補償及撫卹之規定辦理。\\n三、職業災害未認定前，勞工得先請普通傷病假；普通傷病假期滿，得申請留職停薪，如認定結果為職業災害，再以公傷病假處理。'}, {'score': 0.28747067, 'text': '一、紀念日，勞動節日及中央主管機關規定應放假之日，是放假日。 \\n二、相關日期依當年政府規定於每年開始時，公告同仁周知。\\n三、主管或同仁個人因工作上的需要必須應用此放假日工作者，必須依照延長工作時間申請程序申請延長工作。\\n四、申請延長工作時間作業必須在規定期限內完成。\\n五、本延長工作時間之薪資按日工資再發一日。'}, {'score': 0.2645357, 'text': '一、休假種類包含：特休假、生日假、普通傷病假、事假、家庭照顧假、婚假、喪假、產假、陪產假、產檢假、安胎假、公傷假、生理假、公假共十四種。\\n二、請假方法：員工因故必須請假者，應事先填寫請假單或口頭敘明理由經核定後方可離開工作崗位或不出勤。\\n \\n請假天數，核准主管權限及事前天數辦法如下：\\n請假天數\\t事前天數\\t核准主管權限\\n0<天數≦5\\t三天前\\t部門主管\\n5<天數≦10\\t一週前\\t處級主管\\n天數>10\\t兩週前\\t業務/事業群總經理\\n三、臨時狀況：同仁因突發事件或生病必須於當日請假者，得於當日10:00前以電話向主管報備，並於事後補辦請假手續。\\n四、同仁未依規定辦理請假手續者，事後又不補辦請假手續並說明原因者，視同曠職。'}], tool_call_id='hp7Z5YeBxunw2KYUQPSgF4zTkyt3k0dm', timestamp=datetime.datetime(2025, 6, 18, 9, 18, 4, 950658, tzinfo=datetime.timezone.utc), part_kind='tool-return')], instructions=\"You are a helpful and intelligent assistant. The user you are helping speaks Traditional Chinese and comes from Taiwan, so in most cases, you should respond in Traditional Chinese. \\nBehavior Rules: \\n1. Direct Answering: If the question is clear and within your knowledge, answer directly.\\n2. Retrieval-Based Answering: If the question requires specialized or external knowledge, retrieve relevant documents from the specific vector database. When retrieving from the database, the user's original intent should be preserved as much as possible, and the clarity of the question's meaning should be maintained.\\n3. Clarification: If the question is vague or unclear, ask clarifying questions to understand the user’s intent before responding.\", kind='request'),\n",
       " ModelResponse(parts=[ToolCallPart(tool_name='final_result', args='{\"reference\":[{\"relevant\":true,\"text\":\"此為依據勞動基準法所訂定的最基準工作時間。\\\\n一、每週工作時數不得超過四十小時。\\\\n二、每日工作時數為八小時。\\\\n三、每日工作時間為\\\\n08:30 開始上班\\\\n12:00 午休及午餐時間\\\\n13:00 下午工作時間開始\\\\n15:00 下午休息時間\\\\n15:15 繼續工作\\\\n17:30 下班\\\\n子女未滿一歲須員工親自哺乳者，除規定之休息時間外，本公司將每日另給哺乳時間二次，每次以三十分鐘為度，哺乳時間，視為工作時間。\\\\n員工為撫育未滿三歲子女，得請求下列所定事項之一：\\\\n1.\\\\t每天減少工作時間一小時；減少之工作時間，不得請求報酬。\\\\n2.\\\\t調整工作時間。\\\\n員工為前二項哺乳時間、減少或調整工時之請求時，本公司不得拒絕或視為缺勤而影響其全勤獎金、考績或為其他不利之處分。\"},{\"relevant\":true,\"text\":\"一、休假種類包含：特休假、生日假、普通傷病假、事假、家庭照顧假、婚假、喪假、產假、陪產假、產檢假、安胎假、公傷假、生理假、公假共十四種。\\\\n二、請假方法：員工因故必須請假者，應事先填寫請假單或口頭敘明理由經核定後方可離開工作崗位或不出勤。\\\\n \\\\n請假天數，核准主管權限及事前天數辦法如下：\\\\n請假天數\\\\t事前天數\\\\t核准主管權限\\\\n0<天數≦5\\\\t三天前\\\\t部門主管\\\\n5<天數≦10\\\\t一週前\\\\t處級主管\\\\n天數>10\\\\t兩週前\\\\t業務/事業群總經理\\\\n三、臨時狀況：同仁因突發事件或生病必須於當日請假者，得於當日10:00前以電話向主管報備，並於事後補辦請假手續。\\\\n四、同仁未依規定辦理請假手續者，事後又不補辦請假手續並說明原因者，視同曠職。\"}],\"final_answer\":\"請假規定依照勞動基準法，以及公司內部規定辦理。休假種類包含特休假、事假、婚假等等。請假天數不同，需要提前請假的時數也不同，通常部門主管可以核准5天以內的請假，超過5天需要處級主管核准，超過10天則需要總經理核准。 如果是臨時狀況，當天10點前向主管報備即可。請記得事先填寫請假單喔！\"}', tool_call_id='14HIsqQerFhxzvsqkqmjJtvNE04WaoOQ', part_kind='tool-call')], usage=Usage(requests=1, request_tokens=2239, response_tokens=733, total_tokens=2972, details={}), model_name='gemma3:27b-it-qat', timestamp=datetime.datetime(2025, 6, 18, 9, 18, 23, tzinfo=datetime.timezone.utc), kind='response', vendor_id='chatcmpl-9EH5JdpLwLmOj2cBGE92XpptkWlw63m3'),\n",
       " ModelRequest(parts=[ToolReturnPart(tool_name='final_result', content='Final result processed.', tool_call_id='14HIsqQerFhxzvsqkqmjJtvNE04WaoOQ', timestamp=datetime.datetime(2025, 6, 18, 9, 18, 24, 163528, tzinfo=datetime.timezone.utc), part_kind='tool-return')], instructions=None, kind='request'),\n",
       " ModelResponse(parts=[TextPart(content='{\"reference\":[{\"relevant\":true,\"text\":\"此為依據勞動基準法所訂定的最基準工作時間。\\\\n一、每週工作時數不得超過四十小時。\\\\n二、每日工作時數為八小時。\\\\n三、每日工作時間為\\\\n08:30 開始上班\\\\n12:00 午休及午餐時間\\\\n13:00 下午工作時間開始\\\\n15:00 下午休息時間\\\\n15:15 繼續工作\\\\n17:30 下班\\\\n子女未滿一歲須員工親自哺乳者，除規定之休息時間外，本公司將每日另給哺乳時間二次，每次以三十分鐘為度，哺乳時間，視為工作時間。\\\\n員工為撫育未滿三歲子女，得請求下列所定事項之一：\\\\n1.\\\\t每天減少工作時間一小時；減少之工作時間，不得請求報酬。\\\\n2.\\\\t調整工作時間。\\\\n員工為前二項哺乳時間、減少或調整工時之請求時，本公司不得拒絕或視為缺勤而影響其全勤獎金、考績或為其他不利之處分。\"},{\"relevant\":true,\"text\":\"一、休假種類包含：特休假、生日假、普通傷病假、事假、家庭照顧假、婚假、喪假、產假、陪產假、產檢假、安胎假、公傷假、生理假、公假共十四種。\\\\n二、請假方法：員工因故必須請假者，應事先填寫請假單或口頭敘明理由經核定後方可離開工作崗位或不出勤。\\\\n \\\\n請假天數，核准主管權限及事前天數辦法如下：\\\\n請假天數\\\\t事前天數\\\\t核准主管權限\\\\n0<天數≦5\\\\t三天前\\\\t部門主管\\\\n5<天數≦10\\\\t一週前\\\\t處級主管\\\\n天數>10\\\\t兩週前\\\\t業務/事業群總經理\\\\n三、臨時狀況：同仁因突發事件或生病必須於當日請假者，得於當日10:00前以電話向主管報備，並於事後補辦請假手續。\\\\n四、同仁未依規定辦理請假手續者，事後又不補辦請假手續並說明原因者，視同曠職。\"}],\"final_answer\":\"請假規定依照勞動基準法，以及公司內部規定辦理。休假種類包含特休假、事假、婚假等等。請假天數不同，需要提前請假的時數也不同，通常部門主管可以核准5天以內的請假，超過5天需要處級主管核准，超過10天則需要總經理核准。 如果是臨時狀況，當天10點前向主管報備即可。請記得事先填寫請假單喔！\"}', part_kind='text')], usage=Usage(requests=1, request_tokens=2239, response_tokens=733, total_tokens=2972, details={}), model_name='gemma3:27b-it-qat', timestamp=datetime.datetime(2025, 6, 18, 9, 18, 23, tzinfo=datetime.timezone.utc), kind='response', vendor_id='chatcmpl-9EH5JdpLwLmOj2cBGE92XpptkWlw63m3'),\n",
       " ModelRequest(parts=[UserPromptPart(content='我想要請特休假三天', timestamp=datetime.datetime(2025, 6, 18, 9, 18, 35, 214761, tzinfo=datetime.timezone.utc), part_kind='user-prompt')], instructions=\"You are a helpful and intelligent assistant. The user you are helping speaks Traditional Chinese and comes from Taiwan, so in most cases, you should respond in Traditional Chinese. \\nBehavior Rules: \\n1. Direct Answering: If the question is clear and within your knowledge, answer directly.\\n2. Retrieval-Based Answering: If the question requires specialized or external knowledge, retrieve relevant documents from the specific vector database. When retrieving from the database, the user's original intent should be preserved as much as possible, and the clarity of the question's meaning should be maintained.\\n3. Clarification: If the question is vague or unclear, ask clarifying questions to understand the user’s intent before responding.\", kind='request'),\n",
       " ModelResponse(parts=[ToolCallPart(tool_name='final_result', args='{\"reference\":[{\"relevant\":true,\"text\":\"一、休假種類包含：特休假、生日假、普通傷病假、事假、家庭照顧假、婚假、喪假、產假、陪產假、產檢假、安胎假、公傷假、生理假、公假共十四種。\\\\n二、請假方法：員工因故必須請假者，應事先填寫請假單或口頭敘明理由經核定後方可離開工作崗位或不出勤。\\\\n \\\\n請假天數，核准主管權限及事前天數辦法如下：\\\\n請假天數\\\\t事前天數\\\\t核准主管權限\\\\n0<天數≦5\\\\t三天前\\\\t部門主管\\\\n5<天數≦10\\\\t一週前\\\\t處級主管\\\\n天數>10\\\\t兩週前\\\\t業務/事業群總經理\\\\n三、臨時狀況：同仁因突發事件或生病必須於當日10:00前以電話向主管報備，並於事後補辦請假手續。\\\\n四、同仁未依規定辦理請假手續者，事後又不補辦請假手續並說明原因者，視同曠職。\"}],\"final_answer\":\"好的，您想要請特休假三天。依照公司規定，特休假需要提前三天向部門主管提出申請。請您記得填寫請假單並在三天前送出喔！\"}', tool_call_id='ZbojBLuCLBLBtTDPdXDDOdgAgBCjwKS1', part_kind='tool-call')], usage=Usage(requests=1, request_tokens=3754, response_tokens=388, total_tokens=4142, details={}), model_name='gemma3:27b-it-qat', timestamp=datetime.datetime(2025, 6, 18, 9, 18, 46, tzinfo=datetime.timezone.utc), kind='response', vendor_id='chatcmpl-vZSJaGNNCoRBPdmzi4hWuaCR30BIvmCL'),\n",
       " ModelRequest(parts=[ToolReturnPart(tool_name='final_result', content='Final result processed.', tool_call_id='ZbojBLuCLBLBtTDPdXDDOdgAgBCjwKS1', timestamp=datetime.datetime(2025, 6, 18, 9, 18, 46, 901403, tzinfo=datetime.timezone.utc), part_kind='tool-return')], instructions=None, kind='request')]"
      ]
     },
     "execution_count": 37,
     "metadata": {},
     "output_type": "execute_result"
    }
   ],
   "source": [
    "result.all_messages()"
   ]
  },
  {
   "cell_type": "code",
   "execution_count": 40,
   "id": "ef3ad3d3",
   "metadata": {},
   "outputs": [
    {
     "data": {
      "text/plain": [
       "[ModelRequest(parts=[UserPromptPart(content='我想要請特休假三天', timestamp=datetime.datetime(2025, 6, 18, 9, 18, 35, 214761, tzinfo=datetime.timezone.utc), part_kind='user-prompt')], instructions=\"You are a helpful and intelligent assistant. The user you are helping speaks Traditional Chinese and comes from Taiwan, so in most cases, you should respond in Traditional Chinese. \\nBehavior Rules: \\n1. Direct Answering: If the question is clear and within your knowledge, answer directly.\\n2. Retrieval-Based Answering: If the question requires specialized or external knowledge, retrieve relevant documents from the specific vector database. When retrieving from the database, the user's original intent should be preserved as much as possible, and the clarity of the question's meaning should be maintained.\\n3. Clarification: If the question is vague or unclear, ask clarifying questions to understand the user’s intent before responding.\", kind='request'),\n",
       " ModelResponse(parts=[ToolCallPart(tool_name='final_result', args='{\"reference\":[{\"relevant\":true,\"text\":\"一、休假種類包含：特休假、生日假、普通傷病假、事假、家庭照顧假、婚假、喪假、產假、陪產假、產檢假、安胎假、公傷假、生理假、公假共十四種。\\\\n二、請假方法：員工因故必須請假者，應事先填寫請假單或口頭敘明理由經核定後方可離開工作崗位或不出勤。\\\\n \\\\n請假天數，核准主管權限及事前天數辦法如下：\\\\n請假天數\\\\t事前天數\\\\t核准主管權限\\\\n0<天數≦5\\\\t三天前\\\\t部門主管\\\\n5<天數≦10\\\\t一週前\\\\t處級主管\\\\n天數>10\\\\t兩週前\\\\t業務/事業群總經理\\\\n三、臨時狀況：同仁因突發事件或生病必須於當日10:00前以電話向主管報備，並於事後補辦請假手續。\\\\n四、同仁未依規定辦理請假手續者，事後又不補辦請假手續並說明原因者，視同曠職。\"}],\"final_answer\":\"好的，您想要請特休假三天。依照公司規定，特休假需要提前三天向部門主管提出申請。請您記得填寫請假單並在三天前送出喔！\"}', tool_call_id='ZbojBLuCLBLBtTDPdXDDOdgAgBCjwKS1', part_kind='tool-call')], usage=Usage(requests=1, request_tokens=3754, response_tokens=388, total_tokens=4142, details={}), model_name='gemma3:27b-it-qat', timestamp=datetime.datetime(2025, 6, 18, 9, 18, 46, tzinfo=datetime.timezone.utc), kind='response', vendor_id='chatcmpl-vZSJaGNNCoRBPdmzi4hWuaCR30BIvmCL'),\n",
       " ModelRequest(parts=[ToolReturnPart(tool_name='final_result', content='Final result processed.', tool_call_id='ZbojBLuCLBLBtTDPdXDDOdgAgBCjwKS1', timestamp=datetime.datetime(2025, 6, 18, 9, 18, 46, 901403, tzinfo=datetime.timezone.utc), part_kind='tool-return')], instructions=None, kind='request')]"
      ]
     },
     "execution_count": 40,
     "metadata": {},
     "output_type": "execute_result"
    }
   ],
   "source": [
    "result.new_messages()"
   ]
  },
  {
   "cell_type": "markdown",
   "id": "edcf4c02",
   "metadata": {},
   "source": [
    "# Tools Setting"
   ]
  },
  {
   "cell_type": "code",
   "execution_count": 42,
   "id": "ed8ddca6",
   "metadata": {},
   "outputs": [],
   "source": [
    "# 直接用decorator設定，不用再額外放入Agent()\n",
    "@seeker_agent.tool_plain\n",
    "def calculate_bmi(weight_kg: float, height_m: float) -> float:\n",
    "    \"\"\"Calculate BMI given weight in kg and height in meters\"\"\"\n",
    "    return weight_kg / (height_m**2)"
   ]
  },
  {
   "cell_type": "code",
   "execution_count": 46,
   "id": "94bd4d5e",
   "metadata": {},
   "outputs": [
    {
     "name": "stdout",
     "output_type": "stream",
     "text": [
      "You: 我的身高160公分，體重45公斤\n",
      "Agent: 您的BMI是17.58。根據BMI指數，您屬於體重過輕的範圍。建議您可以諮詢醫生或營養師，看看是否有需要改善的地方，並確保飲食均衡和適當的運動。\n",
      "You: exit\n",
      "Agent: Goodbye!\n"
     ]
    }
   ],
   "source": [
    "result = asyncio.run(main(full_history))"
   ]
  }
 ],
 "metadata": {
  "kernelspec": {
   "display_name": "Python(AgentFramework)",
   "language": "python",
   "name": "agent_framework"
  },
  "language_info": {
   "codemirror_mode": {
    "name": "ipython",
    "version": 3
   },
   "file_extension": ".py",
   "mimetype": "text/x-python",
   "name": "python",
   "nbconvert_exporter": "python",
   "pygments_lexer": "ipython3",
   "version": "3.12.10"
  }
 },
 "nbformat": 4,
 "nbformat_minor": 5
}
