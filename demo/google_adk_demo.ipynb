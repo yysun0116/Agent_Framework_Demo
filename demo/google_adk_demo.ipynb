{
 "cells": [
  {
   "cell_type": "code",
   "execution_count": null,
   "id": "47bc4da5",
   "metadata": {},
   "outputs": [],
   "source": [
    "import dotenv\n",
    "dotenv.load_dotenv(override=True)\n",
    "\n",
    "import os\n",
    "from typing import List\n",
    "from datetime import datetime\n",
    "from google.adk import Runner\n",
    "from google.adk.agents import LlmAgent\n",
    "from google.adk.models.lite_llm import LiteLlm\n",
    "from google.adk.tools.mcp_tool.mcp_toolset import MCPToolset, StdioServerParameters\n",
    "from google.adk.sessions import InMemorySessionService\n",
    "from google.genai.types import Content, Part\n",
    "\n",
    "import asyncio\n",
    "import nest_asyncio\n",
    "nest_asyncio.apply()"
   ]
  },
  {
   "cell_type": "code",
   "execution_count": null,
   "id": "05c8aff4",
   "metadata": {},
   "outputs": [],
   "source": [
    "# Initialize LiteLLM model\n",
    "model = LiteLlm(\n",
    "    model=\"openai/gemma3:27b-it-qat\", # provider need to be added before model name\n",
    "    api_base=os.getenv(\"AGENT_BASE_URL\"),\n",
    "    api_key=os.getenv(\"AGENT_API_KEY\")\n",
    ")\n",
    "\n",
    "# model = LiteLlm(\n",
    "#     model='openai/mistral-small3.1-24b-instruct-2503',\n",
    "#     api_base=os.getenv(\"AGENT_BASE_URL\"),\n",
    "#     api_key=os.getenv(\"AGENT_API_KEY\")\n",
    "# )"
   ]
  },
  {
   "cell_type": "code",
   "execution_count": null,
   "id": "da365c54",
   "metadata": {},
   "outputs": [],
   "source": [
    "# Structured output (cannot be used with tools)\n",
    "from pydantic import BaseModel\n",
    "\n",
    "class Reference(BaseModel):\n",
    "    relevant: bool\n",
    "    text: str\n",
    "\n",
    "class RAGFormat(BaseModel):\n",
    "    reference: List[Reference]\n",
    "    final_answer: str"
   ]
  },
  {
   "cell_type": "code",
   "execution_count": null,
   "id": "694d271a",
   "metadata": {},
   "outputs": [],
   "source": [
    "# MCP server\n",
    "rag_mcp_command = f\"python3 {os.getcwd()}/1_rag_server.py stdio\"\n",
    "rag_mcp_server = MCPToolset(\n",
    "    connection_params = StdioServerParameters(\n",
    "        command=rag_mcp_command.split(\" \")[0],\n",
    "        args=rag_mcp_command.split(\" \")[1:],\n",
    "        env={\n",
    "            \"OPENAI_BASE_URL\": os.getenv(\"OPENAI_BASE_URL\"),\n",
    "            \"OPENAI_API_KEY\": os.getenv(\"OPENAI_API_KEY\"),\n",
    "            },\n",
    "    )\n",
    ")\n",
    "\n",
    "# Agent Initialization\n",
    "seeker_agent = LlmAgent(\n",
    "    model=model,\n",
    "    name=\"seeker_agent\",\n",
    "    description=(\n",
    "        \"seeker agent that can utilize retrieval tools to help the user with their query.\"\n",
    "    ),\n",
    "    instruction=(\n",
    "        \"You are a helpful and intelligent assistant. The user you are helping speaks Traditional Chinese and comes from Taiwan, so in most cases, you should respond in Traditional Chinese. \\n\"\n",
    "        \"Behavior Rules: \\n\"\n",
    "        \"1. Direct Answering: If the question is clear and within your knowledge, answer directly.\\n\"\n",
    "        \"2. Retrieval-Based Answering: If the question requires specialized or external knowledge, retrieve relevant documents from the specific vector database. When retrieving from the database, the user's original intent should be preserved as much as possible, and the clarity of the question's meaning should be maintained.\\n\"\n",
    "        \"3. Clarification: If the question is vague or unclear, ask clarifying questions to understand the user’s intent before responding.\\n\"\n",
    "    ),\n",
    "    tools=[rag_mcp_server],\n",
    ")"
   ]
  },
  {
   "cell_type": "code",
   "execution_count": null,
   "id": "b4099bc7",
   "metadata": {},
   "outputs": [
    {
     "name": "stdout",
     "output_type": "stream",
     "text": [
      "--- Examining Session Properties ---\n",
      "ID (`id`):                session_id_1\n",
      "Application Name (`app_name`): agentic_rag\n",
      "User ID (`user_id`):         example_user\n",
      "State (`state`):           {}\n",
      "Events (`events`):         []\n",
      "Last Update (`last_update_time`): 2025-06-18 15:03:04.723543\n",
      "------------------------------------\n"
     ]
    }
   ],
   "source": [
    "# SessionService: tracing individual conversations\n",
    "## Session: new conversation thread, with specific ID\n",
    "## Event: new interactions\n",
    "## State: key-value pairs collection, storing structured information\n",
    "session_service = InMemorySessionService() # States lost on restart. Use DatabaseSessionService or VertexAiSessionService to save them.\n",
    "example_session = await session_service.create_session(\n",
    "     app_name=\"agentic_rag\",\n",
    "     session_id=\"session_id_1\",\n",
    "     user_id=\"example_user\",\n",
    "    #  state={\n",
    "    #      \"initial_key\": \"initial_value\",\n",
    "    # } # State can be initialized\n",
    " )\n",
    "print(f\"--- Examining Session Properties ---\")\n",
    "print(f\"ID (`id`):                {example_session.id}\")\n",
    "print(f\"Application Name (`app_name`): {example_session.app_name}\")\n",
    "print(f\"User ID (`user_id`):         {example_session.user_id}\")\n",
    "print(f\"State (`state`):           {example_session.state}\") # Note: Only shows initial state here\n",
    "print(f\"Events (`events`):         {example_session.events}\") # Initially empty\n",
    "print(f\"Last Update (`last_update_time`): {datetime.fromtimestamp(example_session.last_update_time).strftime(\"%Y-%m-%d %H:%M:%S.%f\")}\")\n",
    "print(f\"------------------------------------\")  \n",
    "\n",
    "## clean up SessionService\n",
    "# local_service = await local_service.delete_session(\n",
    "#     app_name=example_session.app_name,\n",
    "#     user_id=example_session.user_id, \n",
    "#     session_id=example_session.id\n",
    "# )"
   ]
  },
  {
   "cell_type": "code",
   "execution_count": 127,
   "id": "9a982fd9",
   "metadata": {},
   "outputs": [],
   "source": [
    "# Initialize Agent Runner\n",
    "runner = Runner(\n",
    "    app_name=\"agentic_rag\",\n",
    "    agent=seeker_agent,\n",
    "    session_service=session_service,\n",
    ")"
   ]
  },
  {
   "cell_type": "code",
   "execution_count": null,
   "id": "f1fb797e",
   "metadata": {},
   "outputs": [],
   "source": [
    "# Multi-turn conversation\n",
    "async def multi_turn_conversation(runner, user_id, session_id):\n",
    "    while True:\n",
    "        user_input = input(\"You: \")\n",
    "        print(f\"You: {user_input}\")\n",
    "\n",
    "        if user_input == \"exit\":\n",
    "            print(\"Agent: Goodbye!\")\n",
    "            return event\n",
    "\n",
    "        new_message = Content(parts=[Part(text=user_input)])\n",
    "        async for event in runner.run_async( # async generator\n",
    "            user_id=user_id,\n",
    "            session_id=session_id,\n",
    "            new_message=new_message,\n",
    "            ):\n",
    "                # print(event)\n",
    "                # updated_session = await session_service.get_session(app_name=\"agentic_rag\", user_id=\"example_user\", session_id=\"session_id_1\")\n",
    "                # print(f\"Events after agent run: {updated_session.events}\") \n",
    "                if event.is_final_response():\n",
    "                    print(f\"Agent: {event.content.parts[0].text}\")"
   ]
  },
  {
   "cell_type": "code",
   "execution_count": null,
   "id": "a1c110db",
   "metadata": {},
   "outputs": [],
   "source": [
    "async def main(runner):\n",
    "    result = await multi_turn_conversation(\n",
    "        runner=runner,\n",
    "        user_id=\"example_user\",\n",
    "        session_id=\"session_id_1\"\n",
    "    )\n",
    "    return result  "
   ]
  },
  {
   "cell_type": "code",
   "execution_count": null,
   "id": "d9a596a5",
   "metadata": {},
   "outputs": [],
   "source": [
    "asyncio.run(main(session_service))"
   ]
  }
 ],
 "metadata": {
  "kernelspec": {
   "display_name": "Python(AgentFramework)",
   "language": "python",
   "name": "agent_framework"
  },
  "language_info": {
   "codemirror_mode": {
    "name": "ipython",
    "version": 3
   },
   "file_extension": ".py",
   "mimetype": "text/x-python",
   "name": "python",
   "nbconvert_exporter": "python",
   "pygments_lexer": "ipython3",
   "version": "3.12.10"
  }
 },
 "nbformat": 4,
 "nbformat_minor": 5
}
