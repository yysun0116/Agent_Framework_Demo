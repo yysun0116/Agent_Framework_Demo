{
 "cells": [
  {
   "cell_type": "code",
   "execution_count": null,
   "id": "595a2603",
   "metadata": {},
   "outputs": [],
   "source": [
    "import dotenv\n",
    "dotenv.load_dotenv(override=True)\n",
    "\n",
    "import os\n",
    "import json\n",
    "import uuid\n",
    "import numpy as np\n",
    "from pydantic import BaseModel\n",
    "from llama_index.core.schema import TextNode\n",
    "\n",
    "from lassie.core.model_loader import ModelLoader\n",
    "from lassie.core.indices import IndexLoader \n",
    "from lassie.core.retriever import RetrieverBuilder\n",
    "\n",
    "from agents import (\n",
    "    Agent, \n",
    "    Runner, \n",
    "    trace, \n",
    "    function_tool,\n",
    "    TResponseInputItem\n",
    ")\n",
    "from agents.extensions.visualization import draw_graph\n",
    "from agents.extensions.models.litellm_model import LitellmModel\n",
    "from agents.mcp import MCPServerStdio\n",
    "\n",
    "import asyncio\n",
    "import nest_asyncio\n",
    "nest_asyncio.apply()"
   ]
  },
  {
   "cell_type": "markdown",
   "id": "b1144094",
   "metadata": {},
   "source": [
    "# Tools setting"
   ]
  },
  {
   "cell_type": "code",
   "execution_count": null,
   "id": "9025d029",
   "metadata": {},
   "outputs": [],
   "source": [
    "## load embedding model \n",
    "rag_models = ModelLoader(llm_source = \"openailike\", embed_model_source = \"openailike\")\n",
    "rag_models._embed_model, rag_models._embed_model_tokenizer = rag_models.load_embedding_model(\n",
    "    base_url = os.getenv(\"OPENAI_BASE_URL\"),\n",
    "    api_key = os.getenv(\"OPENAI_API_KEY\", \"sk-fake-key\"),\n",
    "    model_name = \"nomic-embed-text:latest\",\n",
    "    max_length = 512,\n",
    "    prefix_tokens = (\"search_query: \", \"search_document: \"),\n",
    "    tokenizer_name = \"nomic-ai/nomic-embed-text-v2-moe\"\n",
    ")\n",
    "index_loader = IndexLoader(loaded_models = rag_models, database_type = \"opensearch\")\n",
    "retriever_builder = RetrieverBuilder(loaded_models = rag_models, retriever_type = \"vector_index\")"
   ]
  },
  {
   "cell_type": "code",
   "execution_count": null,
   "id": "bdf6149f",
   "metadata": {},
   "outputs": [],
   "source": [
    "# Retriever (LassieRAG)\n",
    "from typing import List\n",
    "from llama_index.core.schema import NodeWithScore\n",
    "\n",
    "@function_tool\n",
    "def retrieve_in_vector_database(index_name: str, query: str) -> List[NodeWithScore]:\n",
    "    \"\"\"\n",
    "    Retrieve information relevant to the user query. \n",
    "\n",
    "    Args: \n",
    "        index_name: the index name of vector database\n",
    "        #TODO: 把index描述移到這邊\n",
    "        query: the query from user used to retrieve the relevant information in the vector database\n",
    "    \n",
    "    Returns:\n",
    "        List[str]: The clarificarion response from the user\n",
    "    \"\"\"\n",
    "    index = index_loader.load(\n",
    "        host = \"http://localhost:9200\",\n",
    "        http_auth = (\"admin\", \"admin\"),\n",
    "        index_name = index_name,\n",
    "        search_pipeline_name = \"hybrid_search\",\n",
    "    )\n",
    "    retriever = retriever_builder.build(index = index, similarity_top_k = 5, vector_store_query_mode = \"hybrid\")\n",
    "    retrieved_nodes = asyncio.run(retriever.aretrieve(query))\n",
    "    return [\n",
    "        {\n",
    "            \"score\": node.score,\n",
    "            \"text\": node.node.text,\n",
    "        } \n",
    "        for node in retrieved_nodes\n",
    "    ]\n",
    "\n",
    "# retrieved_nodes = retrieve_in_vector_database(index_name = \"fps_rules\", query=\"端午節加班可以有多少加班費？\")"
   ]
  },
  {
   "cell_type": "markdown",
   "id": "9a87ee85",
   "metadata": {},
   "source": [
    "# Agent settings"
   ]
  },
  {
   "cell_type": "code",
   "execution_count": 3,
   "id": "157ee686",
   "metadata": {},
   "outputs": [],
   "source": [
    "# structured output\n",
    "from pydantic import BaseModel\n",
    "\n",
    "class Reference(BaseModel):\n",
    "    score: float\n",
    "    text: str\n",
    "\n",
    "class RAGFormat(BaseModel):\n",
    "    reference: List[Reference]\n",
    "    final_answer: str\n"
   ]
  },
  {
   "cell_type": "code",
   "execution_count": null,
   "id": "63e62027",
   "metadata": {},
   "outputs": [],
   "source": [
    "# for multi-turn conversation managing\n",
    "def get_visible_messages(messages, max_turns = 3):\n",
    "    if len(messages) >= 2 * max_turns:\n",
    "        return messages[-(2 * max_turns):]\n",
    "    else:\n",
    "        return messages\n",
    "\n",
    "\n",
    "def append_new_turn(conversation_log: list[dict], messages: list[dict], result_input_list: list[dict]):\n",
    "    return conversation_log[:-len(messages)] + result_input_list\n",
    "\n",
    "async def multi_turn_conversation(start_agent, full_history):\n",
    "    convo: List[TResponseInputItem] = []\n",
    "    conversation_id = uuid.uuid4().hex[:16]\n",
    "    full_history[conversation_id] = []\n",
    "    \n",
    "    while True:\n",
    "        with trace(\"RAG service\", group_id=conversation_id):\n",
    "            user_input = input(\"You: \")\n",
    "            print(f\"You: {user_input}\")\n",
    "\n",
    "            if user_input == \"exit\":\n",
    "                print(\"Goodbye!\")\n",
    "                exit\n",
    "                \n",
    "            full_history[conversation_id].append({\"role\": \"user\", \"content\": user_input})\n",
    "            convo = get_visible_messages(full_history[conversation_id])\n",
    "            #result = await Runner.run(starting_agent = start_agent, input = convo)\n",
    "            result = await Runner.run(starting_agent = start_agent, input = full_history[conversation_id])\n",
    "            print(f\"Agent: {result.final_output}\")\n",
    "\n",
    "            full_history[conversation_id] = append_new_turn(full_history[conversation_id], convo, result.to_input_list())\n",
    "        return result"
   ]
  },
  {
   "cell_type": "code",
   "execution_count": null,
   "id": "6d05ef69",
   "metadata": {},
   "outputs": [],
   "source": [
    "# Agent\n",
    "full_history = {}\n",
    "\n",
    "async def main(full_history):\n",
    "    rag_mcp_command = f\"python {os.getcwd()}/1_rag_server.py\"\n",
    "    rag_mcp_server = MCPServerStdio(\n",
    "        name = \"RAG MCP Server\",\n",
    "        params={\n",
    "            \"command\": rag_mcp_command.split(\" \")[0],\n",
    "            \"args\": rag_mcp_command.split(\" \")[1:],\n",
    "            \"env\": {\n",
    "                \"OPENAI_BASE_URL\": \"https://your.model.endpoint\",\n",
    "                \"OPENAI_API_KEY\": \"sk-test-key\"\n",
    "                }\n",
    "        },\n",
    "        client_session_timeout_seconds = 60,\n",
    "    )\n",
    "    async with rag_mcp_server as rag:\n",
    "        tools  = await rag.list_tools()\n",
    "        print(tools)\n",
    "        seeker_agent = Agent(\n",
    "            name = \"seeker_agent\",\n",
    "            instructions = (\n",
    "                \"You are a helpful and intelligent assistant. The user you are helping speaks Traditional Chinese and comes from Taiwan, so in most cases, you should respond in Traditional Chinese. \\n\"\n",
    "                \"Behavior Rules: \\n\"\n",
    "                \"1. Direct Answering: If the question is clear and within your knowledge, answer directly.\\n\"\n",
    "                \"2. Retrieval-Based Answering: If the question requires specialized or external knowledge, retrieve relevant documents from the specific vector database. When retrieving from the database, the user's original intent should be preserved as much as possible, and the clarity of the question's meaning should be maintained.\"\n",
    "                \"3. Clarification: If the question is vague or unclear, ask clarifying questions to understand the user’s intent before responding.\"\n",
    "            ),\n",
    "            model = LitellmModel(\n",
    "                model = \"openai/gemma3:27b-it-qat\", \n",
    "                base_url = \"https://your.model.endpoint\", \n",
    "                api_key = \"sk-test-key\",\n",
    "            ),\n",
    "            mcp_servers = [rag],\n",
    "            output_type = RAGFormat,\n",
    "        )\n",
    "        result = await multi_turn_conversation(seeker_agent, full_history)\n",
    "    return result"
   ]
  },
  {
   "cell_type": "code",
   "execution_count": null,
   "id": "ec78382d",
   "metadata": {},
   "outputs": [
    {
     "name": "stdout",
     "output_type": "stream",
     "text": [
      "[Tool(name='retrieve_fps_rules_db', description=\"\\n    Retrieve information relevant to the user's query from a database containing documents about company work rules. \\n\\n    Args: \\n        query: the query from user used to retrieve the relevant information in the vector database\\n    \\n    Returns:\\n        List[dict]: The documents relevant to user's query\\n    \", inputSchema={'properties': {'query': {'title': 'Query', 'type': 'string'}}, 'required': ['query'], 'title': 'retrieve_fps_rules_dbArguments', 'type': 'object'}, annotations=None), Tool(name='retrieve_company_introduction_db', description=\"\\n    Retrieve information relevant to the user's query from a database containing documents about company notes and introductions. \\n\\n    Args: \\n        query: the query from user used to retrieve the relevant information in the vector database\\n    \\n    Returns:\\n        List[dict]: The documents relevant to user's query\\n    \", inputSchema={'properties': {'query': {'title': 'Query', 'type': 'string'}}, 'required': ['query'], 'title': 'retrieve_company_introduction_dbArguments', 'type': 'object'}, annotations=None), Tool(name='retrieve_NSTC_research_project_db', description=\"\\n    Retrieve information relevant to the user's query from a database containing documents about FAQs related to undergraduate student research projects.\\n\\n    Args: \\n        query: the query from user used to retrieve the relevant information in the vector database\\n    \\n    Returns:\\n        List[dict]: The documents relevant to user's query\\n    \", inputSchema={'properties': {'query': {'title': 'Query', 'type': 'string'}}, 'required': ['query'], 'title': 'retrieve_NSTC_research_project_dbArguments', 'type': 'object'}, annotations=None)]\n"
     ]
    },
    {
     "name": "stderr",
     "output_type": "stream",
     "text": [
      "\u001b[92m14:22:54 - LiteLLM:INFO\u001b[0m: utils.py:2929 - \n",
      "LiteLLM completion() model= gemma3:27b-it-qat; provider = openai\n"
     ]
    },
    {
     "name": "stdout",
     "output_type": "stream",
     "text": [
      "You: 今天33度，天氣晴！\n",
      "Before trimming:  [{'role': 'user', 'content': '今天33度，天氣晴！'}]\n",
      "Input conversation: [{'role': 'user', 'content': '今天33度，天氣晴！'}]\n",
      "2025-06-11 14:22:54 - LiteLLM - \n",
      "LiteLLM completion() model= gemma3:27b-it-qat; provider = openai\n",
      "2025-06-11 14:22:55 - httpx - HTTP Request: POST https://ml.gss.com.tw/gemma3/chat/completions \"HTTP/1.1 200 OK\"\n"
     ]
    },
    {
     "name": "stderr",
     "output_type": "stream",
     "text": [
      "\u001b[92m14:22:55 - LiteLLM:INFO\u001b[0m: cost_calculator.py:655 - selected model name for cost calculation: openai/gemma3:27b-it-qat\n"
     ]
    },
    {
     "name": "stdout",
     "output_type": "stream",
     "text": [
      "2025-06-11 14:22:55 - LiteLLM - selected model name for cost calculation: openai/gemma3:27b-it-qat\n"
     ]
    },
    {
     "name": "stderr",
     "output_type": "stream",
     "text": [
      "\u001b[92m14:22:55 - LiteLLM:INFO\u001b[0m: cost_calculator.py:655 - selected model name for cost calculation: openai/gemma3:27b-it-qat\n"
     ]
    },
    {
     "name": "stdout",
     "output_type": "stream",
     "text": [
      "2025-06-11 14:22:55 - LiteLLM - selected model name for cost calculation: openai/gemma3:27b-it-qat\n"
     ]
    },
    {
     "name": "stderr",
     "output_type": "stream",
     "text": [
      "\u001b[92m14:22:55 - LiteLLM:INFO\u001b[0m: cost_calculator.py:655 - selected model name for cost calculation: openai/gemma3:27b-it-qat\n"
     ]
    },
    {
     "name": "stdout",
     "output_type": "stream",
     "text": [
      "2025-06-11 14:22:55 - LiteLLM - selected model name for cost calculation: openai/gemma3:27b-it-qat\n"
     ]
    },
    {
     "name": "stderr",
     "output_type": "stream",
     "text": [
      "\u001b[92m14:22:55 - LiteLLM:INFO\u001b[0m: cost_calculator.py:655 - selected model name for cost calculation: gemma3:27b-it-qat\n"
     ]
    },
    {
     "name": "stdout",
     "output_type": "stream",
     "text": [
      "2025-06-11 14:22:55 - LiteLLM - selected model name for cost calculation: gemma3:27b-it-qat\n",
      "Agent: 哇！今天天氣真好！33度加上晴朗的天空，真是太棒了！有什麼特別的計畫嗎？\n",
      "[{'role': 'user', 'content': '今天33度，天氣晴！'}, {'id': '__fake_id__', 'content': [{'annotations': [], 'text': '哇！今天天氣真好！33度加上晴朗的天空，真是太棒了！有什麼特別的計畫嗎？', 'type': 'output_text'}], 'role': 'assistant', 'status': 'completed', 'type': 'message'}]\n"
     ]
    },
    {
     "name": "stderr",
     "output_type": "stream",
     "text": [
      "\u001b[92m14:23:10 - LiteLLM:INFO\u001b[0m: utils.py:2929 - \n",
      "LiteLLM completion() model= gemma3:27b-it-qat; provider = openai\n"
     ]
    },
    {
     "name": "stdout",
     "output_type": "stream",
     "text": [
      "You: 我想要出去玩，臨時請假有沒有什麼規範？\n",
      "Before trimming:  [{'role': 'user', 'content': '今天33度，天氣晴！'}, {'id': '__fake_id__', 'content': [{'annotations': [], 'text': '哇！今天天氣真好！33度加上晴朗的天空，真是太棒了！有什麼特別的計畫嗎？', 'type': 'output_text'}], 'role': 'assistant', 'status': 'completed', 'type': 'message'}, {'role': 'user', 'content': '我想要出去玩，臨時請假有沒有什麼規範？'}]\n",
      "Input conversation: [{'role': 'user', 'content': '今天33度，天氣晴！'}, {'id': '__fake_id__', 'content': [{'annotations': [], 'text': '哇！今天天氣真好！33度加上晴朗的天空，真是太棒了！有什麼特別的計畫嗎？', 'type': 'output_text'}], 'role': 'assistant', 'status': 'completed', 'type': 'message'}, {'role': 'user', 'content': '我想要出去玩，臨時請假有沒有什麼規範？'}]\n",
      "2025-06-11 14:23:10 - LiteLLM - \n",
      "LiteLLM completion() model= gemma3:27b-it-qat; provider = openai\n",
      "2025-06-11 14:23:12 - httpx - HTTP Request: POST https://ml.gss.com.tw/gemma3/chat/completions \"HTTP/1.1 200 OK\"\n"
     ]
    },
    {
     "name": "stderr",
     "output_type": "stream",
     "text": [
      "\u001b[92m14:23:12 - LiteLLM:INFO\u001b[0m: cost_calculator.py:655 - selected model name for cost calculation: openai/gemma3:27b-it-qat\n"
     ]
    },
    {
     "name": "stdout",
     "output_type": "stream",
     "text": [
      "2025-06-11 14:23:12 - LiteLLM - selected model name for cost calculation: openai/gemma3:27b-it-qat\n"
     ]
    },
    {
     "name": "stderr",
     "output_type": "stream",
     "text": [
      "\u001b[92m14:23:12 - LiteLLM:INFO\u001b[0m: cost_calculator.py:655 - selected model name for cost calculation: openai/gemma3:27b-it-qat\n"
     ]
    },
    {
     "name": "stdout",
     "output_type": "stream",
     "text": [
      "2025-06-11 14:23:12 - LiteLLM - selected model name for cost calculation: openai/gemma3:27b-it-qat\n"
     ]
    },
    {
     "name": "stderr",
     "output_type": "stream",
     "text": [
      "\u001b[92m14:23:12 - LiteLLM:INFO\u001b[0m: cost_calculator.py:655 - selected model name for cost calculation: openai/gemma3:27b-it-qat\n"
     ]
    },
    {
     "name": "stdout",
     "output_type": "stream",
     "text": [
      "2025-06-11 14:23:12 - LiteLLM - selected model name for cost calculation: openai/gemma3:27b-it-qat\n"
     ]
    },
    {
     "name": "stderr",
     "output_type": "stream",
     "text": [
      "\u001b[92m14:23:12 - LiteLLM:INFO\u001b[0m: cost_calculator.py:655 - selected model name for cost calculation: gemma3:27b-it-qat\n"
     ]
    },
    {
     "name": "stdout",
     "output_type": "stream",
     "text": [
      "2025-06-11 14:23:12 - LiteLLM - selected model name for cost calculation: gemma3:27b-it-qat\n"
     ]
    },
    {
     "name": "stderr",
     "output_type": "stream",
     "text": [
      "\u001b[92m14:23:12 - LiteLLM:INFO\u001b[0m: utils.py:2929 - \n",
      "LiteLLM completion() model= gemma3:27b-it-qat; provider = openai\n"
     ]
    },
    {
     "name": "stdout",
     "output_type": "stream",
     "text": [
      "2025-06-11 14:23:12 - LiteLLM - \n",
      "LiteLLM completion() model= gemma3:27b-it-qat; provider = openai\n",
      "2025-06-11 14:23:24 - httpx - HTTP Request: POST https://ml.gss.com.tw/gemma3/chat/completions \"HTTP/1.1 200 OK\"\n"
     ]
    },
    {
     "name": "stderr",
     "output_type": "stream",
     "text": [
      "\u001b[92m14:23:24 - LiteLLM:INFO\u001b[0m: cost_calculator.py:655 - selected model name for cost calculation: openai/gemma3:27b-it-qat\n"
     ]
    },
    {
     "name": "stdout",
     "output_type": "stream",
     "text": [
      "2025-06-11 14:23:24 - LiteLLM - selected model name for cost calculation: openai/gemma3:27b-it-qat\n"
     ]
    },
    {
     "name": "stderr",
     "output_type": "stream",
     "text": [
      "\u001b[92m14:23:24 - LiteLLM:INFO\u001b[0m: cost_calculator.py:655 - selected model name for cost calculation: openai/gemma3:27b-it-qat\n"
     ]
    },
    {
     "name": "stdout",
     "output_type": "stream",
     "text": [
      "2025-06-11 14:23:24 - LiteLLM - selected model name for cost calculation: openai/gemma3:27b-it-qat\n"
     ]
    },
    {
     "name": "stderr",
     "output_type": "stream",
     "text": [
      "\u001b[92m14:23:24 - LiteLLM:INFO\u001b[0m: cost_calculator.py:655 - selected model name for cost calculation: openai/gemma3:27b-it-qat\n"
     ]
    },
    {
     "name": "stdout",
     "output_type": "stream",
     "text": [
      "2025-06-11 14:23:24 - LiteLLM - selected model name for cost calculation: openai/gemma3:27b-it-qat\n"
     ]
    },
    {
     "name": "stderr",
     "output_type": "stream",
     "text": [
      "\u001b[92m14:23:24 - LiteLLM:INFO\u001b[0m: cost_calculator.py:655 - selected model name for cost calculation: gemma3:27b-it-qat\n"
     ]
    },
    {
     "name": "stdout",
     "output_type": "stream",
     "text": [
      "2025-06-11 14:23:24 - LiteLLM - selected model name for cost calculation: gemma3:27b-it-qat\n",
      "Agent: 根據公司規定，臨時請假有以下規範：\n",
      "\n",
      "*   公司同仁如有下列事由，得申請休假。\n",
      "    *   年假已結餘四天以上。\n",
      "    *   職務身故或因故無法履行職責者。\n",
      "\n",
      "*   一、 85aa8cc7請假以月為單位，請假者以月為單位退回日數，以30計算天數。\n",
      "*   二、 85aa8cc7請假時，應事先填寫請假單，經主管核定後方可請假。\n",
      "*   一、 4e0085aa4e004f114e007a2e530556e0，如因婚假、產假、喪假、公假、育嬰假、陪產假、病假、留職停薪等，應備妥相關證明文件。\n",
      "*   二、 85aa8cc7病假應經由醫療單位開立診斷證明書。\n",
      "*   三、 4e0085aa56db50474e898f7bc44f7f75224e0065e0，應事先填寫請假單，經主管核可後方可請假，並於事後補辦相關手續。\n",
      "\n",
      "請您依照上述規定辦理，如有任何疑問，請隨時向主管洽詢。\n",
      "[{'role': 'user', 'content': '今天33度，天氣晴！'}, {'id': '__fake_id__', 'content': [{'annotations': [], 'text': '哇！今天天氣真好！33度加上晴朗的天空，真是太棒了！有什麼特別的計畫嗎？', 'type': 'output_text'}], 'role': 'assistant', 'status': 'completed', 'type': 'message'}, {'role': 'user', 'content': '我想要出去玩，臨時請假有沒有什麼規範？'}, {'arguments': '{\"query\":\"臨時請假 規範\"}', 'call_id': 'fYg8eVM2mtCvgvja4EXMD5IDYq9ydO6k', 'name': 'retrieve_fps_rules_db', 'type': 'function_call', 'id': '__fake_id__'}, {'call_id': 'fYg8eVM2mtCvgvja4EXMD5IDYq9ydO6k', 'output': '[{\"type\": \"text\", \"text\": \"{\\\\n  \\\\\"score\\\\\": 0.7,\\\\n  \\\\\"text\\\\\": \\\\\"\\\\u516c\\\\u53f8\\\\u540c\\\\u4ec1\\\\u6709\\\\u4e0b\\\\u5217\\\\u60c5\\\\u5f62\\\\uff0c\\\\u5f97\\\\u5f37\\\\u5236\\\\u5176\\\\u9000\\\\u4f11\\\\u3002\\\\\\\\n\\\\u4e00\\\\u3001\\\\u5e74\\\\u9f61\\\\u5df2\\\\u9054\\\\u516d\\\\u5341\\\\u4e94\\\\u6b72\\\\u8005\\\\u3002\\\\\\\\n\\\\u4e8c\\\\u3001\\\\u8eab\\\\u5fc3\\\\u969c\\\\u7919\\\\u4e0d\\\\u582a\\\\u52dd\\\\u4efb\\\\u5de5\\\\u4f5c\\\\u8005\\\\u3002\\\\\"\\\\n}\", \"annotations\": null}, {\"type\": \"text\", \"text\": \"{\\\\n  \\\\\"score\\\\\": 0.4851001,\\\\n  \\\\\"text\\\\\": \\\\\"\\\\u4e00\\\\u3001\\\\u85aa\\\\u8cc7\\\\u63a1\\\\u6708\\\\u85aa\\\\u5236\\\\uff0c\\\\u7834\\\\u6708\\\\u8005\\\\u85aa\\\\u8cc7\\\\u4ee5\\\\u6708\\\\u85aa\\\\u9664\\\\u4ee530\\\\u7b97\\\\u51fa\\\\u65e5\\\\u85aa\\\\u8cc7\\\\u518d\\\\u4e58\\\\u5be6\\\\u969b\\\\u5de5\\\\u4f5c\\\\u5929\\\\u6578(\\\\u542b\\\\u5de5\\\\u4f5c\\\\u671f\\\\u9593\\\\u7684\\\\u4f8b\\\\u5047\\\\u65e5)\\\\u3002\\\\u6642\\\\u85aa\\\\u5247\\\\u4ee5\\\\u65e5\\\\u85aa\\\\u9664\\\\u4ee58\\\\u8a08\\\\u7b97\\\\u5f97\\\\u4e4b\\\\u3002\\\\\\\\n\\\\u4e8c\\\\u3001\\\\u85aa\\\\u8cc7\\\\u9805\\\\u76ee\\\\u4e3b\\\\u8981\\\\u5340\\\\u5206\\\\u70ba\\\\u4e8c\\\\u985e\\\\\\\\n\\\\u57fa\\\\u672c\\\\u85aa\\\\u8cc7\\\\uff1a\\\\u4f9d\\\\u540c\\\\u4ec1\\\\u6240\\\\u4efb\\\\u8077\\\\u52d9\\\\u4e4b\\\\u4e0d\\\\u540c\\\\u6240\\\\u7d66\\\\u4e88\\\\u4e4b\\\\u5de5\\\\u4f5c\\\\u5831\\\\u916c\\\\u7a31\\\\u4e4b\\\\u3002\\\\\\\\n\\\\u4e3b\\\\u7ba1\\\\u52a0\\\\u7d66\\\\uff1a\\\\u4ed8\\\\u8207\\\\u4efb\\\\u7ba1\\\\u7406\\\\u8077\\\\u7684\\\\u540c\\\\u4ec1\\\\u7684\\\\u85aa\\\\u8cc7\\\\u52a0\\\\u7d66\\\\u7a31\\\\u4e4b\\\\u3002\\\\\\\\n\\\\u85aa\\\\u8cc7\\\\u8207\\\\u8077\\\\u52d9\\\\u5c0d\\\\u7167\\\\u8868\\\\u53e6\\\\u884c\\\\u8a02\\\\u5b9a\\\\uff0c\\\\u4e26\\\\u4f9d\\\\u7576\\\\u6642\\\\u4e4b\\\\u7269\\\\u50f9\\\\u6307\\\\u6578\\\\u4e0d\\\\u540c\\\\u800c\\\\u8abf\\\\u6574\\\\u3002\\\\\"\\\\n}\", \"annotations\": null}, {\"type\": \"text\", \"text\": \"{\\\\n  \\\\\"score\\\\\": 0.3,\\\\n  \\\\\"text\\\\\": \\\\\"\\\\u4e00\\\\u3001\\\\u4f11\\\\u5047\\\\u7a2e\\\\u985e\\\\u5305\\\\u542b\\\\uff1a\\\\u7279\\\\u4f11\\\\u5047\\\\u3001\\\\u751f\\\\u65e5\\\\u5047\\\\u3001\\\\u666e\\\\u901a\\\\u50b7\\\\u75c5\\\\u5047\\\\u3001\\\\u4e8b\\\\u5047\\\\u3001\\\\u5bb6\\\\u5ead\\\\u7167\\\\u9867\\\\u5047\\\\u3001\\\\u5a5a\\\\u5047\\\\u3001\\\\u55aa\\\\u5047\\\\u3001\\\\u7522\\\\u5047\\\\u3001\\\\u966a\\\\u7522\\\\u5047\\\\u3001\\\\u7522\\\\u6aa2\\\\u5047\\\\u3001\\\\u5b89\\\\u80ce\\\\u5047\\\\u3001\\\\u516c\\\\u50b7\\\\u5047\\\\u3001\\\\u751f\\\\u7406\\\\u5047\\\\u3001\\\\u516c\\\\u5047\\\\u5171\\\\u5341\\\\u56db\\\\u7a2e\\\\u3002\\\\\\\\n\\\\u4e8c\\\\u3001\\\\u8acb\\\\u5047\\\\u65b9\\\\u6cd5\\\\uff1a\\\\u54e1\\\\u5de5\\\\u56e0\\\\u6545\\\\u5fc5\\\\u9808\\\\u8acb\\\\u5047\\\\u8005\\\\uff0c\\\\u61c9\\\\u4e8b\\\\u5148\\\\u586b\\\\u5beb\\\\u8acb\\\\u5047\\\\u55ae\\\\u6216\\\\u53e3\\\\u982d\\\\u6558\\\\u660e\\\\u7406\\\\u7531\\\\u7d93\\\\u6838\\\\u5b9a\\\\u5f8c\\\\u65b9\\\\u53ef\\\\u96e2\\\\u958b\\\\u5de5\\\\u4f5c\\\\u5d17\\\\u4f4d\\\\u6216\\\\u4e0d\\\\u51fa\\\\u52e4\\\\u3002\\\\\\\\n \\\\\\\\n\\\\u8acb\\\\u5047\\\\u5929\\\\u6578\\\\uff0c\\\\u6838\\\\u51c6\\\\u4e3b\\\\u7ba1\\\\u6b0a\\\\u9650\\\\u53ca\\\\u4e8b\\\\u524d\\\\u5929\\\\u6578\\\\u8fa6\\\\u6cd5\\\\u5982\\\\u4e0b\\\\uff1a\\\\\\\\n\\\\u8acb\\\\u5047\\\\u5929\\\\u6578\\\\\\\\t\\\\u4e8b\\\\u524d\\\\u5929\\\\u6578\\\\\\\\t\\\\u6838\\\\u51c6\\\\u4e3b\\\\u7ba1\\\\u6b0a\\\\u9650\\\\\\\\n0<\\\\u5929\\\\u6578\\\\u22665\\\\\\\\t\\\\u4e09\\\\u5929\\\\u524d\\\\\\\\t\\\\u90e8\\\\u9580\\\\u4e3b\\\\u7ba1\\\\\\\\n5<\\\\u5929\\\\u6578\\\\u226610\\\\\\\\t\\\\u4e00\\\\u9031\\\\u524d\\\\\\\\t\\\\u8655\\\\u7d1a\\\\u4e3b\\\\u7ba1\\\\\\\\n\\\\u5929\\\\u6578>10\\\\\\\\t\\\\u5169\\\\u9031\\\\u524d\\\\\\\\t\\\\u696d\\\\u52d9/\\\\u4e8b\\\\u696d\\\\u7fa4\\\\u7e3d\\\\u7d93\\\\u7406\\\\\\\\n\\\\u4e09\\\\u3001\\\\u81e8\\\\u6642\\\\u72c0\\\\u6cc1\\\\uff1a\\\\u540c\\\\u4ec1\\\\u56e0\\\\u7a81\\\\u767c\\\\u4e8b\\\\u4ef6\\\\u6216\\\\u751f\\\\u75c5\\\\u5fc5\\\\u9808\\\\u65bc\\\\u7576\\\\u65e5\\\\u8acb\\\\u5047\\\\u8005\\\\uff0c\\\\u5f97\\\\u65bc\\\\u7576\\\\u65e510:00\\\\u524d\\\\u4ee5\\\\u96fb\\\\u8a71\\\\u5411\\\\u4e3b\\\\u7ba1\\\\u5831\\\\u5099\\\\uff0c\\\\u4e26\\\\u65bc\\\\u4e8b\\\\u5f8c\\\\u88dc\\\\u8fa6\\\\u8acb\\\\u5047\\\\u624b\\\\u7e8c\\\\u3002\\\\\\\\n\\\\u56db\\\\u3001\\\\u540c\\\\u4ec1\\\\u672a\\\\u4f9d\\\\u898f\\\\u5b9a\\\\u8fa6\\\\u7406\\\\u8acb\\\\u5047\\\\u624b\\\\u7e8c\\\\u8005\\\\uff0c\\\\u4e8b\\\\u5f8c\\\\u53c8\\\\u4e0d\\\\u88dc\\\\u8fa6\\\\u8acb\\\\u5047\\\\u624b\\\\u7e8c\\\\u4e26\\\\u8aaa\\\\u660e\\\\u539f\\\\u56e0\\\\u8005\\\\uff0c\\\\u8996\\\\u540c\\\\u66e0\\\\u8077\\\\u3002\\\\\"\\\\n}\", \"annotations\": null}, {\"type\": \"text\", \"text\": \"{\\\\n  \\\\\"score\\\\\": 0.2335058,\\\\n  \\\\\"text\\\\\": \\\\\"\\\\u4e00\\\\u3001\\\\u540c\\\\u4ec1\\\\u56e0\\\\u666e\\\\u901a\\\\u50b7\\\\u5bb3\\\\u3001\\\\u75be\\\\u75c5\\\\u6216\\\\u751f\\\\u7406\\\\u539f\\\\u56e0\\\\u9020\\\\u6210\\\\u8eab\\\\u9ad4\\\\u72c0\\\\u6cc1\\\\u7121\\\\u6cd5\\\\u6b63\\\\u5e38\\\\u5de5\\\\u4f5c\\\\uff0c\\\\u800c\\\\u5fc5\\\\u9808\\\\u6cbb\\\\u7642\\\\u6216\\\\u4f11\\\\u990a\\\\u8005\\\\uff0c\\\\u5f97\\\\u5728\\\\u4e0b\\\\u5217\\\\u7bc4\\\\u570d\\\\u5167\\\\u8acb\\\\u666e\\\\u901a\\\\u50b7\\\\u75c5\\\\u5047\\\\u3002\\\\\\\\n\\\\uff0e\\\\u672a\\\\u4f4f\\\\u9662\\\\u8005\\\\uff0c\\\\u4e00\\\\u5e74\\\\u5167\\\\u5408\\\\u8a08\\\\u4e0d\\\\u5f97\\\\u8d85\\\\u904e\\\\u4e09\\\\u5341\\\\u65e5\\\\\\\\n\\\\uff0e\\\\u4f4f\\\\u9662\\\\u8005\\\\uff0c\\\\u4e8c\\\\u5e74\\\\u5167\\\\u5408\\\\u8a08\\\\u4e0d\\\\u5f97\\\\u8d85\\\\u904e\\\\u4e00\\\\u5e74\\\\\\\\n\\\\uff0e\\\\u672a\\\\u4f4f\\\\u9662\\\\u53ca\\\\u4f4f\\\\u9662\\\\u8005\\\\uff0c\\\\u4e8c\\\\u5e74\\\\u5167\\\\u5408\\\\u8a08\\\\u4e0d\\\\u5f97\\\\u8d85\\\\u904e\\\\u4e00\\\\u5e74 \\\\\\\\n\\\\u4e8c\\\\u3001\\\\u666e\\\\u901a\\\\u50b7\\\\u75c5\\\\u5047\\\\u4e00\\\\u5e74\\\\u5408\\\\u8a08\\\\u672a\\\\u8d85\\\\u904e\\\\u4e09\\\\u5341\\\\u65e5\\\\u90e8\\\\u4efd\\\\uff0c\\\\u5de5\\\\u8cc7\\\\u6298\\\\u534a\\\\u767c\\\\u7d66\\\\uff0c\\\\u8d85\\\\u904e\\\\u4e09\\\\u5341\\\\u65e5\\\\u6642\\\\u4ee5\\\\u7279\\\\u4f11\\\\u5047\\\\u6216\\\\u4e8b\\\\u5047\\\\u62b5\\\\u5145\\\\uff0c\\\\u62b5\\\\u5145\\\\u5f8c\\\\u82e5\\\\u4ecd\\\\u7136\\\\u4e0d\\\\u5920\\\\u8005\\\\uff0c\\\\u5f97\\\\u4e88\\\\u7559\\\\u8077\\\\u505c\\\\u85aa\\\\uff0c\\\\u4ee5\\\\u4e00\\\\u5e74\\\\u70ba\\\\u9650\\\\uff0c\\\\u4e4b\\\\u5f8c\\\\u82e5\\\\u4ecd\\\\u7136\\\\u7121\\\\u6cd5\\\\u5de5\\\\u4f5c\\\\u8005\\\\uff0c\\\\u4f9d\\\\u6cd5\\\\u8cc7\\\\u9063\\\\u6216\\\\u81ea\\\\u8acb\\\\u96e2\\\\u8077\\\\u3002\\\\\\\\n\\\\u4e09\\\\u3001\\\\u8acb\\\\u5047\\\\u8d85\\\\u904e\\\\u4e94\\\\u65e5\\\\u8005\\\\uff0c\\\\u9808\\\\u65bc\\\\u4e8b\\\\u5f8c\\\\u6301\\\\u91ab\\\\u9662\\\\u8b49\\\\u660e\\\\u92b7\\\\u5047\\\\uff0c\\\\u672a\\\\u6301\\\\u8b49\\\\u660e\\\\u8005\\\\u4ee5\\\\u7279\\\\u4f11\\\\u5047\\\\u8655\\\\u7406\\\\uff0c\\\\u8d85\\\\u904e\\\\u5341\\\\u4e94\\\\u65e5\\\\u800c\\\\u53c8\\\\u672a\\\\u80fd\\\\u63d0\\\\u51fa\\\\u91ab\\\\u9662\\\\u8b49\\\\u660e\\\\u8005\\\\uff0c\\\\u4ee5\\\\u66e0\\\\u8077\\\\u8ad6\\\\u3002\\\\\\\\n\\\\u56db\\\\u3001\\\\u4e00\\\\u6b21\\\\u9023\\\\u7e8c\\\\u8acb\\\\u666e\\\\u901a\\\\u50b7\\\\u75c5\\\\u5047\\\\u8d85\\\\u904e\\\\u4e09\\\\u5341\\\\u65e5\\\\u4ee5\\\\u4e0a\\\\u4e4b\\\\u671f\\\\u9593\\\\uff0c\\\\u5982\\\\u9047\\\\u4f8b\\\\u5047\\\\u65e5\\\\u3001\\\\u7d00\\\\u5ff5\\\\u65e5\\\\u3001\\\\u52de\\\\u52d5\\\\u7bc0\\\\u65e5\\\\u53ca\\\\u7531\\\\u4e2d\\\\u592e\\\\u4e3b\\\\u7ba1\\\\u6a5f\\\\u95dc\\\\u898f\\\\u5b9a\\\\u61c9\\\\u653e\\\\u5047\\\\u4e4b\\\\u65e5\\\\uff0c\\\\u4f75\\\\u8a08\\\\u65bc\\\\u8acb\\\\u5047\\\\u671f\\\\u9593\\\\u5167\\\\u3002\\\\\\\\n\\\\u4e94\\\\u3001\\\\u85aa\\\\u8cc7\\\\u6e1b\\\\u534a\\\\u767c\\\\u7d66\\\\u3002\\\\\"\\\\n}\", \"annotations\": null}, {\"type\": \"text\", \"text\": \"{\\\\n  \\\\\"score\\\\\": 0.20883767,\\\\n  \\\\\"text\\\\\": \\\\\"\\\\u4e00\\\\u3001\\\\u96fb\\\\u5b50\\\\u90f5\\\\u4ef6\\\\u4e4b\\\\u4f7f\\\\u7528\\\\u4fc2\\\\u4ee5\\\\u516c\\\\u52d9\\\\u806f\\\\u7d61\\\\u70ba\\\\u7b2c\\\\u4e00\\\\u512a\\\\u5148\\\\uff0c\\\\u4e0d\\\\u5f97\\\\u70ba\\\\u6709\\\\u5bb3\\\\u516c\\\\u53f8\\\\u4e4b\\\\u884c\\\\u70ba\\\\u3002\\\\\\\\n\\\\u4e8c\\\\u3001\\\\u672a\\\\u7d93\\\\u5141\\\\u8a31\\\\u7981\\\\u6b62\\\\u4f7f\\\\u7528\\\\u516c\\\\u53f8\\\\u96fb\\\\u5b50\\\\u90f5\\\\u4ef6\\\\u5e33\\\\u865f\\\\u50b3\\\\u9001\\\\u5927\\\\u91cf\\\\u90f5\\\\u4ef6\\\\uff0c\\\\u4ee5\\\\u514d\\\\u5f71\\\\u97ff\\\\u90f5\\\\u4ef6\\\\u670d\\\\u52d9\\\\u6b63\\\\u5e38\\\\u904b\\\\u4f5c\\\\u3002\\\\\\\\n\\\\u4e09\\\\u3001\\\\u96fb\\\\u5b50\\\\u90f5\\\\u4ef6\\\\u4f7f\\\\u7528\\\\u9700\\\\u9075\\\\u884c\\\\u4e00\\\\u822c\\\\u7db2\\\\u8def\\\\u4f7f\\\\u7528\\\\u898f\\\\u7bc4\\\\uff0c\\\\u767c\\\\u9001\\\\u6642\\\\u8acb\\\\u52ff\\\\u593e\\\\u5e36\\\\u5927\\\\u91cf\\\\u9644\\\\u4ef6\\\\u8cc7\\\\u6599\\\\u3002\\\\\\\\n\\\\u56db\\\\u3001\\\\u7db2\\\\u969b\\\\u7db2\\\\u8def\\\\u4e4b\\\\u4f7f\\\\u7528\\\\u61c9\\\\u4ee5\\\\u516c\\\\u52d9\\\\u67e5\\\\u8a62\\\\u53ca\\\\u5e02\\\\u5834\\\\u61c9\\\\u7528\\\\u70ba\\\\u4e3b\\\\uff0c\\\\u56b4\\\\u7981\\\\u9032\\\\u5165\\\\u4e0d\\\\u7576\\\\u7db2\\\\u7ad9\\\\u3002\\\\u4e0a\\\\u73ed\\\\u671f\\\\u9593\\\\u7981\\\\u6b62\\\\u67e5\\\\u8a62\\\\u8207\\\\u696d\\\\u52d9\\\\u7121\\\\u95dc\\\\u4e4b\\\\u7db2\\\\u7ad9\\\\uff0c\\\\u6216\\\\u900f\\\\u904e\\\\u516c\\\\u53f8\\\\u5171\\\\u7528\\\\u7db2\\\\u8def\\\\u9032\\\\u884c\\\\u8207\\\\u516c\\\\u52d9\\\\u7121\\\\u95dc\\\\u4e4b\\\\u8cc7\\\\u6599\\\\u4e0a\\\\u50b3(upload)\\\\u6216\\\\u4e0b\\\\u8f09(download)\\\\u884c\\\\u70ba\\\\u3002\\\\\\\\n\\\\u4e94\\\\u3001\\\\u9664\\\\u516c\\\\u53f8\\\\u898f\\\\u7bc4\\\\u958b\\\\u653e\\\\u4e4b\\\\u7db2\\\\u969b\\\\u7db2\\\\u8def\\\\u670d\\\\u52d9\\\\u61c9\\\\u7528\\\\u5916\\\\uff0c\\\\u5176\\\\u4ed6\\\\u7279\\\\u6b8a\\\\u670d\\\\u52d9\\\\u901a\\\\u9053\\\\u9700\\\\u900f\\\\u904e\\\\u6a19\\\\u6e96\\\\u7a0b\\\\u5e8f\\\\u7533\\\\u8acb\\\\uff0c\\\\u4e26\\\\u7d93\\\\u90e8\\\\u9580\\\\u4e3b\\\\u7ba1\\\\u6388\\\\u6b0a\\\\u5f8c\\\\u6703\\\\u540c\\\\u7ba1\\\\u7406\\\\u8cc7\\\\u8a0a\\\\u4e2d\\\\u5fc3\\\\u5171\\\\u540c\\\\u57f7\\\\u884c\\\\u3002\\\\\"\\\\n}\", \"annotations\": null}]', 'type': 'function_call_output'}, {'id': '__fake_id__', 'content': [{'annotations': [], 'text': '根據公司規定，臨時請假有以下規範：\\n\\n*   公司同仁如有下列事由，得申請休假。\\n    *   年假已結餘四天以上。\\n    *   職務身故或因故無法履行職責者。\\n\\n*   一、 85aa8cc7請假以月為單位，請假者以月為單位退回日數，以30計算天數。\\n*   二、 85aa8cc7請假時，應事先填寫請假單，經主管核定後方可請假。\\n*   一、 4e0085aa4e004f114e007a2e530556e0，如因婚假、產假、喪假、公假、育嬰假、陪產假、病假、留職停薪等，應備妥相關證明文件。\\n*   二、 85aa8cc7病假應經由醫療單位開立診斷證明書。\\n*   三、 4e0085aa56db50474e898f7bc44f7f75224e0065e0，應事先填寫請假單，經主管核可後方可請假，並於事後補辦相關手續。\\n\\n請您依照上述規定辦理，如有任何疑問，請隨時向主管洽詢。', 'type': 'output_text'}], 'role': 'assistant', 'status': 'completed', 'type': 'message'}]\n"
     ]
    },
    {
     "name": "stderr",
     "output_type": "stream",
     "text": [
      "\u001b[92m14:23:50 - LiteLLM:INFO\u001b[0m: utils.py:2929 - \n",
      "LiteLLM completion() model= gemma3:27b-it-qat; provider = openai\n"
     ]
    },
    {
     "name": "stdout",
     "output_type": "stream",
     "text": [
      "You: 規範好奇怪，不請假了\n",
      "Before trimming:  [{'role': 'user', 'content': '今天33度，天氣晴！'}, {'id': '__fake_id__', 'content': [{'annotations': [], 'text': '哇！今天天氣真好！33度加上晴朗的天空，真是太棒了！有什麼特別的計畫嗎？', 'type': 'output_text'}], 'role': 'assistant', 'status': 'completed', 'type': 'message'}, {'role': 'user', 'content': '我想要出去玩，臨時請假有沒有什麼規範？'}, {'arguments': '{\"query\":\"臨時請假 規範\"}', 'call_id': 'fYg8eVM2mtCvgvja4EXMD5IDYq9ydO6k', 'name': 'retrieve_fps_rules_db', 'type': 'function_call', 'id': '__fake_id__'}, {'call_id': 'fYg8eVM2mtCvgvja4EXMD5IDYq9ydO6k', 'output': '[{\"type\": \"text\", \"text\": \"{\\\\n  \\\\\"score\\\\\": 0.7,\\\\n  \\\\\"text\\\\\": \\\\\"\\\\u516c\\\\u53f8\\\\u540c\\\\u4ec1\\\\u6709\\\\u4e0b\\\\u5217\\\\u60c5\\\\u5f62\\\\uff0c\\\\u5f97\\\\u5f37\\\\u5236\\\\u5176\\\\u9000\\\\u4f11\\\\u3002\\\\\\\\n\\\\u4e00\\\\u3001\\\\u5e74\\\\u9f61\\\\u5df2\\\\u9054\\\\u516d\\\\u5341\\\\u4e94\\\\u6b72\\\\u8005\\\\u3002\\\\\\\\n\\\\u4e8c\\\\u3001\\\\u8eab\\\\u5fc3\\\\u969c\\\\u7919\\\\u4e0d\\\\u582a\\\\u52dd\\\\u4efb\\\\u5de5\\\\u4f5c\\\\u8005\\\\u3002\\\\\"\\\\n}\", \"annotations\": null}, {\"type\": \"text\", \"text\": \"{\\\\n  \\\\\"score\\\\\": 0.4851001,\\\\n  \\\\\"text\\\\\": \\\\\"\\\\u4e00\\\\u3001\\\\u85aa\\\\u8cc7\\\\u63a1\\\\u6708\\\\u85aa\\\\u5236\\\\uff0c\\\\u7834\\\\u6708\\\\u8005\\\\u85aa\\\\u8cc7\\\\u4ee5\\\\u6708\\\\u85aa\\\\u9664\\\\u4ee530\\\\u7b97\\\\u51fa\\\\u65e5\\\\u85aa\\\\u8cc7\\\\u518d\\\\u4e58\\\\u5be6\\\\u969b\\\\u5de5\\\\u4f5c\\\\u5929\\\\u6578(\\\\u542b\\\\u5de5\\\\u4f5c\\\\u671f\\\\u9593\\\\u7684\\\\u4f8b\\\\u5047\\\\u65e5)\\\\u3002\\\\u6642\\\\u85aa\\\\u5247\\\\u4ee5\\\\u65e5\\\\u85aa\\\\u9664\\\\u4ee58\\\\u8a08\\\\u7b97\\\\u5f97\\\\u4e4b\\\\u3002\\\\\\\\n\\\\u4e8c\\\\u3001\\\\u85aa\\\\u8cc7\\\\u9805\\\\u76ee\\\\u4e3b\\\\u8981\\\\u5340\\\\u5206\\\\u70ba\\\\u4e8c\\\\u985e\\\\\\\\n\\\\u57fa\\\\u672c\\\\u85aa\\\\u8cc7\\\\uff1a\\\\u4f9d\\\\u540c\\\\u4ec1\\\\u6240\\\\u4efb\\\\u8077\\\\u52d9\\\\u4e4b\\\\u4e0d\\\\u540c\\\\u6240\\\\u7d66\\\\u4e88\\\\u4e4b\\\\u5de5\\\\u4f5c\\\\u5831\\\\u916c\\\\u7a31\\\\u4e4b\\\\u3002\\\\\\\\n\\\\u4e3b\\\\u7ba1\\\\u52a0\\\\u7d66\\\\uff1a\\\\u4ed8\\\\u8207\\\\u4efb\\\\u7ba1\\\\u7406\\\\u8077\\\\u7684\\\\u540c\\\\u4ec1\\\\u7684\\\\u85aa\\\\u8cc7\\\\u52a0\\\\u7d66\\\\u7a31\\\\u4e4b\\\\u3002\\\\\\\\n\\\\u85aa\\\\u8cc7\\\\u8207\\\\u8077\\\\u52d9\\\\u5c0d\\\\u7167\\\\u8868\\\\u53e6\\\\u884c\\\\u8a02\\\\u5b9a\\\\uff0c\\\\u4e26\\\\u4f9d\\\\u7576\\\\u6642\\\\u4e4b\\\\u7269\\\\u50f9\\\\u6307\\\\u6578\\\\u4e0d\\\\u540c\\\\u800c\\\\u8abf\\\\u6574\\\\u3002\\\\\"\\\\n}\", \"annotations\": null}, {\"type\": \"text\", \"text\": \"{\\\\n  \\\\\"score\\\\\": 0.3,\\\\n  \\\\\"text\\\\\": \\\\\"\\\\u4e00\\\\u3001\\\\u4f11\\\\u5047\\\\u7a2e\\\\u985e\\\\u5305\\\\u542b\\\\uff1a\\\\u7279\\\\u4f11\\\\u5047\\\\u3001\\\\u751f\\\\u65e5\\\\u5047\\\\u3001\\\\u666e\\\\u901a\\\\u50b7\\\\u75c5\\\\u5047\\\\u3001\\\\u4e8b\\\\u5047\\\\u3001\\\\u5bb6\\\\u5ead\\\\u7167\\\\u9867\\\\u5047\\\\u3001\\\\u5a5a\\\\u5047\\\\u3001\\\\u55aa\\\\u5047\\\\u3001\\\\u7522\\\\u5047\\\\u3001\\\\u966a\\\\u7522\\\\u5047\\\\u3001\\\\u7522\\\\u6aa2\\\\u5047\\\\u3001\\\\u5b89\\\\u80ce\\\\u5047\\\\u3001\\\\u516c\\\\u50b7\\\\u5047\\\\u3001\\\\u751f\\\\u7406\\\\u5047\\\\u3001\\\\u516c\\\\u5047\\\\u5171\\\\u5341\\\\u56db\\\\u7a2e\\\\u3002\\\\\\\\n\\\\u4e8c\\\\u3001\\\\u8acb\\\\u5047\\\\u65b9\\\\u6cd5\\\\uff1a\\\\u54e1\\\\u5de5\\\\u56e0\\\\u6545\\\\u5fc5\\\\u9808\\\\u8acb\\\\u5047\\\\u8005\\\\uff0c\\\\u61c9\\\\u4e8b\\\\u5148\\\\u586b\\\\u5beb\\\\u8acb\\\\u5047\\\\u55ae\\\\u6216\\\\u53e3\\\\u982d\\\\u6558\\\\u660e\\\\u7406\\\\u7531\\\\u7d93\\\\u6838\\\\u5b9a\\\\u5f8c\\\\u65b9\\\\u53ef\\\\u96e2\\\\u958b\\\\u5de5\\\\u4f5c\\\\u5d17\\\\u4f4d\\\\u6216\\\\u4e0d\\\\u51fa\\\\u52e4\\\\u3002\\\\\\\\n \\\\\\\\n\\\\u8acb\\\\u5047\\\\u5929\\\\u6578\\\\uff0c\\\\u6838\\\\u51c6\\\\u4e3b\\\\u7ba1\\\\u6b0a\\\\u9650\\\\u53ca\\\\u4e8b\\\\u524d\\\\u5929\\\\u6578\\\\u8fa6\\\\u6cd5\\\\u5982\\\\u4e0b\\\\uff1a\\\\\\\\n\\\\u8acb\\\\u5047\\\\u5929\\\\u6578\\\\\\\\t\\\\u4e8b\\\\u524d\\\\u5929\\\\u6578\\\\\\\\t\\\\u6838\\\\u51c6\\\\u4e3b\\\\u7ba1\\\\u6b0a\\\\u9650\\\\\\\\n0<\\\\u5929\\\\u6578\\\\u22665\\\\\\\\t\\\\u4e09\\\\u5929\\\\u524d\\\\\\\\t\\\\u90e8\\\\u9580\\\\u4e3b\\\\u7ba1\\\\\\\\n5<\\\\u5929\\\\u6578\\\\u226610\\\\\\\\t\\\\u4e00\\\\u9031\\\\u524d\\\\\\\\t\\\\u8655\\\\u7d1a\\\\u4e3b\\\\u7ba1\\\\\\\\n\\\\u5929\\\\u6578>10\\\\\\\\t\\\\u5169\\\\u9031\\\\u524d\\\\\\\\t\\\\u696d\\\\u52d9/\\\\u4e8b\\\\u696d\\\\u7fa4\\\\u7e3d\\\\u7d93\\\\u7406\\\\\\\\n\\\\u4e09\\\\u3001\\\\u81e8\\\\u6642\\\\u72c0\\\\u6cc1\\\\uff1a\\\\u540c\\\\u4ec1\\\\u56e0\\\\u7a81\\\\u767c\\\\u4e8b\\\\u4ef6\\\\u6216\\\\u751f\\\\u75c5\\\\u5fc5\\\\u9808\\\\u65bc\\\\u7576\\\\u65e5\\\\u8acb\\\\u5047\\\\u8005\\\\uff0c\\\\u5f97\\\\u65bc\\\\u7576\\\\u65e510:00\\\\u524d\\\\u4ee5\\\\u96fb\\\\u8a71\\\\u5411\\\\u4e3b\\\\u7ba1\\\\u5831\\\\u5099\\\\uff0c\\\\u4e26\\\\u65bc\\\\u4e8b\\\\u5f8c\\\\u88dc\\\\u8fa6\\\\u8acb\\\\u5047\\\\u624b\\\\u7e8c\\\\u3002\\\\\\\\n\\\\u56db\\\\u3001\\\\u540c\\\\u4ec1\\\\u672a\\\\u4f9d\\\\u898f\\\\u5b9a\\\\u8fa6\\\\u7406\\\\u8acb\\\\u5047\\\\u624b\\\\u7e8c\\\\u8005\\\\uff0c\\\\u4e8b\\\\u5f8c\\\\u53c8\\\\u4e0d\\\\u88dc\\\\u8fa6\\\\u8acb\\\\u5047\\\\u624b\\\\u7e8c\\\\u4e26\\\\u8aaa\\\\u660e\\\\u539f\\\\u56e0\\\\u8005\\\\uff0c\\\\u8996\\\\u540c\\\\u66e0\\\\u8077\\\\u3002\\\\\"\\\\n}\", \"annotations\": null}, {\"type\": \"text\", \"text\": \"{\\\\n  \\\\\"score\\\\\": 0.2335058,\\\\n  \\\\\"text\\\\\": \\\\\"\\\\u4e00\\\\u3001\\\\u540c\\\\u4ec1\\\\u56e0\\\\u666e\\\\u901a\\\\u50b7\\\\u5bb3\\\\u3001\\\\u75be\\\\u75c5\\\\u6216\\\\u751f\\\\u7406\\\\u539f\\\\u56e0\\\\u9020\\\\u6210\\\\u8eab\\\\u9ad4\\\\u72c0\\\\u6cc1\\\\u7121\\\\u6cd5\\\\u6b63\\\\u5e38\\\\u5de5\\\\u4f5c\\\\uff0c\\\\u800c\\\\u5fc5\\\\u9808\\\\u6cbb\\\\u7642\\\\u6216\\\\u4f11\\\\u990a\\\\u8005\\\\uff0c\\\\u5f97\\\\u5728\\\\u4e0b\\\\u5217\\\\u7bc4\\\\u570d\\\\u5167\\\\u8acb\\\\u666e\\\\u901a\\\\u50b7\\\\u75c5\\\\u5047\\\\u3002\\\\\\\\n\\\\uff0e\\\\u672a\\\\u4f4f\\\\u9662\\\\u8005\\\\uff0c\\\\u4e00\\\\u5e74\\\\u5167\\\\u5408\\\\u8a08\\\\u4e0d\\\\u5f97\\\\u8d85\\\\u904e\\\\u4e09\\\\u5341\\\\u65e5\\\\\\\\n\\\\uff0e\\\\u4f4f\\\\u9662\\\\u8005\\\\uff0c\\\\u4e8c\\\\u5e74\\\\u5167\\\\u5408\\\\u8a08\\\\u4e0d\\\\u5f97\\\\u8d85\\\\u904e\\\\u4e00\\\\u5e74\\\\\\\\n\\\\uff0e\\\\u672a\\\\u4f4f\\\\u9662\\\\u53ca\\\\u4f4f\\\\u9662\\\\u8005\\\\uff0c\\\\u4e8c\\\\u5e74\\\\u5167\\\\u5408\\\\u8a08\\\\u4e0d\\\\u5f97\\\\u8d85\\\\u904e\\\\u4e00\\\\u5e74 \\\\\\\\n\\\\u4e8c\\\\u3001\\\\u666e\\\\u901a\\\\u50b7\\\\u75c5\\\\u5047\\\\u4e00\\\\u5e74\\\\u5408\\\\u8a08\\\\u672a\\\\u8d85\\\\u904e\\\\u4e09\\\\u5341\\\\u65e5\\\\u90e8\\\\u4efd\\\\uff0c\\\\u5de5\\\\u8cc7\\\\u6298\\\\u534a\\\\u767c\\\\u7d66\\\\uff0c\\\\u8d85\\\\u904e\\\\u4e09\\\\u5341\\\\u65e5\\\\u6642\\\\u4ee5\\\\u7279\\\\u4f11\\\\u5047\\\\u6216\\\\u4e8b\\\\u5047\\\\u62b5\\\\u5145\\\\uff0c\\\\u62b5\\\\u5145\\\\u5f8c\\\\u82e5\\\\u4ecd\\\\u7136\\\\u4e0d\\\\u5920\\\\u8005\\\\uff0c\\\\u5f97\\\\u4e88\\\\u7559\\\\u8077\\\\u505c\\\\u85aa\\\\uff0c\\\\u4ee5\\\\u4e00\\\\u5e74\\\\u70ba\\\\u9650\\\\uff0c\\\\u4e4b\\\\u5f8c\\\\u82e5\\\\u4ecd\\\\u7136\\\\u7121\\\\u6cd5\\\\u5de5\\\\u4f5c\\\\u8005\\\\uff0c\\\\u4f9d\\\\u6cd5\\\\u8cc7\\\\u9063\\\\u6216\\\\u81ea\\\\u8acb\\\\u96e2\\\\u8077\\\\u3002\\\\\\\\n\\\\u4e09\\\\u3001\\\\u8acb\\\\u5047\\\\u8d85\\\\u904e\\\\u4e94\\\\u65e5\\\\u8005\\\\uff0c\\\\u9808\\\\u65bc\\\\u4e8b\\\\u5f8c\\\\u6301\\\\u91ab\\\\u9662\\\\u8b49\\\\u660e\\\\u92b7\\\\u5047\\\\uff0c\\\\u672a\\\\u6301\\\\u8b49\\\\u660e\\\\u8005\\\\u4ee5\\\\u7279\\\\u4f11\\\\u5047\\\\u8655\\\\u7406\\\\uff0c\\\\u8d85\\\\u904e\\\\u5341\\\\u4e94\\\\u65e5\\\\u800c\\\\u53c8\\\\u672a\\\\u80fd\\\\u63d0\\\\u51fa\\\\u91ab\\\\u9662\\\\u8b49\\\\u660e\\\\u8005\\\\uff0c\\\\u4ee5\\\\u66e0\\\\u8077\\\\u8ad6\\\\u3002\\\\\\\\n\\\\u56db\\\\u3001\\\\u4e00\\\\u6b21\\\\u9023\\\\u7e8c\\\\u8acb\\\\u666e\\\\u901a\\\\u50b7\\\\u75c5\\\\u5047\\\\u8d85\\\\u904e\\\\u4e09\\\\u5341\\\\u65e5\\\\u4ee5\\\\u4e0a\\\\u4e4b\\\\u671f\\\\u9593\\\\uff0c\\\\u5982\\\\u9047\\\\u4f8b\\\\u5047\\\\u65e5\\\\u3001\\\\u7d00\\\\u5ff5\\\\u65e5\\\\u3001\\\\u52de\\\\u52d5\\\\u7bc0\\\\u65e5\\\\u53ca\\\\u7531\\\\u4e2d\\\\u592e\\\\u4e3b\\\\u7ba1\\\\u6a5f\\\\u95dc\\\\u898f\\\\u5b9a\\\\u61c9\\\\u653e\\\\u5047\\\\u4e4b\\\\u65e5\\\\uff0c\\\\u4f75\\\\u8a08\\\\u65bc\\\\u8acb\\\\u5047\\\\u671f\\\\u9593\\\\u5167\\\\u3002\\\\\\\\n\\\\u4e94\\\\u3001\\\\u85aa\\\\u8cc7\\\\u6e1b\\\\u534a\\\\u767c\\\\u7d66\\\\u3002\\\\\"\\\\n}\", \"annotations\": null}, {\"type\": \"text\", \"text\": \"{\\\\n  \\\\\"score\\\\\": 0.20883767,\\\\n  \\\\\"text\\\\\": \\\\\"\\\\u4e00\\\\u3001\\\\u96fb\\\\u5b50\\\\u90f5\\\\u4ef6\\\\u4e4b\\\\u4f7f\\\\u7528\\\\u4fc2\\\\u4ee5\\\\u516c\\\\u52d9\\\\u806f\\\\u7d61\\\\u70ba\\\\u7b2c\\\\u4e00\\\\u512a\\\\u5148\\\\uff0c\\\\u4e0d\\\\u5f97\\\\u70ba\\\\u6709\\\\u5bb3\\\\u516c\\\\u53f8\\\\u4e4b\\\\u884c\\\\u70ba\\\\u3002\\\\\\\\n\\\\u4e8c\\\\u3001\\\\u672a\\\\u7d93\\\\u5141\\\\u8a31\\\\u7981\\\\u6b62\\\\u4f7f\\\\u7528\\\\u516c\\\\u53f8\\\\u96fb\\\\u5b50\\\\u90f5\\\\u4ef6\\\\u5e33\\\\u865f\\\\u50b3\\\\u9001\\\\u5927\\\\u91cf\\\\u90f5\\\\u4ef6\\\\uff0c\\\\u4ee5\\\\u514d\\\\u5f71\\\\u97ff\\\\u90f5\\\\u4ef6\\\\u670d\\\\u52d9\\\\u6b63\\\\u5e38\\\\u904b\\\\u4f5c\\\\u3002\\\\\\\\n\\\\u4e09\\\\u3001\\\\u96fb\\\\u5b50\\\\u90f5\\\\u4ef6\\\\u4f7f\\\\u7528\\\\u9700\\\\u9075\\\\u884c\\\\u4e00\\\\u822c\\\\u7db2\\\\u8def\\\\u4f7f\\\\u7528\\\\u898f\\\\u7bc4\\\\uff0c\\\\u767c\\\\u9001\\\\u6642\\\\u8acb\\\\u52ff\\\\u593e\\\\u5e36\\\\u5927\\\\u91cf\\\\u9644\\\\u4ef6\\\\u8cc7\\\\u6599\\\\u3002\\\\\\\\n\\\\u56db\\\\u3001\\\\u7db2\\\\u969b\\\\u7db2\\\\u8def\\\\u4e4b\\\\u4f7f\\\\u7528\\\\u61c9\\\\u4ee5\\\\u516c\\\\u52d9\\\\u67e5\\\\u8a62\\\\u53ca\\\\u5e02\\\\u5834\\\\u61c9\\\\u7528\\\\u70ba\\\\u4e3b\\\\uff0c\\\\u56b4\\\\u7981\\\\u9032\\\\u5165\\\\u4e0d\\\\u7576\\\\u7db2\\\\u7ad9\\\\u3002\\\\u4e0a\\\\u73ed\\\\u671f\\\\u9593\\\\u7981\\\\u6b62\\\\u67e5\\\\u8a62\\\\u8207\\\\u696d\\\\u52d9\\\\u7121\\\\u95dc\\\\u4e4b\\\\u7db2\\\\u7ad9\\\\uff0c\\\\u6216\\\\u900f\\\\u904e\\\\u516c\\\\u53f8\\\\u5171\\\\u7528\\\\u7db2\\\\u8def\\\\u9032\\\\u884c\\\\u8207\\\\u516c\\\\u52d9\\\\u7121\\\\u95dc\\\\u4e4b\\\\u8cc7\\\\u6599\\\\u4e0a\\\\u50b3(upload)\\\\u6216\\\\u4e0b\\\\u8f09(download)\\\\u884c\\\\u70ba\\\\u3002\\\\\\\\n\\\\u4e94\\\\u3001\\\\u9664\\\\u516c\\\\u53f8\\\\u898f\\\\u7bc4\\\\u958b\\\\u653e\\\\u4e4b\\\\u7db2\\\\u969b\\\\u7db2\\\\u8def\\\\u670d\\\\u52d9\\\\u61c9\\\\u7528\\\\u5916\\\\uff0c\\\\u5176\\\\u4ed6\\\\u7279\\\\u6b8a\\\\u670d\\\\u52d9\\\\u901a\\\\u9053\\\\u9700\\\\u900f\\\\u904e\\\\u6a19\\\\u6e96\\\\u7a0b\\\\u5e8f\\\\u7533\\\\u8acb\\\\uff0c\\\\u4e26\\\\u7d93\\\\u90e8\\\\u9580\\\\u4e3b\\\\u7ba1\\\\u6388\\\\u6b0a\\\\u5f8c\\\\u6703\\\\u540c\\\\u7ba1\\\\u7406\\\\u8cc7\\\\u8a0a\\\\u4e2d\\\\u5fc3\\\\u5171\\\\u540c\\\\u57f7\\\\u884c\\\\u3002\\\\\"\\\\n}\", \"annotations\": null}]', 'type': 'function_call_output'}, {'id': '__fake_id__', 'content': [{'annotations': [], 'text': '根據公司規定，臨時請假有以下規範：\\n\\n*   公司同仁如有下列事由，得申請休假。\\n    *   年假已結餘四天以上。\\n    *   職務身故或因故無法履行職責者。\\n\\n*   一、 85aa8cc7請假以月為單位，請假者以月為單位退回日數，以30計算天數。\\n*   二、 85aa8cc7請假時，應事先填寫請假單，經主管核定後方可請假。\\n*   一、 4e0085aa4e004f114e007a2e530556e0，如因婚假、產假、喪假、公假、育嬰假、陪產假、病假、留職停薪等，應備妥相關證明文件。\\n*   二、 85aa8cc7病假應經由醫療單位開立診斷證明書。\\n*   三、 4e0085aa56db50474e898f7bc44f7f75224e0065e0，應事先填寫請假單，經主管核可後方可請假，並於事後補辦相關手續。\\n\\n請您依照上述規定辦理，如有任何疑問，請隨時向主管洽詢。', 'type': 'output_text'}], 'role': 'assistant', 'status': 'completed', 'type': 'message'}, {'role': 'user', 'content': '規範好奇怪，不請假了'}]\n",
      "Input conversation: [{'id': '__fake_id__', 'content': [{'annotations': [], 'text': '哇！今天天氣真好！33度加上晴朗的天空，真是太棒了！有什麼特別的計畫嗎？', 'type': 'output_text'}], 'role': 'assistant', 'status': 'completed', 'type': 'message'}, {'role': 'user', 'content': '我想要出去玩，臨時請假有沒有什麼規範？'}, {'arguments': '{\"query\":\"臨時請假 規範\"}', 'call_id': 'fYg8eVM2mtCvgvja4EXMD5IDYq9ydO6k', 'name': 'retrieve_fps_rules_db', 'type': 'function_call', 'id': '__fake_id__'}, {'call_id': 'fYg8eVM2mtCvgvja4EXMD5IDYq9ydO6k', 'output': '[{\"type\": \"text\", \"text\": \"{\\\\n  \\\\\"score\\\\\": 0.7,\\\\n  \\\\\"text\\\\\": \\\\\"\\\\u516c\\\\u53f8\\\\u540c\\\\u4ec1\\\\u6709\\\\u4e0b\\\\u5217\\\\u60c5\\\\u5f62\\\\uff0c\\\\u5f97\\\\u5f37\\\\u5236\\\\u5176\\\\u9000\\\\u4f11\\\\u3002\\\\\\\\n\\\\u4e00\\\\u3001\\\\u5e74\\\\u9f61\\\\u5df2\\\\u9054\\\\u516d\\\\u5341\\\\u4e94\\\\u6b72\\\\u8005\\\\u3002\\\\\\\\n\\\\u4e8c\\\\u3001\\\\u8eab\\\\u5fc3\\\\u969c\\\\u7919\\\\u4e0d\\\\u582a\\\\u52dd\\\\u4efb\\\\u5de5\\\\u4f5c\\\\u8005\\\\u3002\\\\\"\\\\n}\", \"annotations\": null}, {\"type\": \"text\", \"text\": \"{\\\\n  \\\\\"score\\\\\": 0.4851001,\\\\n  \\\\\"text\\\\\": \\\\\"\\\\u4e00\\\\u3001\\\\u85aa\\\\u8cc7\\\\u63a1\\\\u6708\\\\u85aa\\\\u5236\\\\uff0c\\\\u7834\\\\u6708\\\\u8005\\\\u85aa\\\\u8cc7\\\\u4ee5\\\\u6708\\\\u85aa\\\\u9664\\\\u4ee530\\\\u7b97\\\\u51fa\\\\u65e5\\\\u85aa\\\\u8cc7\\\\u518d\\\\u4e58\\\\u5be6\\\\u969b\\\\u5de5\\\\u4f5c\\\\u5929\\\\u6578(\\\\u542b\\\\u5de5\\\\u4f5c\\\\u671f\\\\u9593\\\\u7684\\\\u4f8b\\\\u5047\\\\u65e5)\\\\u3002\\\\u6642\\\\u85aa\\\\u5247\\\\u4ee5\\\\u65e5\\\\u85aa\\\\u9664\\\\u4ee58\\\\u8a08\\\\u7b97\\\\u5f97\\\\u4e4b\\\\u3002\\\\\\\\n\\\\u4e8c\\\\u3001\\\\u85aa\\\\u8cc7\\\\u9805\\\\u76ee\\\\u4e3b\\\\u8981\\\\u5340\\\\u5206\\\\u70ba\\\\u4e8c\\\\u985e\\\\\\\\n\\\\u57fa\\\\u672c\\\\u85aa\\\\u8cc7\\\\uff1a\\\\u4f9d\\\\u540c\\\\u4ec1\\\\u6240\\\\u4efb\\\\u8077\\\\u52d9\\\\u4e4b\\\\u4e0d\\\\u540c\\\\u6240\\\\u7d66\\\\u4e88\\\\u4e4b\\\\u5de5\\\\u4f5c\\\\u5831\\\\u916c\\\\u7a31\\\\u4e4b\\\\u3002\\\\\\\\n\\\\u4e3b\\\\u7ba1\\\\u52a0\\\\u7d66\\\\uff1a\\\\u4ed8\\\\u8207\\\\u4efb\\\\u7ba1\\\\u7406\\\\u8077\\\\u7684\\\\u540c\\\\u4ec1\\\\u7684\\\\u85aa\\\\u8cc7\\\\u52a0\\\\u7d66\\\\u7a31\\\\u4e4b\\\\u3002\\\\\\\\n\\\\u85aa\\\\u8cc7\\\\u8207\\\\u8077\\\\u52d9\\\\u5c0d\\\\u7167\\\\u8868\\\\u53e6\\\\u884c\\\\u8a02\\\\u5b9a\\\\uff0c\\\\u4e26\\\\u4f9d\\\\u7576\\\\u6642\\\\u4e4b\\\\u7269\\\\u50f9\\\\u6307\\\\u6578\\\\u4e0d\\\\u540c\\\\u800c\\\\u8abf\\\\u6574\\\\u3002\\\\\"\\\\n}\", \"annotations\": null}, {\"type\": \"text\", \"text\": \"{\\\\n  \\\\\"score\\\\\": 0.3,\\\\n  \\\\\"text\\\\\": \\\\\"\\\\u4e00\\\\u3001\\\\u4f11\\\\u5047\\\\u7a2e\\\\u985e\\\\u5305\\\\u542b\\\\uff1a\\\\u7279\\\\u4f11\\\\u5047\\\\u3001\\\\u751f\\\\u65e5\\\\u5047\\\\u3001\\\\u666e\\\\u901a\\\\u50b7\\\\u75c5\\\\u5047\\\\u3001\\\\u4e8b\\\\u5047\\\\u3001\\\\u5bb6\\\\u5ead\\\\u7167\\\\u9867\\\\u5047\\\\u3001\\\\u5a5a\\\\u5047\\\\u3001\\\\u55aa\\\\u5047\\\\u3001\\\\u7522\\\\u5047\\\\u3001\\\\u966a\\\\u7522\\\\u5047\\\\u3001\\\\u7522\\\\u6aa2\\\\u5047\\\\u3001\\\\u5b89\\\\u80ce\\\\u5047\\\\u3001\\\\u516c\\\\u50b7\\\\u5047\\\\u3001\\\\u751f\\\\u7406\\\\u5047\\\\u3001\\\\u516c\\\\u5047\\\\u5171\\\\u5341\\\\u56db\\\\u7a2e\\\\u3002\\\\\\\\n\\\\u4e8c\\\\u3001\\\\u8acb\\\\u5047\\\\u65b9\\\\u6cd5\\\\uff1a\\\\u54e1\\\\u5de5\\\\u56e0\\\\u6545\\\\u5fc5\\\\u9808\\\\u8acb\\\\u5047\\\\u8005\\\\uff0c\\\\u61c9\\\\u4e8b\\\\u5148\\\\u586b\\\\u5beb\\\\u8acb\\\\u5047\\\\u55ae\\\\u6216\\\\u53e3\\\\u982d\\\\u6558\\\\u660e\\\\u7406\\\\u7531\\\\u7d93\\\\u6838\\\\u5b9a\\\\u5f8c\\\\u65b9\\\\u53ef\\\\u96e2\\\\u958b\\\\u5de5\\\\u4f5c\\\\u5d17\\\\u4f4d\\\\u6216\\\\u4e0d\\\\u51fa\\\\u52e4\\\\u3002\\\\\\\\n \\\\\\\\n\\\\u8acb\\\\u5047\\\\u5929\\\\u6578\\\\uff0c\\\\u6838\\\\u51c6\\\\u4e3b\\\\u7ba1\\\\u6b0a\\\\u9650\\\\u53ca\\\\u4e8b\\\\u524d\\\\u5929\\\\u6578\\\\u8fa6\\\\u6cd5\\\\u5982\\\\u4e0b\\\\uff1a\\\\\\\\n\\\\u8acb\\\\u5047\\\\u5929\\\\u6578\\\\\\\\t\\\\u4e8b\\\\u524d\\\\u5929\\\\u6578\\\\\\\\t\\\\u6838\\\\u51c6\\\\u4e3b\\\\u7ba1\\\\u6b0a\\\\u9650\\\\\\\\n0<\\\\u5929\\\\u6578\\\\u22665\\\\\\\\t\\\\u4e09\\\\u5929\\\\u524d\\\\\\\\t\\\\u90e8\\\\u9580\\\\u4e3b\\\\u7ba1\\\\\\\\n5<\\\\u5929\\\\u6578\\\\u226610\\\\\\\\t\\\\u4e00\\\\u9031\\\\u524d\\\\\\\\t\\\\u8655\\\\u7d1a\\\\u4e3b\\\\u7ba1\\\\\\\\n\\\\u5929\\\\u6578>10\\\\\\\\t\\\\u5169\\\\u9031\\\\u524d\\\\\\\\t\\\\u696d\\\\u52d9/\\\\u4e8b\\\\u696d\\\\u7fa4\\\\u7e3d\\\\u7d93\\\\u7406\\\\\\\\n\\\\u4e09\\\\u3001\\\\u81e8\\\\u6642\\\\u72c0\\\\u6cc1\\\\uff1a\\\\u540c\\\\u4ec1\\\\u56e0\\\\u7a81\\\\u767c\\\\u4e8b\\\\u4ef6\\\\u6216\\\\u751f\\\\u75c5\\\\u5fc5\\\\u9808\\\\u65bc\\\\u7576\\\\u65e5\\\\u8acb\\\\u5047\\\\u8005\\\\uff0c\\\\u5f97\\\\u65bc\\\\u7576\\\\u65e510:00\\\\u524d\\\\u4ee5\\\\u96fb\\\\u8a71\\\\u5411\\\\u4e3b\\\\u7ba1\\\\u5831\\\\u5099\\\\uff0c\\\\u4e26\\\\u65bc\\\\u4e8b\\\\u5f8c\\\\u88dc\\\\u8fa6\\\\u8acb\\\\u5047\\\\u624b\\\\u7e8c\\\\u3002\\\\\\\\n\\\\u56db\\\\u3001\\\\u540c\\\\u4ec1\\\\u672a\\\\u4f9d\\\\u898f\\\\u5b9a\\\\u8fa6\\\\u7406\\\\u8acb\\\\u5047\\\\u624b\\\\u7e8c\\\\u8005\\\\uff0c\\\\u4e8b\\\\u5f8c\\\\u53c8\\\\u4e0d\\\\u88dc\\\\u8fa6\\\\u8acb\\\\u5047\\\\u624b\\\\u7e8c\\\\u4e26\\\\u8aaa\\\\u660e\\\\u539f\\\\u56e0\\\\u8005\\\\uff0c\\\\u8996\\\\u540c\\\\u66e0\\\\u8077\\\\u3002\\\\\"\\\\n}\", \"annotations\": null}, {\"type\": \"text\", \"text\": \"{\\\\n  \\\\\"score\\\\\": 0.2335058,\\\\n  \\\\\"text\\\\\": \\\\\"\\\\u4e00\\\\u3001\\\\u540c\\\\u4ec1\\\\u56e0\\\\u666e\\\\u901a\\\\u50b7\\\\u5bb3\\\\u3001\\\\u75be\\\\u75c5\\\\u6216\\\\u751f\\\\u7406\\\\u539f\\\\u56e0\\\\u9020\\\\u6210\\\\u8eab\\\\u9ad4\\\\u72c0\\\\u6cc1\\\\u7121\\\\u6cd5\\\\u6b63\\\\u5e38\\\\u5de5\\\\u4f5c\\\\uff0c\\\\u800c\\\\u5fc5\\\\u9808\\\\u6cbb\\\\u7642\\\\u6216\\\\u4f11\\\\u990a\\\\u8005\\\\uff0c\\\\u5f97\\\\u5728\\\\u4e0b\\\\u5217\\\\u7bc4\\\\u570d\\\\u5167\\\\u8acb\\\\u666e\\\\u901a\\\\u50b7\\\\u75c5\\\\u5047\\\\u3002\\\\\\\\n\\\\uff0e\\\\u672a\\\\u4f4f\\\\u9662\\\\u8005\\\\uff0c\\\\u4e00\\\\u5e74\\\\u5167\\\\u5408\\\\u8a08\\\\u4e0d\\\\u5f97\\\\u8d85\\\\u904e\\\\u4e09\\\\u5341\\\\u65e5\\\\\\\\n\\\\uff0e\\\\u4f4f\\\\u9662\\\\u8005\\\\uff0c\\\\u4e8c\\\\u5e74\\\\u5167\\\\u5408\\\\u8a08\\\\u4e0d\\\\u5f97\\\\u8d85\\\\u904e\\\\u4e00\\\\u5e74\\\\\\\\n\\\\uff0e\\\\u672a\\\\u4f4f\\\\u9662\\\\u53ca\\\\u4f4f\\\\u9662\\\\u8005\\\\uff0c\\\\u4e8c\\\\u5e74\\\\u5167\\\\u5408\\\\u8a08\\\\u4e0d\\\\u5f97\\\\u8d85\\\\u904e\\\\u4e00\\\\u5e74 \\\\\\\\n\\\\u4e8c\\\\u3001\\\\u666e\\\\u901a\\\\u50b7\\\\u75c5\\\\u5047\\\\u4e00\\\\u5e74\\\\u5408\\\\u8a08\\\\u672a\\\\u8d85\\\\u904e\\\\u4e09\\\\u5341\\\\u65e5\\\\u90e8\\\\u4efd\\\\uff0c\\\\u5de5\\\\u8cc7\\\\u6298\\\\u534a\\\\u767c\\\\u7d66\\\\uff0c\\\\u8d85\\\\u904e\\\\u4e09\\\\u5341\\\\u65e5\\\\u6642\\\\u4ee5\\\\u7279\\\\u4f11\\\\u5047\\\\u6216\\\\u4e8b\\\\u5047\\\\u62b5\\\\u5145\\\\uff0c\\\\u62b5\\\\u5145\\\\u5f8c\\\\u82e5\\\\u4ecd\\\\u7136\\\\u4e0d\\\\u5920\\\\u8005\\\\uff0c\\\\u5f97\\\\u4e88\\\\u7559\\\\u8077\\\\u505c\\\\u85aa\\\\uff0c\\\\u4ee5\\\\u4e00\\\\u5e74\\\\u70ba\\\\u9650\\\\uff0c\\\\u4e4b\\\\u5f8c\\\\u82e5\\\\u4ecd\\\\u7136\\\\u7121\\\\u6cd5\\\\u5de5\\\\u4f5c\\\\u8005\\\\uff0c\\\\u4f9d\\\\u6cd5\\\\u8cc7\\\\u9063\\\\u6216\\\\u81ea\\\\u8acb\\\\u96e2\\\\u8077\\\\u3002\\\\\\\\n\\\\u4e09\\\\u3001\\\\u8acb\\\\u5047\\\\u8d85\\\\u904e\\\\u4e94\\\\u65e5\\\\u8005\\\\uff0c\\\\u9808\\\\u65bc\\\\u4e8b\\\\u5f8c\\\\u6301\\\\u91ab\\\\u9662\\\\u8b49\\\\u660e\\\\u92b7\\\\u5047\\\\uff0c\\\\u672a\\\\u6301\\\\u8b49\\\\u660e\\\\u8005\\\\u4ee5\\\\u7279\\\\u4f11\\\\u5047\\\\u8655\\\\u7406\\\\uff0c\\\\u8d85\\\\u904e\\\\u5341\\\\u4e94\\\\u65e5\\\\u800c\\\\u53c8\\\\u672a\\\\u80fd\\\\u63d0\\\\u51fa\\\\u91ab\\\\u9662\\\\u8b49\\\\u660e\\\\u8005\\\\uff0c\\\\u4ee5\\\\u66e0\\\\u8077\\\\u8ad6\\\\u3002\\\\\\\\n\\\\u56db\\\\u3001\\\\u4e00\\\\u6b21\\\\u9023\\\\u7e8c\\\\u8acb\\\\u666e\\\\u901a\\\\u50b7\\\\u75c5\\\\u5047\\\\u8d85\\\\u904e\\\\u4e09\\\\u5341\\\\u65e5\\\\u4ee5\\\\u4e0a\\\\u4e4b\\\\u671f\\\\u9593\\\\uff0c\\\\u5982\\\\u9047\\\\u4f8b\\\\u5047\\\\u65e5\\\\u3001\\\\u7d00\\\\u5ff5\\\\u65e5\\\\u3001\\\\u52de\\\\u52d5\\\\u7bc0\\\\u65e5\\\\u53ca\\\\u7531\\\\u4e2d\\\\u592e\\\\u4e3b\\\\u7ba1\\\\u6a5f\\\\u95dc\\\\u898f\\\\u5b9a\\\\u61c9\\\\u653e\\\\u5047\\\\u4e4b\\\\u65e5\\\\uff0c\\\\u4f75\\\\u8a08\\\\u65bc\\\\u8acb\\\\u5047\\\\u671f\\\\u9593\\\\u5167\\\\u3002\\\\\\\\n\\\\u4e94\\\\u3001\\\\u85aa\\\\u8cc7\\\\u6e1b\\\\u534a\\\\u767c\\\\u7d66\\\\u3002\\\\\"\\\\n}\", \"annotations\": null}, {\"type\": \"text\", \"text\": \"{\\\\n  \\\\\"score\\\\\": 0.20883767,\\\\n  \\\\\"text\\\\\": \\\\\"\\\\u4e00\\\\u3001\\\\u96fb\\\\u5b50\\\\u90f5\\\\u4ef6\\\\u4e4b\\\\u4f7f\\\\u7528\\\\u4fc2\\\\u4ee5\\\\u516c\\\\u52d9\\\\u806f\\\\u7d61\\\\u70ba\\\\u7b2c\\\\u4e00\\\\u512a\\\\u5148\\\\uff0c\\\\u4e0d\\\\u5f97\\\\u70ba\\\\u6709\\\\u5bb3\\\\u516c\\\\u53f8\\\\u4e4b\\\\u884c\\\\u70ba\\\\u3002\\\\\\\\n\\\\u4e8c\\\\u3001\\\\u672a\\\\u7d93\\\\u5141\\\\u8a31\\\\u7981\\\\u6b62\\\\u4f7f\\\\u7528\\\\u516c\\\\u53f8\\\\u96fb\\\\u5b50\\\\u90f5\\\\u4ef6\\\\u5e33\\\\u865f\\\\u50b3\\\\u9001\\\\u5927\\\\u91cf\\\\u90f5\\\\u4ef6\\\\uff0c\\\\u4ee5\\\\u514d\\\\u5f71\\\\u97ff\\\\u90f5\\\\u4ef6\\\\u670d\\\\u52d9\\\\u6b63\\\\u5e38\\\\u904b\\\\u4f5c\\\\u3002\\\\\\\\n\\\\u4e09\\\\u3001\\\\u96fb\\\\u5b50\\\\u90f5\\\\u4ef6\\\\u4f7f\\\\u7528\\\\u9700\\\\u9075\\\\u884c\\\\u4e00\\\\u822c\\\\u7db2\\\\u8def\\\\u4f7f\\\\u7528\\\\u898f\\\\u7bc4\\\\uff0c\\\\u767c\\\\u9001\\\\u6642\\\\u8acb\\\\u52ff\\\\u593e\\\\u5e36\\\\u5927\\\\u91cf\\\\u9644\\\\u4ef6\\\\u8cc7\\\\u6599\\\\u3002\\\\\\\\n\\\\u56db\\\\u3001\\\\u7db2\\\\u969b\\\\u7db2\\\\u8def\\\\u4e4b\\\\u4f7f\\\\u7528\\\\u61c9\\\\u4ee5\\\\u516c\\\\u52d9\\\\u67e5\\\\u8a62\\\\u53ca\\\\u5e02\\\\u5834\\\\u61c9\\\\u7528\\\\u70ba\\\\u4e3b\\\\uff0c\\\\u56b4\\\\u7981\\\\u9032\\\\u5165\\\\u4e0d\\\\u7576\\\\u7db2\\\\u7ad9\\\\u3002\\\\u4e0a\\\\u73ed\\\\u671f\\\\u9593\\\\u7981\\\\u6b62\\\\u67e5\\\\u8a62\\\\u8207\\\\u696d\\\\u52d9\\\\u7121\\\\u95dc\\\\u4e4b\\\\u7db2\\\\u7ad9\\\\uff0c\\\\u6216\\\\u900f\\\\u904e\\\\u516c\\\\u53f8\\\\u5171\\\\u7528\\\\u7db2\\\\u8def\\\\u9032\\\\u884c\\\\u8207\\\\u516c\\\\u52d9\\\\u7121\\\\u95dc\\\\u4e4b\\\\u8cc7\\\\u6599\\\\u4e0a\\\\u50b3(upload)\\\\u6216\\\\u4e0b\\\\u8f09(download)\\\\u884c\\\\u70ba\\\\u3002\\\\\\\\n\\\\u4e94\\\\u3001\\\\u9664\\\\u516c\\\\u53f8\\\\u898f\\\\u7bc4\\\\u958b\\\\u653e\\\\u4e4b\\\\u7db2\\\\u969b\\\\u7db2\\\\u8def\\\\u670d\\\\u52d9\\\\u61c9\\\\u7528\\\\u5916\\\\uff0c\\\\u5176\\\\u4ed6\\\\u7279\\\\u6b8a\\\\u670d\\\\u52d9\\\\u901a\\\\u9053\\\\u9700\\\\u900f\\\\u904e\\\\u6a19\\\\u6e96\\\\u7a0b\\\\u5e8f\\\\u7533\\\\u8acb\\\\uff0c\\\\u4e26\\\\u7d93\\\\u90e8\\\\u9580\\\\u4e3b\\\\u7ba1\\\\u6388\\\\u6b0a\\\\u5f8c\\\\u6703\\\\u540c\\\\u7ba1\\\\u7406\\\\u8cc7\\\\u8a0a\\\\u4e2d\\\\u5fc3\\\\u5171\\\\u540c\\\\u57f7\\\\u884c\\\\u3002\\\\\"\\\\n}\", \"annotations\": null}]', 'type': 'function_call_output'}, {'id': '__fake_id__', 'content': [{'annotations': [], 'text': '根據公司規定，臨時請假有以下規範：\\n\\n*   公司同仁如有下列事由，得申請休假。\\n    *   年假已結餘四天以上。\\n    *   職務身故或因故無法履行職責者。\\n\\n*   一、 85aa8cc7請假以月為單位，請假者以月為單位退回日數，以30計算天數。\\n*   二、 85aa8cc7請假時，應事先填寫請假單，經主管核定後方可請假。\\n*   一、 4e0085aa4e004f114e007a2e530556e0，如因婚假、產假、喪假、公假、育嬰假、陪產假、病假、留職停薪等，應備妥相關證明文件。\\n*   二、 85aa8cc7病假應經由醫療單位開立診斷證明書。\\n*   三、 4e0085aa56db50474e898f7bc44f7f75224e0065e0，應事先填寫請假單，經主管核可後方可請假，並於事後補辦相關手續。\\n\\n請您依照上述規定辦理，如有任何疑問，請隨時向主管洽詢。', 'type': 'output_text'}], 'role': 'assistant', 'status': 'completed', 'type': 'message'}, {'role': 'user', 'content': '規範好奇怪，不請假了'}]\n",
      "2025-06-11 14:23:50 - LiteLLM - \n",
      "LiteLLM completion() model= gemma3:27b-it-qat; provider = openai\n",
      "2025-06-11 14:23:50 - httpx - HTTP Request: POST https://ml.gss.com.tw/gemma3/chat/completions \"HTTP/1.1 500 Internal Server Error\"\n",
      "2025-06-11 14:23:50 - openai._base_client - Retrying request to /chat/completions in 0.402200 seconds\n",
      "2025-06-11 14:23:51 - httpx - HTTP Request: POST https://ml.gss.com.tw/gemma3/chat/completions \"HTTP/1.1 500 Internal Server Error\"\n",
      "2025-06-11 14:23:51 - openai._base_client - Retrying request to /chat/completions in 0.906670 seconds\n",
      "2025-06-11 14:23:52 - httpx - HTTP Request: POST https://ml.gss.com.tw/gemma3/chat/completions \"HTTP/1.1 500 Internal Server Error\"\n",
      "\n",
      "\u001b[1;31mGive Feedback / Get Help: https://github.com/BerriAI/litellm/issues/new\u001b[0m\n",
      "LiteLLM.Info: If you need to debug this error, use `litellm._turn_on_debug()'.\n",
      "\n"
     ]
    },
    {
     "ename": "APIError",
     "evalue": "litellm.APIError: APIError: OpenAIException - Conversation roles must alternate user/assistant/user/assistant/... at row 19, column 27:\n    {%- if (message['role'] == 'user') != (loop.index0 % 2 == 0) -%}\n        {{ raise_exception(\"Conversation roles must alternate user/assistant/user/assistant/...\") }}\n                          ^\n    {%- endif -%}\n at row 19, column 9:\n    {%- if (message['role'] == 'user') != (loop.index0 % 2 == 0) -%}\n        {{ raise_exception(\"Conversation roles must alternate user/assistant/user/assistant/...\") }}\n        ^\n    {%- endif -%}\n at row 18, column 69:\n{%- for message in loop_messages -%}\n    {%- if (message['role'] == 'user') != (loop.index0 % 2 == 0) -%}\n                                                                    ^\n        {{ raise_exception(\"Conversation roles must alternate user/assistant/user/assistant/...\") }}\n at row 18, column 5:\n{%- for message in loop_messages -%}\n    {%- if (message['role'] == 'user') != (loop.index0 % 2 == 0) -%}\n    ^\n        {{ raise_exception(\"Conversation roles must alternate user/assistant/user/assistant/...\") }}\n at row 17, column 37:\n{%- endif -%}\n{%- for message in loop_messages -%}\n                                    ^\n    {%- if (message['role'] == 'user') != (loop.index0 % 2 == 0) -%}\n at row 17, column 1:\n{%- endif -%}\n{%- for message in loop_messages -%}\n^\n    {%- if (message['role'] == 'user') != (loop.index0 % 2 == 0) -%}\n at row 1, column 1:\n{{ bos_token }}\n^\n{%- if messages[0]['role'] == 'system' -%}\n",
     "output_type": "error",
     "traceback": [
      "\u001b[31m---------------------------------------------------------------------------\u001b[39m",
      "\u001b[31mInternalServerError\u001b[39m                       Traceback (most recent call last)",
      "\u001b[36mFile \u001b[39m\u001b[32m~/Code/agent_framework_testing/.venv/lib/python3.12/site-packages/litellm/llms/openai/openai.py:801\u001b[39m, in \u001b[36mOpenAIChatCompletion.acompletion\u001b[39m\u001b[34m(self, messages, optional_params, litellm_params, provider_config, model, model_response, logging_obj, timeout, api_key, api_base, api_version, organization, client, max_retries, headers, drop_params, stream_options, fake_stream)\u001b[39m\n\u001b[32m    788\u001b[39m logging_obj.pre_call(\n\u001b[32m    789\u001b[39m     \u001b[38;5;28minput\u001b[39m=data[\u001b[33m\"\u001b[39m\u001b[33mmessages\u001b[39m\u001b[33m\"\u001b[39m],\n\u001b[32m    790\u001b[39m     api_key=openai_aclient.api_key,\n\u001b[32m   (...)\u001b[39m\u001b[32m    798\u001b[39m     },\n\u001b[32m    799\u001b[39m )\n\u001b[32m--> \u001b[39m\u001b[32m801\u001b[39m headers, response = \u001b[38;5;28;01mawait\u001b[39;00m \u001b[38;5;28mself\u001b[39m.make_openai_chat_completion_request(\n\u001b[32m    802\u001b[39m     openai_aclient=openai_aclient,\n\u001b[32m    803\u001b[39m     data=data,\n\u001b[32m    804\u001b[39m     timeout=timeout,\n\u001b[32m    805\u001b[39m     logging_obj=logging_obj,\n\u001b[32m    806\u001b[39m )\n\u001b[32m    807\u001b[39m stringified_response = response.model_dump()\n",
      "\u001b[36mFile \u001b[39m\u001b[32m~/Code/agent_framework_testing/.venv/lib/python3.12/site-packages/litellm/litellm_core_utils/logging_utils.py:135\u001b[39m, in \u001b[36mtrack_llm_api_timing.<locals>.decorator.<locals>.async_wrapper\u001b[39m\u001b[34m(*args, **kwargs)\u001b[39m\n\u001b[32m    134\u001b[39m \u001b[38;5;28;01mtry\u001b[39;00m:\n\u001b[32m--> \u001b[39m\u001b[32m135\u001b[39m     result = \u001b[38;5;28;01mawait\u001b[39;00m func(*args, **kwargs)\n\u001b[32m    136\u001b[39m     \u001b[38;5;28;01mreturn\u001b[39;00m result\n",
      "\u001b[36mFile \u001b[39m\u001b[32m~/Code/agent_framework_testing/.venv/lib/python3.12/site-packages/litellm/llms/openai/openai.py:436\u001b[39m, in \u001b[36mOpenAIChatCompletion.make_openai_chat_completion_request\u001b[39m\u001b[34m(self, openai_aclient, data, timeout, logging_obj)\u001b[39m\n\u001b[32m    435\u001b[39m \u001b[38;5;28;01mexcept\u001b[39;00m \u001b[38;5;167;01mException\u001b[39;00m \u001b[38;5;28;01mas\u001b[39;00m e:\n\u001b[32m--> \u001b[39m\u001b[32m436\u001b[39m     \u001b[38;5;28;01mraise\u001b[39;00m e\n",
      "\u001b[36mFile \u001b[39m\u001b[32m~/Code/agent_framework_testing/.venv/lib/python3.12/site-packages/litellm/llms/openai/openai.py:418\u001b[39m, in \u001b[36mOpenAIChatCompletion.make_openai_chat_completion_request\u001b[39m\u001b[34m(self, openai_aclient, data, timeout, logging_obj)\u001b[39m\n\u001b[32m    416\u001b[39m \u001b[38;5;28;01mtry\u001b[39;00m:\n\u001b[32m    417\u001b[39m     raw_response = (\n\u001b[32m--> \u001b[39m\u001b[32m418\u001b[39m         \u001b[38;5;28;01mawait\u001b[39;00m openai_aclient.chat.completions.with_raw_response.create(\n\u001b[32m    419\u001b[39m             **data, timeout=timeout\n\u001b[32m    420\u001b[39m         )\n\u001b[32m    421\u001b[39m     )\n\u001b[32m    422\u001b[39m     end_time = time.time()\n",
      "\u001b[36mFile \u001b[39m\u001b[32m~/Code/agent_framework_testing/.venv/lib/python3.12/site-packages/openai/_legacy_response.py:381\u001b[39m, in \u001b[36masync_to_raw_response_wrapper.<locals>.wrapped\u001b[39m\u001b[34m(*args, **kwargs)\u001b[39m\n\u001b[32m    379\u001b[39m kwargs[\u001b[33m\"\u001b[39m\u001b[33mextra_headers\u001b[39m\u001b[33m\"\u001b[39m] = extra_headers\n\u001b[32m--> \u001b[39m\u001b[32m381\u001b[39m \u001b[38;5;28;01mreturn\u001b[39;00m cast(LegacyAPIResponse[R], \u001b[38;5;28;01mawait\u001b[39;00m func(*args, **kwargs))\n",
      "\u001b[36mFile \u001b[39m\u001b[32m~/Code/agent_framework_testing/.venv/lib/python3.12/site-packages/openai/resources/chat/completions/completions.py:2028\u001b[39m, in \u001b[36mAsyncCompletions.create\u001b[39m\u001b[34m(self, messages, model, audio, frequency_penalty, function_call, functions, logit_bias, logprobs, max_completion_tokens, max_tokens, metadata, modalities, n, parallel_tool_calls, prediction, presence_penalty, reasoning_effort, response_format, seed, service_tier, stop, store, stream, stream_options, temperature, tool_choice, tools, top_logprobs, top_p, user, web_search_options, extra_headers, extra_query, extra_body, timeout)\u001b[39m\n\u001b[32m   2027\u001b[39m validate_response_format(response_format)\n\u001b[32m-> \u001b[39m\u001b[32m2028\u001b[39m \u001b[38;5;28;01mreturn\u001b[39;00m \u001b[38;5;28;01mawait\u001b[39;00m \u001b[38;5;28mself\u001b[39m._post(\n\u001b[32m   2029\u001b[39m     \u001b[33m\"\u001b[39m\u001b[33m/chat/completions\u001b[39m\u001b[33m\"\u001b[39m,\n\u001b[32m   2030\u001b[39m     body=\u001b[38;5;28;01mawait\u001b[39;00m async_maybe_transform(\n\u001b[32m   2031\u001b[39m         {\n\u001b[32m   2032\u001b[39m             \u001b[33m\"\u001b[39m\u001b[33mmessages\u001b[39m\u001b[33m\"\u001b[39m: messages,\n\u001b[32m   2033\u001b[39m             \u001b[33m\"\u001b[39m\u001b[33mmodel\u001b[39m\u001b[33m\"\u001b[39m: model,\n\u001b[32m   2034\u001b[39m             \u001b[33m\"\u001b[39m\u001b[33maudio\u001b[39m\u001b[33m\"\u001b[39m: audio,\n\u001b[32m   2035\u001b[39m             \u001b[33m\"\u001b[39m\u001b[33mfrequency_penalty\u001b[39m\u001b[33m\"\u001b[39m: frequency_penalty,\n\u001b[32m   2036\u001b[39m             \u001b[33m\"\u001b[39m\u001b[33mfunction_call\u001b[39m\u001b[33m\"\u001b[39m: function_call,\n\u001b[32m   2037\u001b[39m             \u001b[33m\"\u001b[39m\u001b[33mfunctions\u001b[39m\u001b[33m\"\u001b[39m: functions,\n\u001b[32m   2038\u001b[39m             \u001b[33m\"\u001b[39m\u001b[33mlogit_bias\u001b[39m\u001b[33m\"\u001b[39m: logit_bias,\n\u001b[32m   2039\u001b[39m             \u001b[33m\"\u001b[39m\u001b[33mlogprobs\u001b[39m\u001b[33m\"\u001b[39m: logprobs,\n\u001b[32m   2040\u001b[39m             \u001b[33m\"\u001b[39m\u001b[33mmax_completion_tokens\u001b[39m\u001b[33m\"\u001b[39m: max_completion_tokens,\n\u001b[32m   2041\u001b[39m             \u001b[33m\"\u001b[39m\u001b[33mmax_tokens\u001b[39m\u001b[33m\"\u001b[39m: max_tokens,\n\u001b[32m   2042\u001b[39m             \u001b[33m\"\u001b[39m\u001b[33mmetadata\u001b[39m\u001b[33m\"\u001b[39m: metadata,\n\u001b[32m   2043\u001b[39m             \u001b[33m\"\u001b[39m\u001b[33mmodalities\u001b[39m\u001b[33m\"\u001b[39m: modalities,\n\u001b[32m   2044\u001b[39m             \u001b[33m\"\u001b[39m\u001b[33mn\u001b[39m\u001b[33m\"\u001b[39m: n,\n\u001b[32m   2045\u001b[39m             \u001b[33m\"\u001b[39m\u001b[33mparallel_tool_calls\u001b[39m\u001b[33m\"\u001b[39m: parallel_tool_calls,\n\u001b[32m   2046\u001b[39m             \u001b[33m\"\u001b[39m\u001b[33mprediction\u001b[39m\u001b[33m\"\u001b[39m: prediction,\n\u001b[32m   2047\u001b[39m             \u001b[33m\"\u001b[39m\u001b[33mpresence_penalty\u001b[39m\u001b[33m\"\u001b[39m: presence_penalty,\n\u001b[32m   2048\u001b[39m             \u001b[33m\"\u001b[39m\u001b[33mreasoning_effort\u001b[39m\u001b[33m\"\u001b[39m: reasoning_effort,\n\u001b[32m   2049\u001b[39m             \u001b[33m\"\u001b[39m\u001b[33mresponse_format\u001b[39m\u001b[33m\"\u001b[39m: response_format,\n\u001b[32m   2050\u001b[39m             \u001b[33m\"\u001b[39m\u001b[33mseed\u001b[39m\u001b[33m\"\u001b[39m: seed,\n\u001b[32m   2051\u001b[39m             \u001b[33m\"\u001b[39m\u001b[33mservice_tier\u001b[39m\u001b[33m\"\u001b[39m: service_tier,\n\u001b[32m   2052\u001b[39m             \u001b[33m\"\u001b[39m\u001b[33mstop\u001b[39m\u001b[33m\"\u001b[39m: stop,\n\u001b[32m   2053\u001b[39m             \u001b[33m\"\u001b[39m\u001b[33mstore\u001b[39m\u001b[33m\"\u001b[39m: store,\n\u001b[32m   2054\u001b[39m             \u001b[33m\"\u001b[39m\u001b[33mstream\u001b[39m\u001b[33m\"\u001b[39m: stream,\n\u001b[32m   2055\u001b[39m             \u001b[33m\"\u001b[39m\u001b[33mstream_options\u001b[39m\u001b[33m\"\u001b[39m: stream_options,\n\u001b[32m   2056\u001b[39m             \u001b[33m\"\u001b[39m\u001b[33mtemperature\u001b[39m\u001b[33m\"\u001b[39m: temperature,\n\u001b[32m   2057\u001b[39m             \u001b[33m\"\u001b[39m\u001b[33mtool_choice\u001b[39m\u001b[33m\"\u001b[39m: tool_choice,\n\u001b[32m   2058\u001b[39m             \u001b[33m\"\u001b[39m\u001b[33mtools\u001b[39m\u001b[33m\"\u001b[39m: tools,\n\u001b[32m   2059\u001b[39m             \u001b[33m\"\u001b[39m\u001b[33mtop_logprobs\u001b[39m\u001b[33m\"\u001b[39m: top_logprobs,\n\u001b[32m   2060\u001b[39m             \u001b[33m\"\u001b[39m\u001b[33mtop_p\u001b[39m\u001b[33m\"\u001b[39m: top_p,\n\u001b[32m   2061\u001b[39m             \u001b[33m\"\u001b[39m\u001b[33muser\u001b[39m\u001b[33m\"\u001b[39m: user,\n\u001b[32m   2062\u001b[39m             \u001b[33m\"\u001b[39m\u001b[33mweb_search_options\u001b[39m\u001b[33m\"\u001b[39m: web_search_options,\n\u001b[32m   2063\u001b[39m         },\n\u001b[32m   2064\u001b[39m         completion_create_params.CompletionCreateParamsStreaming\n\u001b[32m   2065\u001b[39m         \u001b[38;5;28;01mif\u001b[39;00m stream\n\u001b[32m   2066\u001b[39m         \u001b[38;5;28;01melse\u001b[39;00m completion_create_params.CompletionCreateParamsNonStreaming,\n\u001b[32m   2067\u001b[39m     ),\n\u001b[32m   2068\u001b[39m     options=make_request_options(\n\u001b[32m   2069\u001b[39m         extra_headers=extra_headers, extra_query=extra_query, extra_body=extra_body, timeout=timeout\n\u001b[32m   2070\u001b[39m     ),\n\u001b[32m   2071\u001b[39m     cast_to=ChatCompletion,\n\u001b[32m   2072\u001b[39m     stream=stream \u001b[38;5;129;01mor\u001b[39;00m \u001b[38;5;28;01mFalse\u001b[39;00m,\n\u001b[32m   2073\u001b[39m     stream_cls=AsyncStream[ChatCompletionChunk],\n\u001b[32m   2074\u001b[39m )\n",
      "\u001b[36mFile \u001b[39m\u001b[32m~/Code/agent_framework_testing/.venv/lib/python3.12/site-packages/openai/_base_client.py:1742\u001b[39m, in \u001b[36mAsyncAPIClient.post\u001b[39m\u001b[34m(self, path, cast_to, body, files, options, stream, stream_cls)\u001b[39m\n\u001b[32m   1739\u001b[39m opts = FinalRequestOptions.construct(\n\u001b[32m   1740\u001b[39m     method=\u001b[33m\"\u001b[39m\u001b[33mpost\u001b[39m\u001b[33m\"\u001b[39m, url=path, json_data=body, files=\u001b[38;5;28;01mawait\u001b[39;00m async_to_httpx_files(files), **options\n\u001b[32m   1741\u001b[39m )\n\u001b[32m-> \u001b[39m\u001b[32m1742\u001b[39m \u001b[38;5;28;01mreturn\u001b[39;00m \u001b[38;5;28;01mawait\u001b[39;00m \u001b[38;5;28mself\u001b[39m.request(cast_to, opts, stream=stream, stream_cls=stream_cls)\n",
      "\u001b[36mFile \u001b[39m\u001b[32m~/Code/agent_framework_testing/.venv/lib/python3.12/site-packages/openai/_base_client.py:1549\u001b[39m, in \u001b[36mAsyncAPIClient.request\u001b[39m\u001b[34m(self, cast_to, options, stream, stream_cls)\u001b[39m\n\u001b[32m   1548\u001b[39m     log.debug(\u001b[33m\"\u001b[39m\u001b[33mRe-raising status error\u001b[39m\u001b[33m\"\u001b[39m)\n\u001b[32m-> \u001b[39m\u001b[32m1549\u001b[39m     \u001b[38;5;28;01mraise\u001b[39;00m \u001b[38;5;28mself\u001b[39m._make_status_error_from_response(err.response) \u001b[38;5;28;01mfrom\u001b[39;00m\u001b[38;5;250m \u001b[39m\u001b[38;5;28;01mNone\u001b[39;00m\n\u001b[32m   1551\u001b[39m \u001b[38;5;28;01mbreak\u001b[39;00m\n",
      "\u001b[31mInternalServerError\u001b[39m: Error code: 500 - {'error': {'code': 500, 'message': 'Conversation roles must alternate user/assistant/user/assistant/... at row 19, column 27:\\n    {%- if (message[\\'role\\'] == \\'user\\') != (loop.index0 % 2 == 0) -%}\\n        {{ raise_exception(\"Conversation roles must alternate user/assistant/user/assistant/...\") }}\\n                          ^\\n    {%- endif -%}\\n at row 19, column 9:\\n    {%- if (message[\\'role\\'] == \\'user\\') != (loop.index0 % 2 == 0) -%}\\n        {{ raise_exception(\"Conversation roles must alternate user/assistant/user/assistant/...\") }}\\n        ^\\n    {%- endif -%}\\n at row 18, column 69:\\n{%- for message in loop_messages -%}\\n    {%- if (message[\\'role\\'] == \\'user\\') != (loop.index0 % 2 == 0) -%}\\n                                                                    ^\\n        {{ raise_exception(\"Conversation roles must alternate user/assistant/user/assistant/...\") }}\\n at row 18, column 5:\\n{%- for message in loop_messages -%}\\n    {%- if (message[\\'role\\'] == \\'user\\') != (loop.index0 % 2 == 0) -%}\\n    ^\\n        {{ raise_exception(\"Conversation roles must alternate user/assistant/user/assistant/...\") }}\\n at row 17, column 37:\\n{%- endif -%}\\n{%- for message in loop_messages -%}\\n                                    ^\\n    {%- if (message[\\'role\\'] == \\'user\\') != (loop.index0 % 2 == 0) -%}\\n at row 17, column 1:\\n{%- endif -%}\\n{%- for message in loop_messages -%}\\n^\\n    {%- if (message[\\'role\\'] == \\'user\\') != (loop.index0 % 2 == 0) -%}\\n at row 1, column 1:\\n{{ bos_token }}\\n^\\n{%- if messages[0][\\'role\\'] == \\'system\\' -%}\\n', 'type': 'server_error'}}",
      "\nDuring handling of the above exception, another exception occurred:\n",
      "\u001b[31mOpenAIError\u001b[39m                               Traceback (most recent call last)",
      "\u001b[36mFile \u001b[39m\u001b[32m~/Code/agent_framework_testing/.venv/lib/python3.12/site-packages/litellm/main.py:510\u001b[39m, in \u001b[36macompletion\u001b[39m\u001b[34m(model, messages, functions, function_call, timeout, temperature, top_p, n, stream, stream_options, stop, max_tokens, max_completion_tokens, modalities, prediction, audio, presence_penalty, frequency_penalty, logit_bias, user, response_format, seed, tools, tool_choice, parallel_tool_calls, logprobs, top_logprobs, deployment_id, reasoning_effort, base_url, api_version, api_key, model_list, extra_headers, thinking, web_search_options, **kwargs)\u001b[39m\n\u001b[32m    509\u001b[39m \u001b[38;5;28;01melif\u001b[39;00m asyncio.iscoroutine(init_response):\n\u001b[32m--> \u001b[39m\u001b[32m510\u001b[39m     response = \u001b[38;5;28;01mawait\u001b[39;00m init_response\n\u001b[32m    511\u001b[39m \u001b[38;5;28;01melse\u001b[39;00m:\n",
      "\u001b[36mFile \u001b[39m\u001b[32m~/Code/agent_framework_testing/.venv/lib/python3.12/site-packages/litellm/llms/openai/openai.py:848\u001b[39m, in \u001b[36mOpenAIChatCompletion.acompletion\u001b[39m\u001b[34m(self, messages, optional_params, litellm_params, provider_config, model, model_response, logging_obj, timeout, api_key, api_base, api_version, organization, client, max_retries, headers, drop_params, stream_options, fake_stream)\u001b[39m\n\u001b[32m    846\u001b[39m message = \u001b[38;5;28mgetattr\u001b[39m(e, \u001b[33m\"\u001b[39m\u001b[33mmessage\u001b[39m\u001b[33m\"\u001b[39m, \u001b[38;5;28mstr\u001b[39m(e))\n\u001b[32m--> \u001b[39m\u001b[32m848\u001b[39m \u001b[38;5;28;01mraise\u001b[39;00m OpenAIError(\n\u001b[32m    849\u001b[39m     status_code=status_code,\n\u001b[32m    850\u001b[39m     message=message,\n\u001b[32m    851\u001b[39m     headers=error_headers,\n\u001b[32m    852\u001b[39m     body=exception_body,\n\u001b[32m    853\u001b[39m )\n",
      "\u001b[31mOpenAIError\u001b[39m: Error code: 500 - {'error': {'code': 500, 'message': 'Conversation roles must alternate user/assistant/user/assistant/... at row 19, column 27:\\n    {%- if (message[\\'role\\'] == \\'user\\') != (loop.index0 % 2 == 0) -%}\\n        {{ raise_exception(\"Conversation roles must alternate user/assistant/user/assistant/...\") }}\\n                          ^\\n    {%- endif -%}\\n at row 19, column 9:\\n    {%- if (message[\\'role\\'] == \\'user\\') != (loop.index0 % 2 == 0) -%}\\n        {{ raise_exception(\"Conversation roles must alternate user/assistant/user/assistant/...\") }}\\n        ^\\n    {%- endif -%}\\n at row 18, column 69:\\n{%- for message in loop_messages -%}\\n    {%- if (message[\\'role\\'] == \\'user\\') != (loop.index0 % 2 == 0) -%}\\n                                                                    ^\\n        {{ raise_exception(\"Conversation roles must alternate user/assistant/user/assistant/...\") }}\\n at row 18, column 5:\\n{%- for message in loop_messages -%}\\n    {%- if (message[\\'role\\'] == \\'user\\') != (loop.index0 % 2 == 0) -%}\\n    ^\\n        {{ raise_exception(\"Conversation roles must alternate user/assistant/user/assistant/...\") }}\\n at row 17, column 37:\\n{%- endif -%}\\n{%- for message in loop_messages -%}\\n                                    ^\\n    {%- if (message[\\'role\\'] == \\'user\\') != (loop.index0 % 2 == 0) -%}\\n at row 17, column 1:\\n{%- endif -%}\\n{%- for message in loop_messages -%}\\n^\\n    {%- if (message[\\'role\\'] == \\'user\\') != (loop.index0 % 2 == 0) -%}\\n at row 1, column 1:\\n{{ bos_token }}\\n^\\n{%- if messages[0][\\'role\\'] == \\'system\\' -%}\\n', 'type': 'server_error'}}",
      "\nDuring handling of the above exception, another exception occurred:\n",
      "\u001b[31mAPIError\u001b[39m                                  Traceback (most recent call last)",
      "\u001b[36mCell\u001b[39m\u001b[36m \u001b[39m\u001b[32mIn[79]\u001b[39m\u001b[32m, line 48\u001b[39m\n\u001b[32m     45\u001b[39m         draw_graph(seeker_agent)\n\u001b[32m     46\u001b[39m         \u001b[38;5;28;01mawait\u001b[39;00m multi_turn_conversation(seeker_agent, full_history)\n\u001b[32m---> \u001b[39m\u001b[32m48\u001b[39m \u001b[43masyncio\u001b[49m\u001b[43m.\u001b[49m\u001b[43mrun\u001b[49m\u001b[43m(\u001b[49m\u001b[43mmain\u001b[49m\u001b[43m(\u001b[49m\u001b[43mfull_history\u001b[49m\u001b[43m)\u001b[49m\u001b[43m)\u001b[49m\n",
      "\u001b[36mFile \u001b[39m\u001b[32m~/Code/agent_framework_testing/.venv/lib/python3.12/site-packages/nest_asyncio.py:30\u001b[39m, in \u001b[36m_patch_asyncio.<locals>.run\u001b[39m\u001b[34m(main, debug)\u001b[39m\n\u001b[32m     28\u001b[39m task = asyncio.ensure_future(main)\n\u001b[32m     29\u001b[39m \u001b[38;5;28;01mtry\u001b[39;00m:\n\u001b[32m---> \u001b[39m\u001b[32m30\u001b[39m     \u001b[38;5;28;01mreturn\u001b[39;00m \u001b[43mloop\u001b[49m\u001b[43m.\u001b[49m\u001b[43mrun_until_complete\u001b[49m\u001b[43m(\u001b[49m\u001b[43mtask\u001b[49m\u001b[43m)\u001b[49m\n\u001b[32m     31\u001b[39m \u001b[38;5;28;01mfinally\u001b[39;00m:\n\u001b[32m     32\u001b[39m     \u001b[38;5;28;01mif\u001b[39;00m \u001b[38;5;129;01mnot\u001b[39;00m task.done():\n",
      "\u001b[36mFile \u001b[39m\u001b[32m~/Code/agent_framework_testing/.venv/lib/python3.12/site-packages/nest_asyncio.py:98\u001b[39m, in \u001b[36m_patch_loop.<locals>.run_until_complete\u001b[39m\u001b[34m(self, future)\u001b[39m\n\u001b[32m     95\u001b[39m \u001b[38;5;28;01mif\u001b[39;00m \u001b[38;5;129;01mnot\u001b[39;00m f.done():\n\u001b[32m     96\u001b[39m     \u001b[38;5;28;01mraise\u001b[39;00m \u001b[38;5;167;01mRuntimeError\u001b[39;00m(\n\u001b[32m     97\u001b[39m         \u001b[33m'\u001b[39m\u001b[33mEvent loop stopped before Future completed.\u001b[39m\u001b[33m'\u001b[39m)\n\u001b[32m---> \u001b[39m\u001b[32m98\u001b[39m \u001b[38;5;28;01mreturn\u001b[39;00m \u001b[43mf\u001b[49m\u001b[43m.\u001b[49m\u001b[43mresult\u001b[49m\u001b[43m(\u001b[49m\u001b[43m)\u001b[49m\n",
      "\u001b[36mFile \u001b[39m\u001b[32m~/.local/share/uv/python/cpython-3.12.10-macos-aarch64-none/lib/python3.12/asyncio/futures.py:202\u001b[39m, in \u001b[36mFuture.result\u001b[39m\u001b[34m(self)\u001b[39m\n\u001b[32m    200\u001b[39m \u001b[38;5;28mself\u001b[39m.__log_traceback = \u001b[38;5;28;01mFalse\u001b[39;00m\n\u001b[32m    201\u001b[39m \u001b[38;5;28;01mif\u001b[39;00m \u001b[38;5;28mself\u001b[39m._exception \u001b[38;5;129;01mis\u001b[39;00m \u001b[38;5;129;01mnot\u001b[39;00m \u001b[38;5;28;01mNone\u001b[39;00m:\n\u001b[32m--> \u001b[39m\u001b[32m202\u001b[39m     \u001b[38;5;28;01mraise\u001b[39;00m \u001b[38;5;28mself\u001b[39m._exception.with_traceback(\u001b[38;5;28mself\u001b[39m._exception_tb)\n\u001b[32m    203\u001b[39m \u001b[38;5;28;01mreturn\u001b[39;00m \u001b[38;5;28mself\u001b[39m._result\n",
      "\u001b[36mFile \u001b[39m\u001b[32m~/.local/share/uv/python/cpython-3.12.10-macos-aarch64-none/lib/python3.12/asyncio/tasks.py:314\u001b[39m, in \u001b[36mTask.__step_run_and_handle_result\u001b[39m\u001b[34m(***failed resolving arguments***)\u001b[39m\n\u001b[32m    310\u001b[39m \u001b[38;5;28;01mtry\u001b[39;00m:\n\u001b[32m    311\u001b[39m     \u001b[38;5;28;01mif\u001b[39;00m exc \u001b[38;5;129;01mis\u001b[39;00m \u001b[38;5;28;01mNone\u001b[39;00m:\n\u001b[32m    312\u001b[39m         \u001b[38;5;66;03m# We use the `send` method directly, because coroutines\u001b[39;00m\n\u001b[32m    313\u001b[39m         \u001b[38;5;66;03m# don't have `__iter__` and `__next__` methods.\u001b[39;00m\n\u001b[32m--> \u001b[39m\u001b[32m314\u001b[39m         result = \u001b[43mcoro\u001b[49m\u001b[43m.\u001b[49m\u001b[43msend\u001b[49m\u001b[43m(\u001b[49m\u001b[38;5;28;43;01mNone\u001b[39;49;00m\u001b[43m)\u001b[49m\n\u001b[32m    315\u001b[39m     \u001b[38;5;28;01melse\u001b[39;00m:\n\u001b[32m    316\u001b[39m         result = coro.throw(exc)\n",
      "\u001b[36mCell\u001b[39m\u001b[36m \u001b[39m\u001b[32mIn[79]\u001b[39m\u001b[32m, line 46\u001b[39m, in \u001b[36mmain\u001b[39m\u001b[34m(full_history)\u001b[39m\n\u001b[32m     28\u001b[39m seeker_agent = Agent(\n\u001b[32m     29\u001b[39m     name = \u001b[33m\"\u001b[39m\u001b[33mseeker_agent\u001b[39m\u001b[33m\"\u001b[39m,\n\u001b[32m     30\u001b[39m     instructions = (\n\u001b[32m   (...)\u001b[39m\u001b[32m     43\u001b[39m     \u001b[38;5;66;03m#output_type = RAGFormat,\u001b[39;00m\n\u001b[32m     44\u001b[39m )\n\u001b[32m     45\u001b[39m draw_graph(seeker_agent)\n\u001b[32m---> \u001b[39m\u001b[32m46\u001b[39m \u001b[38;5;28;01mawait\u001b[39;00m multi_turn_conversation(seeker_agent, full_history)\n",
      "\u001b[36mCell\u001b[39m\u001b[36m \u001b[39m\u001b[32mIn[74]\u001b[39m\u001b[32m, line 59\u001b[39m, in \u001b[36mmulti_turn_conversation\u001b[39m\u001b[34m(start_agent, full_history)\u001b[39m\n\u001b[32m     57\u001b[39m \u001b[38;5;66;03m#convo = get_visible_messages(convo)\u001b[39;00m\n\u001b[32m     58\u001b[39m \u001b[38;5;28mprint\u001b[39m(\u001b[33mf\u001b[39m\u001b[33m\"\u001b[39m\u001b[33mInput conversation: \u001b[39m\u001b[38;5;132;01m{\u001b[39;00mconvo\u001b[38;5;132;01m}\u001b[39;00m\u001b[33m\"\u001b[39m)\n\u001b[32m---> \u001b[39m\u001b[32m59\u001b[39m result = \u001b[38;5;28;01mawait\u001b[39;00m Runner.run(starting_agent = start_agent, \u001b[38;5;28minput\u001b[39m = convo)\n\u001b[32m     60\u001b[39m \u001b[38;5;28mprint\u001b[39m(\u001b[33mf\u001b[39m\u001b[33m\"\u001b[39m\u001b[33mAgent: \u001b[39m\u001b[38;5;132;01m{\u001b[39;00mresult.final_output\u001b[38;5;132;01m}\u001b[39;00m\u001b[33m\"\u001b[39m)\n\u001b[32m     61\u001b[39m \u001b[38;5;66;03m#convo = result.to_input_list()\u001b[39;00m\n",
      "\u001b[36mFile \u001b[39m\u001b[32m~/Code/agent_framework_testing/.venv/lib/python3.12/site-packages/agents/run.py:218\u001b[39m, in \u001b[36mRunner.run\u001b[39m\u001b[34m(cls, starting_agent, input, context, max_turns, hooks, run_config, previous_response_id)\u001b[39m\n\u001b[32m    213\u001b[39m logger.debug(\n\u001b[32m    214\u001b[39m     \u001b[33mf\u001b[39m\u001b[33m\"\u001b[39m\u001b[33mRunning agent \u001b[39m\u001b[38;5;132;01m{\u001b[39;00mcurrent_agent.name\u001b[38;5;132;01m}\u001b[39;00m\u001b[33m (turn \u001b[39m\u001b[38;5;132;01m{\u001b[39;00mcurrent_turn\u001b[38;5;132;01m}\u001b[39;00m\u001b[33m)\u001b[39m\u001b[33m\"\u001b[39m,\n\u001b[32m    215\u001b[39m )\n\u001b[32m    217\u001b[39m \u001b[38;5;28;01mif\u001b[39;00m current_turn == \u001b[32m1\u001b[39m:\n\u001b[32m--> \u001b[39m\u001b[32m218\u001b[39m     input_guardrail_results, turn_result = \u001b[38;5;28;01mawait\u001b[39;00m asyncio.gather(\n\u001b[32m    219\u001b[39m         \u001b[38;5;28mcls\u001b[39m._run_input_guardrails(\n\u001b[32m    220\u001b[39m             starting_agent,\n\u001b[32m    221\u001b[39m             starting_agent.input_guardrails\n\u001b[32m    222\u001b[39m             + (run_config.input_guardrails \u001b[38;5;129;01mor\u001b[39;00m []),\n\u001b[32m    223\u001b[39m             copy.deepcopy(\u001b[38;5;28minput\u001b[39m),\n\u001b[32m    224\u001b[39m             context_wrapper,\n\u001b[32m    225\u001b[39m         ),\n\u001b[32m    226\u001b[39m         \u001b[38;5;28mcls\u001b[39m._run_single_turn(\n\u001b[32m    227\u001b[39m             agent=current_agent,\n\u001b[32m    228\u001b[39m             all_tools=all_tools,\n\u001b[32m    229\u001b[39m             original_input=original_input,\n\u001b[32m    230\u001b[39m             generated_items=generated_items,\n\u001b[32m    231\u001b[39m             hooks=hooks,\n\u001b[32m    232\u001b[39m             context_wrapper=context_wrapper,\n\u001b[32m    233\u001b[39m             run_config=run_config,\n\u001b[32m    234\u001b[39m             should_run_agent_start_hooks=should_run_agent_start_hooks,\n\u001b[32m    235\u001b[39m             tool_use_tracker=tool_use_tracker,\n\u001b[32m    236\u001b[39m             previous_response_id=previous_response_id,\n\u001b[32m    237\u001b[39m         ),\n\u001b[32m    238\u001b[39m     )\n\u001b[32m    239\u001b[39m \u001b[38;5;28;01melse\u001b[39;00m:\n\u001b[32m    240\u001b[39m     turn_result = \u001b[38;5;28;01mawait\u001b[39;00m \u001b[38;5;28mcls\u001b[39m._run_single_turn(\n\u001b[32m    241\u001b[39m         agent=current_agent,\n\u001b[32m    242\u001b[39m         all_tools=all_tools,\n\u001b[32m   (...)\u001b[39m\u001b[32m    250\u001b[39m         previous_response_id=previous_response_id,\n\u001b[32m    251\u001b[39m     )\n",
      "\u001b[36mFile \u001b[39m\u001b[32m~/.local/share/uv/python/cpython-3.12.10-macos-aarch64-none/lib/python3.12/asyncio/tasks.py:385\u001b[39m, in \u001b[36mTask.__wakeup\u001b[39m\u001b[34m(self, future)\u001b[39m\n\u001b[32m    383\u001b[39m \u001b[38;5;28;01mdef\u001b[39;00m\u001b[38;5;250m \u001b[39m\u001b[34m__wakeup\u001b[39m(\u001b[38;5;28mself\u001b[39m, future):\n\u001b[32m    384\u001b[39m     \u001b[38;5;28;01mtry\u001b[39;00m:\n\u001b[32m--> \u001b[39m\u001b[32m385\u001b[39m         \u001b[43mfuture\u001b[49m\u001b[43m.\u001b[49m\u001b[43mresult\u001b[49m\u001b[43m(\u001b[49m\u001b[43m)\u001b[49m\n\u001b[32m    386\u001b[39m     \u001b[38;5;28;01mexcept\u001b[39;00m \u001b[38;5;167;01mBaseException\u001b[39;00m \u001b[38;5;28;01mas\u001b[39;00m exc:\n\u001b[32m    387\u001b[39m         \u001b[38;5;66;03m# This may also be a cancellation.\u001b[39;00m\n\u001b[32m    388\u001b[39m         \u001b[38;5;28mself\u001b[39m.__step(exc)\n",
      "\u001b[36mFile \u001b[39m\u001b[32m~/.local/share/uv/python/cpython-3.12.10-macos-aarch64-none/lib/python3.12/asyncio/tasks.py:314\u001b[39m, in \u001b[36mTask.__step_run_and_handle_result\u001b[39m\u001b[34m(***failed resolving arguments***)\u001b[39m\n\u001b[32m    310\u001b[39m \u001b[38;5;28;01mtry\u001b[39;00m:\n\u001b[32m    311\u001b[39m     \u001b[38;5;28;01mif\u001b[39;00m exc \u001b[38;5;129;01mis\u001b[39;00m \u001b[38;5;28;01mNone\u001b[39;00m:\n\u001b[32m    312\u001b[39m         \u001b[38;5;66;03m# We use the `send` method directly, because coroutines\u001b[39;00m\n\u001b[32m    313\u001b[39m         \u001b[38;5;66;03m# don't have `__iter__` and `__next__` methods.\u001b[39;00m\n\u001b[32m--> \u001b[39m\u001b[32m314\u001b[39m         result = \u001b[43mcoro\u001b[49m\u001b[43m.\u001b[49m\u001b[43msend\u001b[49m\u001b[43m(\u001b[49m\u001b[38;5;28;43;01mNone\u001b[39;49;00m\u001b[43m)\u001b[49m\n\u001b[32m    315\u001b[39m     \u001b[38;5;28;01melse\u001b[39;00m:\n\u001b[32m    316\u001b[39m         result = coro.throw(exc)\n",
      "\u001b[36mFile \u001b[39m\u001b[32m~/Code/agent_framework_testing/.venv/lib/python3.12/site-packages/agents/run.py:762\u001b[39m, in \u001b[36mRunner._run_single_turn\u001b[39m\u001b[34m(cls, agent, all_tools, original_input, generated_items, hooks, context_wrapper, run_config, should_run_agent_start_hooks, tool_use_tracker, previous_response_id)\u001b[39m\n\u001b[32m    759\u001b[39m \u001b[38;5;28minput\u001b[39m = ItemHelpers.input_to_new_input_list(original_input)\n\u001b[32m    760\u001b[39m \u001b[38;5;28minput\u001b[39m.extend([generated_item.to_input_item() \u001b[38;5;28;01mfor\u001b[39;00m generated_item \u001b[38;5;129;01min\u001b[39;00m generated_items])\n\u001b[32m--> \u001b[39m\u001b[32m762\u001b[39m new_response = \u001b[38;5;28;01mawait\u001b[39;00m \u001b[38;5;28mcls\u001b[39m._get_new_response(\n\u001b[32m    763\u001b[39m     agent,\n\u001b[32m    764\u001b[39m     system_prompt,\n\u001b[32m    765\u001b[39m     \u001b[38;5;28minput\u001b[39m,\n\u001b[32m    766\u001b[39m     output_schema,\n\u001b[32m    767\u001b[39m     all_tools,\n\u001b[32m    768\u001b[39m     handoffs,\n\u001b[32m    769\u001b[39m     context_wrapper,\n\u001b[32m    770\u001b[39m     run_config,\n\u001b[32m    771\u001b[39m     tool_use_tracker,\n\u001b[32m    772\u001b[39m     previous_response_id,\n\u001b[32m    773\u001b[39m )\n\u001b[32m    775\u001b[39m \u001b[38;5;28;01mreturn\u001b[39;00m \u001b[38;5;28;01mawait\u001b[39;00m \u001b[38;5;28mcls\u001b[39m._get_single_step_result_from_response(\n\u001b[32m    776\u001b[39m     agent=agent,\n\u001b[32m    777\u001b[39m     original_input=original_input,\n\u001b[32m   (...)\u001b[39m\u001b[32m    786\u001b[39m     tool_use_tracker=tool_use_tracker,\n\u001b[32m    787\u001b[39m )\n",
      "\u001b[36mFile \u001b[39m\u001b[32m~/Code/agent_framework_testing/.venv/lib/python3.12/site-packages/agents/run.py:921\u001b[39m, in \u001b[36mRunner._get_new_response\u001b[39m\u001b[34m(cls, agent, system_prompt, input, output_schema, all_tools, handoffs, context_wrapper, run_config, tool_use_tracker, previous_response_id)\u001b[39m\n\u001b[32m    918\u001b[39m model_settings = agent.model_settings.resolve(run_config.model_settings)\n\u001b[32m    919\u001b[39m model_settings = RunImpl.maybe_reset_tool_choice(agent, tool_use_tracker, model_settings)\n\u001b[32m--> \u001b[39m\u001b[32m921\u001b[39m new_response = \u001b[38;5;28;01mawait\u001b[39;00m model.get_response(\n\u001b[32m    922\u001b[39m     system_instructions=system_prompt,\n\u001b[32m    923\u001b[39m     \u001b[38;5;28minput\u001b[39m=\u001b[38;5;28minput\u001b[39m,\n\u001b[32m    924\u001b[39m     model_settings=model_settings,\n\u001b[32m    925\u001b[39m     tools=all_tools,\n\u001b[32m    926\u001b[39m     output_schema=output_schema,\n\u001b[32m    927\u001b[39m     handoffs=handoffs,\n\u001b[32m    928\u001b[39m     tracing=get_model_tracing_impl(\n\u001b[32m    929\u001b[39m         run_config.tracing_disabled, run_config.trace_include_sensitive_data\n\u001b[32m    930\u001b[39m     ),\n\u001b[32m    931\u001b[39m     previous_response_id=previous_response_id,\n\u001b[32m    932\u001b[39m )\n\u001b[32m    934\u001b[39m context_wrapper.usage.add(new_response.usage)\n\u001b[32m    936\u001b[39m \u001b[38;5;28;01mreturn\u001b[39;00m new_response\n",
      "\u001b[36mFile \u001b[39m\u001b[32m~/Code/agent_framework_testing/.venv/lib/python3.12/site-packages/agents/extensions/models/litellm_model.py:82\u001b[39m, in \u001b[36mLitellmModel.get_response\u001b[39m\u001b[34m(self, system_instructions, input, model_settings, tools, output_schema, handoffs, tracing, previous_response_id)\u001b[39m\n\u001b[32m     65\u001b[39m \u001b[38;5;28;01masync\u001b[39;00m \u001b[38;5;28;01mdef\u001b[39;00m\u001b[38;5;250m \u001b[39m\u001b[34mget_response\u001b[39m(\n\u001b[32m     66\u001b[39m     \u001b[38;5;28mself\u001b[39m,\n\u001b[32m     67\u001b[39m     system_instructions: \u001b[38;5;28mstr\u001b[39m | \u001b[38;5;28;01mNone\u001b[39;00m,\n\u001b[32m   (...)\u001b[39m\u001b[32m     74\u001b[39m     previous_response_id: \u001b[38;5;28mstr\u001b[39m | \u001b[38;5;28;01mNone\u001b[39;00m,\n\u001b[32m     75\u001b[39m ) -> ModelResponse:\n\u001b[32m     76\u001b[39m     \u001b[38;5;28;01mwith\u001b[39;00m generation_span(\n\u001b[32m     77\u001b[39m         model=\u001b[38;5;28mstr\u001b[39m(\u001b[38;5;28mself\u001b[39m.model),\n\u001b[32m     78\u001b[39m         model_config=model_settings.to_json_dict()\n\u001b[32m     79\u001b[39m         | {\u001b[33m\"\u001b[39m\u001b[33mbase_url\u001b[39m\u001b[33m\"\u001b[39m: \u001b[38;5;28mstr\u001b[39m(\u001b[38;5;28mself\u001b[39m.base_url \u001b[38;5;129;01mor\u001b[39;00m \u001b[33m\"\u001b[39m\u001b[33m\"\u001b[39m), \u001b[33m\"\u001b[39m\u001b[33mmodel_impl\u001b[39m\u001b[33m\"\u001b[39m: \u001b[33m\"\u001b[39m\u001b[33mlitellm\u001b[39m\u001b[33m\"\u001b[39m},\n\u001b[32m     80\u001b[39m         disabled=tracing.is_disabled(),\n\u001b[32m     81\u001b[39m     ) \u001b[38;5;28;01mas\u001b[39;00m span_generation:\n\u001b[32m---> \u001b[39m\u001b[32m82\u001b[39m         response = \u001b[38;5;28;01mawait\u001b[39;00m \u001b[38;5;28mself\u001b[39m._fetch_response(\n\u001b[32m     83\u001b[39m             system_instructions,\n\u001b[32m     84\u001b[39m             \u001b[38;5;28minput\u001b[39m,\n\u001b[32m     85\u001b[39m             model_settings,\n\u001b[32m     86\u001b[39m             tools,\n\u001b[32m     87\u001b[39m             output_schema,\n\u001b[32m     88\u001b[39m             handoffs,\n\u001b[32m     89\u001b[39m             span_generation,\n\u001b[32m     90\u001b[39m             tracing,\n\u001b[32m     91\u001b[39m             stream=\u001b[38;5;28;01mFalse\u001b[39;00m,\n\u001b[32m     92\u001b[39m         )\n\u001b[32m     94\u001b[39m         \u001b[38;5;28;01massert\u001b[39;00m \u001b[38;5;28misinstance\u001b[39m(response.choices[\u001b[32m0\u001b[39m], litellm.types.utils.Choices)\n\u001b[32m     96\u001b[39m         \u001b[38;5;28;01mif\u001b[39;00m _debug.DONT_LOG_MODEL_DATA:\n",
      "\u001b[36mFile \u001b[39m\u001b[32m~/Code/agent_framework_testing/.venv/lib/python3.12/site-packages/agents/extensions/models/litellm_model.py:286\u001b[39m, in \u001b[36mLitellmModel._fetch_response\u001b[39m\u001b[34m(self, system_instructions, input, model_settings, tools, output_schema, handoffs, span, tracing, stream)\u001b[39m\n\u001b[32m    283\u001b[39m \u001b[38;5;28;01mif\u001b[39;00m model_settings.extra_body \u001b[38;5;129;01mand\u001b[39;00m \u001b[38;5;28misinstance\u001b[39m(model_settings.extra_body, \u001b[38;5;28mdict\u001b[39m):\n\u001b[32m    284\u001b[39m     extra_kwargs.update(model_settings.extra_body)\n\u001b[32m--> \u001b[39m\u001b[32m286\u001b[39m ret = \u001b[38;5;28;01mawait\u001b[39;00m litellm.acompletion(\n\u001b[32m    287\u001b[39m     model=\u001b[38;5;28mself\u001b[39m.model,\n\u001b[32m    288\u001b[39m     messages=converted_messages,\n\u001b[32m    289\u001b[39m     tools=converted_tools \u001b[38;5;129;01mor\u001b[39;00m \u001b[38;5;28;01mNone\u001b[39;00m,\n\u001b[32m    290\u001b[39m     temperature=model_settings.temperature,\n\u001b[32m    291\u001b[39m     top_p=model_settings.top_p,\n\u001b[32m    292\u001b[39m     frequency_penalty=model_settings.frequency_penalty,\n\u001b[32m    293\u001b[39m     presence_penalty=model_settings.presence_penalty,\n\u001b[32m    294\u001b[39m     max_tokens=model_settings.max_tokens,\n\u001b[32m    295\u001b[39m     tool_choice=\u001b[38;5;28mself\u001b[39m._remove_not_given(tool_choice),\n\u001b[32m    296\u001b[39m     response_format=\u001b[38;5;28mself\u001b[39m._remove_not_given(response_format),\n\u001b[32m    297\u001b[39m     parallel_tool_calls=parallel_tool_calls,\n\u001b[32m    298\u001b[39m     stream=stream,\n\u001b[32m    299\u001b[39m     stream_options=stream_options,\n\u001b[32m    300\u001b[39m     reasoning_effort=reasoning_effort,\n\u001b[32m    301\u001b[39m     extra_headers={**HEADERS, **(model_settings.extra_headers \u001b[38;5;129;01mor\u001b[39;00m {})},\n\u001b[32m    302\u001b[39m     api_key=\u001b[38;5;28mself\u001b[39m.api_key,\n\u001b[32m    303\u001b[39m     base_url=\u001b[38;5;28mself\u001b[39m.base_url,\n\u001b[32m    304\u001b[39m     **extra_kwargs,\n\u001b[32m    305\u001b[39m )\n\u001b[32m    307\u001b[39m \u001b[38;5;28;01mif\u001b[39;00m \u001b[38;5;28misinstance\u001b[39m(ret, litellm.types.utils.ModelResponse):\n\u001b[32m    308\u001b[39m     \u001b[38;5;28;01mreturn\u001b[39;00m ret\n",
      "\u001b[36mFile \u001b[39m\u001b[32m~/Code/agent_framework_testing/.venv/lib/python3.12/site-packages/litellm/utils.py:1491\u001b[39m, in \u001b[36mclient.<locals>.wrapper_async\u001b[39m\u001b[34m(*args, **kwargs)\u001b[39m\n\u001b[32m   1489\u001b[39m timeout = _get_wrapper_timeout(kwargs=kwargs, exception=e)\n\u001b[32m   1490\u001b[39m \u001b[38;5;28msetattr\u001b[39m(e, \u001b[33m\"\u001b[39m\u001b[33mtimeout\u001b[39m\u001b[33m\"\u001b[39m, timeout)\n\u001b[32m-> \u001b[39m\u001b[32m1491\u001b[39m \u001b[38;5;28;01mraise\u001b[39;00m e\n",
      "\u001b[36mFile \u001b[39m\u001b[32m~/Code/agent_framework_testing/.venv/lib/python3.12/site-packages/litellm/utils.py:1352\u001b[39m, in \u001b[36mclient.<locals>.wrapper_async\u001b[39m\u001b[34m(*args, **kwargs)\u001b[39m\n\u001b[32m   1349\u001b[39m     \u001b[38;5;28;01mreturn\u001b[39;00m _caching_handler_response.final_embedding_cached_response\n\u001b[32m   1351\u001b[39m \u001b[38;5;66;03m# MODEL CALL\u001b[39;00m\n\u001b[32m-> \u001b[39m\u001b[32m1352\u001b[39m result = \u001b[38;5;28;01mawait\u001b[39;00m original_function(*args, **kwargs)\n\u001b[32m   1353\u001b[39m end_time = datetime.datetime.now()\n\u001b[32m   1354\u001b[39m \u001b[38;5;28;01mif\u001b[39;00m \u001b[33m\"\u001b[39m\u001b[33mstream\u001b[39m\u001b[33m\"\u001b[39m \u001b[38;5;129;01min\u001b[39;00m kwargs \u001b[38;5;129;01mand\u001b[39;00m kwargs[\u001b[33m\"\u001b[39m\u001b[33mstream\u001b[39m\u001b[33m\"\u001b[39m] \u001b[38;5;129;01mis\u001b[39;00m \u001b[38;5;28;01mTrue\u001b[39;00m:\n",
      "\u001b[36mFile \u001b[39m\u001b[32m~/Code/agent_framework_testing/.venv/lib/python3.12/site-packages/litellm/main.py:529\u001b[39m, in \u001b[36macompletion\u001b[39m\u001b[34m(model, messages, functions, function_call, timeout, temperature, top_p, n, stream, stream_options, stop, max_tokens, max_completion_tokens, modalities, prediction, audio, presence_penalty, frequency_penalty, logit_bias, user, response_format, seed, tools, tool_choice, parallel_tool_calls, logprobs, top_logprobs, deployment_id, reasoning_effort, base_url, api_version, api_key, model_list, extra_headers, thinking, web_search_options, **kwargs)\u001b[39m\n\u001b[32m    527\u001b[39m \u001b[38;5;28;01mexcept\u001b[39;00m \u001b[38;5;167;01mException\u001b[39;00m \u001b[38;5;28;01mas\u001b[39;00m e:\n\u001b[32m    528\u001b[39m     custom_llm_provider = custom_llm_provider \u001b[38;5;129;01mor\u001b[39;00m \u001b[33m\"\u001b[39m\u001b[33mopenai\u001b[39m\u001b[33m\"\u001b[39m\n\u001b[32m--> \u001b[39m\u001b[32m529\u001b[39m     \u001b[38;5;28;01mraise\u001b[39;00m \u001b[43mexception_type\u001b[49m\u001b[43m(\u001b[49m\n\u001b[32m    530\u001b[39m \u001b[43m        \u001b[49m\u001b[43mmodel\u001b[49m\u001b[43m=\u001b[49m\u001b[43mmodel\u001b[49m\u001b[43m,\u001b[49m\n\u001b[32m    531\u001b[39m \u001b[43m        \u001b[49m\u001b[43mcustom_llm_provider\u001b[49m\u001b[43m=\u001b[49m\u001b[43mcustom_llm_provider\u001b[49m\u001b[43m,\u001b[49m\n\u001b[32m    532\u001b[39m \u001b[43m        \u001b[49m\u001b[43moriginal_exception\u001b[49m\u001b[43m=\u001b[49m\u001b[43me\u001b[49m\u001b[43m,\u001b[49m\n\u001b[32m    533\u001b[39m \u001b[43m        \u001b[49m\u001b[43mcompletion_kwargs\u001b[49m\u001b[43m=\u001b[49m\u001b[43mcompletion_kwargs\u001b[49m\u001b[43m,\u001b[49m\n\u001b[32m    534\u001b[39m \u001b[43m        \u001b[49m\u001b[43mextra_kwargs\u001b[49m\u001b[43m=\u001b[49m\u001b[43mkwargs\u001b[49m\u001b[43m,\u001b[49m\n\u001b[32m    535\u001b[39m \u001b[43m    \u001b[49m\u001b[43m)\u001b[49m\n",
      "\u001b[36mFile \u001b[39m\u001b[32m~/Code/agent_framework_testing/.venv/lib/python3.12/site-packages/litellm/litellm_core_utils/exception_mapping_utils.py:2232\u001b[39m, in \u001b[36mexception_type\u001b[39m\u001b[34m(model, original_exception, custom_llm_provider, completion_kwargs, extra_kwargs)\u001b[39m\n\u001b[32m   2230\u001b[39m \u001b[38;5;28;01mif\u001b[39;00m exception_mapping_worked:\n\u001b[32m   2231\u001b[39m     \u001b[38;5;28msetattr\u001b[39m(e, \u001b[33m\"\u001b[39m\u001b[33mlitellm_response_headers\u001b[39m\u001b[33m\"\u001b[39m, litellm_response_headers)\n\u001b[32m-> \u001b[39m\u001b[32m2232\u001b[39m     \u001b[38;5;28;01mraise\u001b[39;00m e\n\u001b[32m   2233\u001b[39m \u001b[38;5;28;01melse\u001b[39;00m:\n\u001b[32m   2234\u001b[39m     \u001b[38;5;28;01mfor\u001b[39;00m error_type \u001b[38;5;129;01min\u001b[39;00m litellm.LITELLM_EXCEPTION_TYPES:\n",
      "\u001b[36mFile \u001b[39m\u001b[32m~/Code/agent_framework_testing/.venv/lib/python3.12/site-packages/litellm/litellm_core_utils/exception_mapping_utils.py:467\u001b[39m, in \u001b[36mexception_type\u001b[39m\u001b[34m(model, original_exception, custom_llm_provider, completion_kwargs, extra_kwargs)\u001b[39m\n\u001b[32m    465\u001b[39m     \u001b[38;5;28;01melse\u001b[39;00m:\n\u001b[32m    466\u001b[39m         exception_mapping_worked = \u001b[38;5;28;01mTrue\u001b[39;00m\n\u001b[32m--> \u001b[39m\u001b[32m467\u001b[39m         \u001b[38;5;28;01mraise\u001b[39;00m APIError(\n\u001b[32m    468\u001b[39m             status_code=original_exception.status_code,\n\u001b[32m    469\u001b[39m             message=\u001b[33mf\u001b[39m\u001b[33m\"\u001b[39m\u001b[33mAPIError: \u001b[39m\u001b[38;5;132;01m{\u001b[39;00mexception_provider\u001b[38;5;132;01m}\u001b[39;00m\u001b[33m - \u001b[39m\u001b[38;5;132;01m{\u001b[39;00mmessage\u001b[38;5;132;01m}\u001b[39;00m\u001b[33m\"\u001b[39m,\n\u001b[32m    470\u001b[39m             llm_provider=custom_llm_provider,\n\u001b[32m    471\u001b[39m             model=model,\n\u001b[32m    472\u001b[39m             request=\u001b[38;5;28mgetattr\u001b[39m(original_exception, \u001b[33m\"\u001b[39m\u001b[33mrequest\u001b[39m\u001b[33m\"\u001b[39m, \u001b[38;5;28;01mNone\u001b[39;00m),\n\u001b[32m    473\u001b[39m             litellm_debug_info=extra_information,\n\u001b[32m    474\u001b[39m         )\n\u001b[32m    475\u001b[39m \u001b[38;5;28;01melse\u001b[39;00m:\n\u001b[32m    476\u001b[39m     \u001b[38;5;66;03m# if no status code then it is an APIConnectionError: https://github.com/openai/openai-python#handling-errors\u001b[39;00m\n\u001b[32m    477\u001b[39m     \u001b[38;5;66;03m# exception_mapping_worked = True\u001b[39;00m\n\u001b[32m    478\u001b[39m     \u001b[38;5;28;01mraise\u001b[39;00m APIConnectionError(\n\u001b[32m    479\u001b[39m         message=\u001b[33mf\u001b[39m\u001b[33m\"\u001b[39m\u001b[33mAPIConnectionError: \u001b[39m\u001b[38;5;132;01m{\u001b[39;00mexception_provider\u001b[38;5;132;01m}\u001b[39;00m\u001b[33m - \u001b[39m\u001b[38;5;132;01m{\u001b[39;00mmessage\u001b[38;5;132;01m}\u001b[39;00m\u001b[33m\"\u001b[39m,\n\u001b[32m    480\u001b[39m         llm_provider=custom_llm_provider,\n\u001b[32m   (...)\u001b[39m\u001b[32m    485\u001b[39m         ),\n\u001b[32m    486\u001b[39m     )\n",
      "\u001b[31mAPIError\u001b[39m: litellm.APIError: APIError: OpenAIException - Conversation roles must alternate user/assistant/user/assistant/... at row 19, column 27:\n    {%- if (message['role'] == 'user') != (loop.index0 % 2 == 0) -%}\n        {{ raise_exception(\"Conversation roles must alternate user/assistant/user/assistant/...\") }}\n                          ^\n    {%- endif -%}\n at row 19, column 9:\n    {%- if (message['role'] == 'user') != (loop.index0 % 2 == 0) -%}\n        {{ raise_exception(\"Conversation roles must alternate user/assistant/user/assistant/...\") }}\n        ^\n    {%- endif -%}\n at row 18, column 69:\n{%- for message in loop_messages -%}\n    {%- if (message['role'] == 'user') != (loop.index0 % 2 == 0) -%}\n                                                                    ^\n        {{ raise_exception(\"Conversation roles must alternate user/assistant/user/assistant/...\") }}\n at row 18, column 5:\n{%- for message in loop_messages -%}\n    {%- if (message['role'] == 'user') != (loop.index0 % 2 == 0) -%}\n    ^\n        {{ raise_exception(\"Conversation roles must alternate user/assistant/user/assistant/...\") }}\n at row 17, column 37:\n{%- endif -%}\n{%- for message in loop_messages -%}\n                                    ^\n    {%- if (message['role'] == 'user') != (loop.index0 % 2 == 0) -%}\n at row 17, column 1:\n{%- endif -%}\n{%- for message in loop_messages -%}\n^\n    {%- if (message['role'] == 'user') != (loop.index0 % 2 == 0) -%}\n at row 1, column 1:\n{{ bos_token }}\n^\n{%- if messages[0]['role'] == 'system' -%}\n"
     ]
    }
   ],
   "source": [
    "asyncio.run(main(full_history))"
   ]
  }
 ],
 "metadata": {
  "kernelspec": {
   "display_name": "Python(AgentFramework)",
   "language": "python",
   "name": "agent_framework"
  },
  "language_info": {
   "codemirror_mode": {
    "name": "ipython",
    "version": 3
   },
   "file_extension": ".py",
   "mimetype": "text/x-python",
   "name": "python",
   "nbconvert_exporter": "python",
   "pygments_lexer": "ipython3",
   "version": "3.12.10"
  }
 },
 "nbformat": 4,
 "nbformat_minor": 5
}
